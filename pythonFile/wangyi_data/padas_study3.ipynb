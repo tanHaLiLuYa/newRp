{
    "cells": [
        {
            "cell_type": "code",
            "execution_count": 1,
            "source": [
                "import pandas as pd \r\n",
                "import numpy as np\r\n",
                "\r\n",
                "\r\n",
                "df = pd.DataFrame({'key1':[4,5,\"A\",np.nan,2],\r\n",
                "                 'key2':[1,2,np.nan,4,5],\r\n",
                "                 'key3':[1,2,3,4,4]},\r\n",
                "                 index = ['a','b','c','d','e'])\r\n",
                "print(df)\r\n",
                "print(df['key1'].dtype,df['key2'].dtype,df['key3'].dtype)\r\n",
                "print('-----')\r\n",
                "\r\n",
                "m1 = df.mean()\r\n",
                "print(m1,type(m1))\r\n",
                "print('单独统计一列:',df['key2'].mean())\r\n",
                "print('-----')\r\n",
                "\r\n",
                "# np.nan ：空值\r\n",
                "# .mean()计算均值\r\n",
                "# 只统计数字列 不统计非数字列\r\n",
                "# 可以通过索引单独统计一列\r\n",
                "\r\n",
                "m2 = df.mean(axis=1)\r\n",
                "print(m2)\r\n",
                "print('-----')\r\n",
                "# axis参数：默认为0，以列来计算，axis=1，以行来计算，这里就按照行来汇总了\r\n",
                "\r\n",
                "m3 = df.mean(skipna=False)\r\n",
                "print(m3)\r\n",
                "print('-----')\r\n",
                "# skipna参数：是否忽略NaN，默认True，如False，有NaN的列统计结果仍未NaN"
            ],
            "outputs": [
                {
                    "output_type": "stream",
                    "name": "stdout",
                    "text": [
                        "  key1  key2  key3\n",
                        "a    4   1.0     1\n",
                        "b    5   2.0     2\n",
                        "c    A   NaN     3\n",
                        "d  NaN   4.0     4\n",
                        "e    2   5.0     4\n",
                        "object float64 int64\n",
                        "-----\n",
                        "key2    3.0\n",
                        "key3    2.8\n",
                        "dtype: float64 <class 'pandas.core.series.Series'>\n",
                        "单独统计一列: 3.0\n",
                        "-----\n",
                        "a    1.0\n",
                        "b    2.0\n",
                        "c    3.0\n",
                        "d    4.0\n",
                        "e    4.5\n",
                        "dtype: float64\n",
                        "-----\n",
                        "key2    NaN\n",
                        "key3    2.8\n",
                        "dtype: float64\n",
                        "-----\n"
                    ]
                }
            ],
            "metadata": {}
        },
        {
            "cell_type": "code",
            "execution_count": 39,
            "source": [],
            "outputs": [
                {
                    "output_type": "error",
                    "ename": "AttributeError",
                    "evalue": "'DataFrame' object has no attribute 'unique'",
                    "traceback": [
                        "\u001b[1;31m---------------------------------------------------------------------------\u001b[0m",
                        "\u001b[1;31mAttributeError\u001b[0m                            Traceback (most recent call last)",
                        "\u001b[1;32m<ipython-input-39-897a9db29bab>\u001b[0m in \u001b[0;36m<module>\u001b[1;34m\u001b[0m\n\u001b[0;32m      1\u001b[0m \u001b[0mdf\u001b[0m \u001b[1;33m=\u001b[0m \u001b[0mpd\u001b[0m\u001b[1;33m.\u001b[0m\u001b[0mDataFrame\u001b[0m\u001b[1;33m(\u001b[0m\u001b[1;33m{\u001b[0m\u001b[1;34m\"A\"\u001b[0m\u001b[1;33m:\u001b[0m\u001b[1;33m[\u001b[0m\u001b[1;36m1\u001b[0m\u001b[1;33m,\u001b[0m\u001b[1;36m2\u001b[0m\u001b[1;33m,\u001b[0m\u001b[1;36m4\u001b[0m\u001b[1;33m]\u001b[0m\u001b[1;33m,\u001b[0m\u001b[1;34m\"B\"\u001b[0m\u001b[1;33m:\u001b[0m\u001b[1;33m[\u001b[0m\u001b[1;36m1\u001b[0m\u001b[1;33m,\u001b[0m\u001b[1;36m1\u001b[0m\u001b[1;33m,\u001b[0m\u001b[1;36m4\u001b[0m\u001b[1;33m]\u001b[0m\u001b[1;33m}\u001b[0m\u001b[1;33m)\u001b[0m\u001b[1;33m\u001b[0m\u001b[1;33m\u001b[0m\u001b[0m\n\u001b[1;32m----> 2\u001b[1;33m \u001b[0mprint\u001b[0m\u001b[1;33m(\u001b[0m\u001b[0mdf\u001b[0m\u001b[1;33m.\u001b[0m\u001b[0munique\u001b[0m\u001b[1;33m)\u001b[0m\u001b[1;33m\u001b[0m\u001b[1;33m\u001b[0m\u001b[0m\n\u001b[0m",
                        "\u001b[1;32mD:\\rz\\anaconda\\lib\\site-packages\\pandas\\core\\generic.py\u001b[0m in \u001b[0;36m__getattr__\u001b[1;34m(self, name)\u001b[0m\n\u001b[0;32m   5065\u001b[0m             \u001b[1;32mif\u001b[0m \u001b[0mself\u001b[0m\u001b[1;33m.\u001b[0m\u001b[0m_info_axis\u001b[0m\u001b[1;33m.\u001b[0m\u001b[0m_can_hold_identifiers_and_holds_name\u001b[0m\u001b[1;33m(\u001b[0m\u001b[0mname\u001b[0m\u001b[1;33m)\u001b[0m\u001b[1;33m:\u001b[0m\u001b[1;33m\u001b[0m\u001b[1;33m\u001b[0m\u001b[0m\n\u001b[0;32m   5066\u001b[0m                 \u001b[1;32mreturn\u001b[0m \u001b[0mself\u001b[0m\u001b[1;33m[\u001b[0m\u001b[0mname\u001b[0m\u001b[1;33m]\u001b[0m\u001b[1;33m\u001b[0m\u001b[1;33m\u001b[0m\u001b[0m\n\u001b[1;32m-> 5067\u001b[1;33m             \u001b[1;32mreturn\u001b[0m \u001b[0mobject\u001b[0m\u001b[1;33m.\u001b[0m\u001b[0m__getattribute__\u001b[0m\u001b[1;33m(\u001b[0m\u001b[0mself\u001b[0m\u001b[1;33m,\u001b[0m \u001b[0mname\u001b[0m\u001b[1;33m)\u001b[0m\u001b[1;33m\u001b[0m\u001b[1;33m\u001b[0m\u001b[0m\n\u001b[0m\u001b[0;32m   5068\u001b[0m \u001b[1;33m\u001b[0m\u001b[0m\n\u001b[0;32m   5069\u001b[0m     \u001b[1;32mdef\u001b[0m \u001b[0m__setattr__\u001b[0m\u001b[1;33m(\u001b[0m\u001b[0mself\u001b[0m\u001b[1;33m,\u001b[0m \u001b[0mname\u001b[0m\u001b[1;33m,\u001b[0m \u001b[0mvalue\u001b[0m\u001b[1;33m)\u001b[0m\u001b[1;33m:\u001b[0m\u001b[1;33m\u001b[0m\u001b[1;33m\u001b[0m\u001b[0m\n",
                        "\u001b[1;31mAttributeError\u001b[0m: 'DataFrame' object has no attribute 'unique'"
                    ]
                }
            ],
            "metadata": {}
        },
        {
            "cell_type": "code",
            "execution_count": 8,
            "source": [
                "\r\n",
                "# 主要数学计算方法，可用于Series和DataFrame（1）\r\n",
                "df = pd.DataFrame({'key1':np.arange(10),\r\n",
                "                  'key2':np.random.rand(10)*10})\r\n",
                "print(df)\r\n",
                "print('-----')\r\n",
                "\r\n",
                "print(df.count(),'→ count统计非Na值的数量\\n')\r\n",
                "print(df.min(),'→ min统计最小值\\n',df['key2'].max(),'→ max统计最大值\\n')\r\n",
                "print(df.quantile(q=0.75),'→ quantile统计分位数，参数q确定位置\\n')\r\n",
                "print(df.sum(),'→ sum求和\\n')\r\n",
                "print(df.mean(),'→ mean求平均值\\n')\r\n",
                "print(df.median(),'→ median求算数中位数，50%分位数\\n')\r\n",
                "print(df.std(),'\\n',df.var(),'→ std,var分别求标准差，方差\\n')\r\n",
                "print(df.skew(),'→ skew样本的偏度\\n')\r\n",
                "print(df.kurt(),'→ kurt样本的峰度\\n')"
            ],
            "outputs": [
                {
                    "output_type": "stream",
                    "name": "stdout",
                    "text": [
                        "   key1      key2\n",
                        "0     0  8.481007\n",
                        "1     1  7.967572\n",
                        "2     2  6.539849\n",
                        "3     3  4.236277\n",
                        "4     4  4.206914\n",
                        "5     5  7.559349\n",
                        "6     6  5.057374\n",
                        "7     7  1.700504\n",
                        "8     8  8.907502\n",
                        "9     9  4.596091\n",
                        "-----\n",
                        "key1    10\n",
                        "key2    10\n",
                        "dtype: int64 → count统计非Na值的数量\n",
                        "\n",
                        "key1    0.000000\n",
                        "key2    1.700504\n",
                        "dtype: float64 → min统计最小值\n",
                        " 8.907502338970918 → max统计最大值\n",
                        "\n",
                        "key1    6.750000\n",
                        "key2    7.865516\n",
                        "Name: 0.75, dtype: float64 → quantile统计分位数，参数q确定位置\n",
                        "\n",
                        "key1    45.000000\n",
                        "key2    59.252439\n",
                        "dtype: float64 → sum求和\n",
                        "\n",
                        "key1    4.500000\n",
                        "key2    5.925244\n",
                        "dtype: float64 → mean求平均值\n",
                        "\n",
                        "key1    4.500000\n",
                        "key2    5.798612\n",
                        "dtype: float64 → median求算数中位数，50%分位数\n",
                        "\n",
                        "key1    3.027650\n",
                        "key2    2.329007\n",
                        "dtype: float64 \n",
                        " key1    9.166667\n",
                        "key2    5.424275\n",
                        "dtype: float64 → std,var分别求标准差，方差\n",
                        "\n",
                        "key1    0.000000\n",
                        "key2   -0.351434\n",
                        "dtype: float64 → skew样本的偏度\n",
                        "\n",
                        "key1   -1.200000\n",
                        "key2   -0.737554\n",
                        "dtype: float64 → kurt样本的峰度\n",
                        "\n"
                    ]
                }
            ],
            "metadata": {}
        },
        {
            "cell_type": "code",
            "execution_count": 9,
            "source": [
                "# 主要数学计算方法，可用于Series和DataFrame（2）\r\n",
                "\r\n",
                "df['key1_s'] = df['key1'].cumsum()\r\n",
                "df['key2_s'] = df['key2'].cumsum()\r\n",
                "print(df,'→ cumsum样本的累计和\\n')\r\n",
                "\r\n",
                "df['key1_p'] = df['key1'].cumprod()\r\n",
                "df['key2_p'] = df['key2'].cumprod()\r\n",
                "print(df,'→ cumprod样本的累计积\\n')\r\n",
                "\r\n",
                "print(df.cummax(),'\\n',df.cummin(),'→ cummax,cummin分别求累计最大值，累计最小值\\n')\r\n",
                "# 会填充key1，和key2的值"
            ],
            "outputs": [
                {
                    "output_type": "stream",
                    "name": "stdout",
                    "text": [
                        "   key1      key2  key1_s     key2_s\n",
                        "0     0  8.481007       0   8.481007\n",
                        "1     1  7.967572       1  16.448579\n",
                        "2     2  6.539849       3  22.988428\n",
                        "3     3  4.236277       6  27.224705\n",
                        "4     4  4.206914      10  31.431619\n",
                        "5     5  7.559349      15  38.990967\n",
                        "6     6  5.057374      21  44.048342\n",
                        "7     7  1.700504      28  45.748845\n",
                        "8     8  8.907502      36  54.656348\n",
                        "9     9  4.596091      45  59.252439 → cumsum样本的累计和\n",
                        "\n",
                        "   key1      key2  key1_s     key2_s  key1_p        key2_p\n",
                        "0     0  8.481007       0   8.481007       0  8.481007e+00\n",
                        "1     1  7.967572       1  16.448579       0  6.757303e+01\n",
                        "2     2  6.539849       3  22.988428       0  4.419174e+02\n",
                        "3     3  4.236277       6  27.224705       0  1.872085e+03\n",
                        "4     4  4.206914      10  31.431619       0  7.875699e+03\n",
                        "5     5  7.559349      15  38.990967       0  5.953515e+04\n",
                        "6     6  5.057374      21  44.048342       0  3.010915e+05\n",
                        "7     7  1.700504      28  45.748845       0  5.120073e+05\n",
                        "8     8  8.907502      36  54.656348       0  4.560707e+06\n",
                        "9     9  4.596091      45  59.252439       0  2.096142e+07 → cumprod样本的累计积\n",
                        "\n",
                        "   key1      key2  key1_s     key2_s  key1_p        key2_p\n",
                        "0   0.0  8.481007     0.0   8.481007     0.0  8.481007e+00\n",
                        "1   1.0  8.481007     1.0  16.448579     0.0  6.757303e+01\n",
                        "2   2.0  8.481007     3.0  22.988428     0.0  4.419174e+02\n",
                        "3   3.0  8.481007     6.0  27.224705     0.0  1.872085e+03\n",
                        "4   4.0  8.481007    10.0  31.431619     0.0  7.875699e+03\n",
                        "5   5.0  8.481007    15.0  38.990967     0.0  5.953515e+04\n",
                        "6   6.0  8.481007    21.0  44.048342     0.0  3.010915e+05\n",
                        "7   7.0  8.481007    28.0  45.748845     0.0  5.120073e+05\n",
                        "8   8.0  8.907502    36.0  54.656348     0.0  4.560707e+06\n",
                        "9   9.0  8.907502    45.0  59.252439     0.0  2.096142e+07 \n",
                        "    key1      key2  key1_s    key2_s  key1_p    key2_p\n",
                        "0   0.0  8.481007     0.0  8.481007     0.0  8.481007\n",
                        "1   0.0  7.967572     0.0  8.481007     0.0  8.481007\n",
                        "2   0.0  6.539849     0.0  8.481007     0.0  8.481007\n",
                        "3   0.0  4.236277     0.0  8.481007     0.0  8.481007\n",
                        "4   0.0  4.206914     0.0  8.481007     0.0  8.481007\n",
                        "5   0.0  4.206914     0.0  8.481007     0.0  8.481007\n",
                        "6   0.0  4.206914     0.0  8.481007     0.0  8.481007\n",
                        "7   0.0  1.700504     0.0  8.481007     0.0  8.481007\n",
                        "8   0.0  1.700504     0.0  8.481007     0.0  8.481007\n",
                        "9   0.0  1.700504     0.0  8.481007     0.0  8.481007 → cummax,cummin分别求累计最大值，累计最小值\n",
                        "\n"
                    ]
                }
            ],
            "metadata": {}
        },
        {
            "cell_type": "code",
            "execution_count": 11,
            "source": [
                "# 唯一值：.unique()\r\n",
                "\r\n",
                "s = pd.Series(list('hello'))\r\n",
                "sq = s.unique()\r\n",
                "print(s)\r\n",
                "print(sq,type(sq))\r\n",
                "print(pd.Series(sq))\r\n",
                "# 得到一个唯一值数组\r\n",
                "# 通过pd.Series重新变成新的Series\r\n",
                "\r\n",
                "sq.sort()\r\n",
                "print(sq)\r\n",
                "# 重新排序"
            ],
            "outputs": [
                {
                    "output_type": "stream",
                    "name": "stdout",
                    "text": [
                        "0    h\n",
                        "1    e\n",
                        "2    l\n",
                        "3    l\n",
                        "4    o\n",
                        "dtype: object\n",
                        "['h' 'e' 'l' 'o'] <class 'numpy.ndarray'>\n",
                        "0    h\n",
                        "1    e\n",
                        "2    l\n",
                        "3    o\n",
                        "dtype: object\n",
                        "['e' 'h' 'l' 'o']\n"
                    ]
                }
            ],
            "metadata": {}
        },
        {
            "cell_type": "code",
            "execution_count": 12,
            "source": [
                "# 值计数：.value_counts()\r\n",
                "\r\n",
                "sc = s.value_counts(sort = False)  # 也可以这样写：pd.value_counts(sc, sort = False)\r\n",
                "print(sc)\r\n",
                "# 得到一个新的Series，计算出不同值出现的频率\r\n",
                "# sort参数：排序，默认为True"
            ],
            "outputs": [
                {
                    "output_type": "stream",
                    "name": "stdout",
                    "text": [
                        "h    1\n",
                        "l    2\n",
                        "e    1\n",
                        "o    1\n",
                        "dtype: int64\n"
                    ]
                }
            ],
            "metadata": {}
        },
        {
            "cell_type": "code",
            "execution_count": 13,
            "source": [
                "# 成员资格：.isin()\r\n",
                "\r\n",
                "s = pd.Series(np.arange(10,15))\r\n",
                "df = pd.DataFrame({'key1':list('asdcbvasd'),\r\n",
                "                  'key2':np.arange(4,13)})\r\n",
                "print(s)\r\n",
                "print(df)\r\n",
                "print('-----')\r\n",
                "\r\n",
                "print(s.isin([5,14]))\r\n",
                "print(df.isin(['a','bc','10',8]))\r\n",
                "# 用[]表示\r\n",
                "# 得到一个布尔值的Series或者Dataframe"
            ],
            "outputs": [
                {
                    "output_type": "stream",
                    "name": "stdout",
                    "text": [
                        "0    10\n",
                        "1    11\n",
                        "2    12\n",
                        "3    13\n",
                        "4    14\n",
                        "dtype: int32\n",
                        "  key1  key2\n",
                        "0    a     4\n",
                        "1    s     5\n",
                        "2    d     6\n",
                        "3    c     7\n",
                        "4    b     8\n",
                        "5    v     9\n",
                        "6    a    10\n",
                        "7    s    11\n",
                        "8    d    12\n",
                        "-----\n",
                        "0    False\n",
                        "1    False\n",
                        "2    False\n",
                        "3    False\n",
                        "4     True\n",
                        "dtype: bool\n",
                        "    key1   key2\n",
                        "0   True  False\n",
                        "1  False  False\n",
                        "2  False  False\n",
                        "3  False  False\n",
                        "4  False   True\n",
                        "5  False  False\n",
                        "6   True  False\n",
                        "7  False  False\n",
                        "8  False  False\n"
                    ]
                }
            ],
            "metadata": {}
        },
        {
            "cell_type": "code",
            "execution_count": 46,
            "source": [
                "# zuoye \r\n",
                "# \t作业1：如图创建一个Dataframe（5*2，值为0-100的随机值），并分别计算key1和key2的均值、中位数、累积和\r\n",
                "\r\n",
                "df = pd.DataFrame(np.random.rand(5,2)*100,columns=['k1','k2'])\r\n",
                "# print(df)\r\n",
                "# print(df['k1'].mean())\r\n",
                "# print(df['k2'].mean())\r\n",
                "# print(df['k1'].median())\r\n",
                "# print(df['k2'].median())\r\n",
                "df['k1_cumsum']=df['k1'].cumsum()\r\n",
                "# print(df)\r\n",
                "\r\n",
                "input_str = input()\r\n",
                "s =pd.Series(input_str.split(','))\r\n",
                "\r\n",
                "def isUnique(s):\r\n",
                "    s2 = s.unique()\r\n",
                "    if len(s2) == len(s) :\r\n",
                "        print(True)\r\n",
                "    else:\r\n",
                "        print(False)\r\n",
                "isUnique(s)\r\n",
                "# isUnique()"
            ],
            "outputs": [
                {
                    "output_type": "stream",
                    "name": "stdout",
                    "text": [
                        "False\n"
                    ]
                }
            ],
            "metadata": {}
        },
        {
            "cell_type": "code",
            "execution_count": 2,
            "source": [
                "'''\r\n",
                "【课程2.15】  文本数据\r\n",
                "\r\n",
                "Pandas针对字\r\n",
                "\r\n",
                "符串配备的一套方法，使其易于对数组的每个元素进行操作\r\n",
                " \r\n",
                "'''"
            ],
            "outputs": [
                {
                    "output_type": "execute_result",
                    "data": {
                        "text/plain": [
                            "'\\n【课程2.15】  文本数据\\n\\nPandas针对字符串配备的一套方法，使其易于对数组的每个元素进行操作\\n \\n'"
                        ]
                    },
                    "metadata": {},
                    "execution_count": 2
                }
            ],
            "metadata": {}
        },
        {
            "cell_type": "code",
            "execution_count": 8,
            "source": [
                "# 通过str访问，且自动排除丢失/ NA值\r\n",
                "\r\n",
                "s = pd.Series(['A','b','C','bbhello','123',np.nan,'hj'])\r\n",
                "df = pd.DataFrame({'key1':list('abcdef'),\r\n",
                "                  'key2':['hee','fv','w','hija','123',np.nan]},\r\n",
                "                  index=list(\"abcdef\"))\r\n",
                "# print(s)\r\n",
                "# print(df)\r\n",
                "# print('-----')\r\n",
                "\r\n",
                "# print(s.str.count('b'))\r\n",
                "# print(df['key2'].str.upper())\r\n",
                "# print('-----')\r\n",
                "# 直接通过.str调用字符串方法\r\n",
                "# 可以对Series、Dataframe使用\r\n",
                "# 自动过滤NaN值\r\n",
                "df.index = df.index.str.upper()\r\n",
                "df.columns = df.columns.str.upper()\r\n",
                "print(df)\r\n",
                "\r\n",
                "# df.columns 或df.index 是一个Index对象，也可使用.str"
            ],
            "outputs": [
                {
                    "output_type": "stream",
                    "name": "stdout",
                    "text": [
                        "  KEY1  KEY2\n",
                        "A    a   hee\n",
                        "B    b    fv\n",
                        "C    c     w\n",
                        "D    d  hija\n",
                        "E    e   123\n",
                        "F    f   NaN\n"
                    ]
                }
            ],
            "metadata": {}
        },
        {
            "cell_type": "code",
            "execution_count": 9,
            "source": [
                "# 字符串常用方法（1） - lower，upper，len，startswith，endswith\r\n",
                "\r\n",
                "s = pd.Series(['A','b','bbhello','123',np.nan])\r\n",
                "\r\n",
                "print(s.str.lower(),'→ lower小写\\n')\r\n",
                "print(s.str.upper(),'→ upper大写\\n')\r\n",
                "print(s.str.len(),'→ len字符长度\\n')\r\n",
                "print(s.str.startswith('b'),'→ 判断起始是否为a\\n')\r\n",
                "print(s.str.endswith('3'),'→ 判断结束是否为3\\n')"
            ],
            "outputs": [
                {
                    "output_type": "stream",
                    "name": "stdout",
                    "text": [
                        "0          a\n",
                        "1          b\n",
                        "2    bbhello\n",
                        "3        123\n",
                        "4        NaN\n",
                        "dtype: object → lower小写\n",
                        "\n",
                        "0          A\n",
                        "1          B\n",
                        "2    BBHELLO\n",
                        "3        123\n",
                        "4        NaN\n",
                        "dtype: object → upper大写\n",
                        "\n",
                        "0    1.0\n",
                        "1    1.0\n",
                        "2    7.0\n",
                        "3    3.0\n",
                        "4    NaN\n",
                        "dtype: float64 → len字符长度\n",
                        "\n",
                        "0    False\n",
                        "1     True\n",
                        "2     True\n",
                        "3    False\n",
                        "4      NaN\n",
                        "dtype: object → 判断起始是否为a\n",
                        "\n",
                        "0    False\n",
                        "1    False\n",
                        "2    False\n",
                        "3     True\n",
                        "4      NaN\n",
                        "dtype: object → 判断结束是否为3\n",
                        "\n"
                    ]
                }
            ],
            "metadata": {}
        },
        {
            "cell_type": "code",
            "execution_count": 10,
            "source": [
                "# 字符串常用方法（2） - strip\r\n",
                "\r\n",
                "s = pd.Series([' jack', 'jill ', ' jesse ', 'frank'])\r\n",
                "df = pd.DataFrame(np.random.randn(3, 2), columns=[' Column A ', ' Column B '],\r\n",
                "                  index=range(3))\r\n",
                "print(s)\r\n",
                "print(df)\r\n",
                "print('-----')\r\n",
                "\r\n",
                "print(s.str.strip())  # 去除字符串中的空格\r\n",
                "print(s.str.lstrip())  # 去除字符串中的左空格\r\n",
                "print(s.str.rstrip())  # 去除字符串中的右空格\r\n",
                "\r\n",
                "df.columns = df.columns.str.strip()\r\n",
                "print(df)\r\n",
                "# 这里去掉了columns的前后空格，但没有去掉中间空格"
            ],
            "outputs": [
                {
                    "output_type": "stream",
                    "name": "stdout",
                    "text": [
                        "0       jack\n",
                        "1      jill \n",
                        "2     jesse \n",
                        "3      frank\n",
                        "dtype: object\n",
                        "    Column A    Column B \n",
                        "0    1.941317   -0.345961\n",
                        "1    0.508510    0.374626\n",
                        "2    0.895237   -0.731476\n",
                        "-----\n",
                        "0     jack\n",
                        "1     jill\n",
                        "2    jesse\n",
                        "3    frank\n",
                        "dtype: object\n",
                        "0      jack\n",
                        "1     jill \n",
                        "2    jesse \n",
                        "3     frank\n",
                        "dtype: object\n",
                        "0      jack\n",
                        "1      jill\n",
                        "2     jesse\n",
                        "3     frank\n",
                        "dtype: object\n",
                        "   Column A  Column B\n",
                        "0  1.941317 -0.345961\n",
                        "1  0.508510  0.374626\n",
                        "2  0.895237 -0.731476\n"
                    ]
                }
            ],
            "metadata": {}
        },
        {
            "cell_type": "code",
            "execution_count": 13,
            "source": [
                "# 字符串常用方法（3） - replace\r\n",
                "\r\n",
                "df = pd.DataFrame(np.random.randn(3, 2), columns=[' Column A ', ' Column B '],\r\n",
                "                  index=range(3))\r\n",
                "\r\n",
                "df.columns = df.columns.str.strip()\r\n",
                "df.columns = df.columns.str.replace(' ','-')\r\n",
                "print(df)\r\n",
                "# 替换\r\n",
                "\r\n",
                "df.columns = df.columns.str.replace('-','hehe',n=1)\r\n",
                "print(df)\r\n",
                "# n：替换个数"
            ],
            "outputs": [
                {
                    "output_type": "stream",
                    "name": "stdout",
                    "text": [
                        "   Column-A  Column-B\n",
                        "0 -0.098921 -1.803334\n",
                        "1 -0.602616  1.769071\n",
                        "2 -0.738583 -0.907177\n",
                        "   ColumnheheA  ColumnheheB\n",
                        "0    -0.098921    -1.803334\n",
                        "1    -0.602616     1.769071\n",
                        "2    -0.738583    -0.907177\n"
                    ]
                }
            ],
            "metadata": {}
        },
        {
            "cell_type": "code",
            "execution_count": 24,
            "source": [
                "# 字符串常用方法（4） - split、rsplit\r\n",
                "\r\n",
                "s = pd.Series(['a,b,c','1,2,3','a,d,,c','dd',np.nan])\r\n",
                "print(s)\r\n",
                "# print(s.str.split(','))\r\n",
                "# print('-----')\r\n",
                "# 类似字符串的split\r\n",
                "\r\n",
                "# print(s.str.split(',')[0])\r\n",
                "# print('-----')\r\n",
                "# 直接索引得到一个list\r\n",
                "\r\n",
                "print(s.str.split(',')[0])\r\n",
                "print('-----')\r\n",
                "print(s.str.split(',').str.get(1))\r\n",
                "print('-----')\r\n",
                "# 可以使用get或[]符号访问拆分列表中的元素"
            ],
            "outputs": [
                {
                    "output_type": "stream",
                    "name": "stdout",
                    "text": [
                        "0     a,b,c\n",
                        "1     1,2,3\n",
                        "2    a,d,,c\n",
                        "3        dd\n",
                        "4       NaN\n",
                        "dtype: object\n",
                        "['a', 'b', 'c']\n",
                        "-----\n",
                        "0      b\n",
                        "1      2\n",
                        "2      d\n",
                        "3    NaN\n",
                        "4    NaN\n",
                        "dtype: object\n",
                        "-----\n"
                    ]
                }
            ],
            "metadata": {}
        },
        {
            "cell_type": "code",
            "execution_count": 25,
            "source": [
                "print(s.str.split(',', expand=True))\r\n",
                "print(s.str.split(',', expand=True, n = 1))\r\n",
                "print(s.str.rsplit(',', expand=True, n = 1))\r\n",
                "print('-----')\r\n",
                "# expand 类似于分列\r\n",
                "# 可以使用expand可以轻松扩展此操作以返回DataFrame\r\n",
                "# n参数限制分割数\r\n",
                "# rsplit类似于split，反向工作，即从字符串的末尾到字符串的开头"
            ],
            "outputs": [
                {
                    "output_type": "stream",
                    "name": "stdout",
                    "text": [
                        "     0     1     2     3\n",
                        "0    a     b     c  None\n",
                        "1    1     2     3  None\n",
                        "2    a     d           c\n",
                        "3   dd  None  None  None\n",
                        "4  NaN   NaN   NaN   NaN\n",
                        "     0     1\n",
                        "0    a   b,c\n",
                        "1    1   2,3\n",
                        "2    a  d,,c\n",
                        "3   dd  None\n",
                        "4  NaN   NaN\n",
                        "      0     1\n",
                        "0   a,b     c\n",
                        "1   1,2     3\n",
                        "2  a,d,     c\n",
                        "3    dd  None\n",
                        "4   NaN   NaN\n",
                        "-----\n"
                    ]
                }
            ],
            "metadata": {}
        },
        {
            "cell_type": "code",
            "execution_count": 31,
            "source": [
                "# 字符串索引\r\n",
                "#对series 加str方法后 可以 字符串本身索引方式相同\r\n",
                "\r\n",
                "s = pd.Series(['A','b','C','bbhello','123',np.nan,'hj'])\r\n",
                "df = pd.DataFrame({'key1':list('abcdef'),\r\n",
                "                  'key2':['hee','fv','w','hija','123',np.nan]}) \r\n",
                "print(s.str[0])  # 取第一个字符串\r\n",
                "print(s.str[:2])  # 取前两个字符串\r\n",
                "print(df['key2'].str[0]) "
            ],
            "outputs": [
                {
                    "output_type": "stream",
                    "name": "stdout",
                    "text": [
                        "0      A\n",
                        "1      b\n",
                        "2      C\n",
                        "3      b\n",
                        "4      1\n",
                        "5    NaN\n",
                        "6      h\n",
                        "dtype: object\n",
                        "0      A\n",
                        "1      b\n",
                        "2      C\n",
                        "3     bb\n",
                        "4     12\n",
                        "5    NaN\n",
                        "6     hj\n",
                        "dtype: object\n",
                        "0      h\n",
                        "1      f\n",
                        "2      w\n",
                        "3      h\n",
                        "4      1\n",
                        "5    NaN\n",
                        "Name: key2, dtype: object\n"
                    ]
                }
            ],
            "metadata": {}
        },
        {
            "cell_type": "code",
            "execution_count": 57,
            "source": [
                "# zuoye?\r\n",
                "df = pd.DataFrame({'gender':['M',' M M','F ','M','F '],\r\n",
                "                    'name':['jack','tom','dd','tp','yz'],\r\n",
                "                    'score':['90,23,90','30,90,80','40,50,40','30,90,80','40,50,40']})\r\n",
                "print(df)\r\n",
                "\r\n",
                "df['name'] = df['name'].str.capitalize()\r\n",
                "\r\n",
                "# df['name'] = df['name'].str.upper().str[0] +df['name'].str[1:]\r\n",
                "df['gender']= df['gender'].str.replace(' ','')\r\n",
                "df[['math','englis','sciencies']] = df['score'].str.split(',',expand=True)\r\n",
                "del df['score']\r\n",
                "print(df)\r\n"
            ],
            "outputs": [
                {
                    "output_type": "stream",
                    "name": "stdout",
                    "text": [
                        "  gender  name     score\n",
                        "0      M  jack  90,23,90\n",
                        "1    M M   tom  30,90,80\n",
                        "2     F     dd  40,50,40\n",
                        "3      M    tp  30,90,80\n",
                        "4     F     yz  40,50,40\n",
                        "  gender  name math englis sciencies\n",
                        "0      M  Jack   90     23        90\n",
                        "1     MM   Tom   30     90        80\n",
                        "2      F    Dd   40     50        40\n",
                        "3      M    Tp   30     90        80\n",
                        "4      F    Yz   40     50        40\n"
                    ]
                }
            ],
            "metadata": {}
        },
        {
            "cell_type": "code",
            "execution_count": 58,
            "source": [
                "'''\r\n",
                "【课程2.16】  合并 merge、join\r\n",
                "\r\n",
                "Pandas具有全功能的，高性能内存中连接操作，与SQL等关系数据库非常相似\r\n",
                "\r\n",
                "pd.merge(left, right, how='inner', on=None, left_on=None, right_on=None,\r\n",
                "         left_index=False, right_index=False, sort=True,\r\n",
                "         suffixes=('_x', '_y'), copy=True, indicator=False)\r\n",
                " \r\n",
                "'''"
            ],
            "outputs": [
                {
                    "output_type": "execute_result",
                    "data": {
                        "text/plain": [
                            "\"\\n【课程2.16】  合并 merge、join\\n\\nPandas具有全功能的，高性能内存中连接操作，与SQL等关系数据库非常相似\\n\\npd.merge(left, right, how='inner', on=None, left_on=None, right_on=None,\\n         left_index=False, right_index=False, sort=True,\\n         suffixes=('_x', '_y'), copy=True, indicator=False)\\n \\n\""
                        ]
                    },
                    "metadata": {},
                    "execution_count": 58
                }
            ],
            "metadata": {}
        },
        {
            "cell_type": "code",
            "execution_count": 63,
            "source": [
                "# merge合并 → 类似excel的vlookup 按照某个键 将两个表连接在一起\r\n",
                "\r\n",
                "df1 = pd.DataFrame({'key': ['K0', 'K1', 'K2', 'K3'],\r\n",
                "                     'A': ['A0', 'A1', 'A2', 'A3'],\r\n",
                "                     'B': ['B0', 'B1', 'B2', 'B3']})\r\n",
                "df2 = pd.DataFrame({'key': ['K0', 'K1', 'K2', 'K3'],\r\n",
                "                      'C': ['C0', 'C1', 'C2', 'C3'],\r\n",
                "                      'D': ['D0', 'D1', 'D2', 'D3']})\r\n",
                "df3 = pd.DataFrame({'key1': ['K0', 'K0', 'K1', 'K2'],\r\n",
                "                    'key2': ['K0', 'K1', 'K0', 'K1'],\r\n",
                "                    'A': ['A0', 'A1', 'A2', 'A3'],\r\n",
                "                    'B': ['B0', 'B1', 'B2', 'B3']})\r\n",
                "df4 = pd.DataFrame({'key1': ['K0', 'K1', 'K1', 'K2'],\r\n",
                "                    'key2': ['K0', 'K0', 'K0', 'K0'],\r\n",
                "                    'C': ['C0', 'C1', 'C2', 'C3'],\r\n",
                "                    'D': ['D0', 'D1', 'D2', 'D3']})\r\n",
                "print(pd.merge(df1, df2, on='key'))\r\n",
                "\r\n",
                "print(pd.merge(df3, df4, on=['key1','key2']))\r\n",
                "# 多个链接键 两个值应该一模一样\r\n"
            ],
            "outputs": [
                {
                    "output_type": "stream",
                    "name": "stdout",
                    "text": [
                        "  key   A   B   C   D\n",
                        "0  K0  A0  B0  C0  D0\n",
                        "1  K1  A1  B1  C1  D1\n",
                        "2  K2  A2  B2  C2  D2\n",
                        "3  K3  A3  B3  C3  D3\n",
                        "  key1 key2   A   B   C   D\n",
                        "0   K0   K0  A0  B0  C0  D0\n",
                        "1   K1   K0  A2  B2  C1  D1\n",
                        "2   K1   K0  A2  B2  C2  D2\n"
                    ]
                }
            ],
            "metadata": {}
        },
        {
            "cell_type": "code",
            "execution_count": 64,
            "source": [
                "# 参数how → 合并方式\r\n",
                "\r\n",
                "print(pd.merge(df3, df4,on=['key1','key2'], how = 'inner'))  \r\n",
                "print('------')\r\n",
                "# inner：默认，取交集\r\n",
                "\r\n",
                "print(pd.merge(df3, df4, on=['key1','key2'], how = 'outer'))  \r\n",
                "print('------')\r\n",
                "# outer：取并集，数据缺失范围NaN\r\n",
                "\r\n",
                "print(pd.merge(df3, df4, on=['key1','key2'], how = 'left'))  \r\n",
                "print('------')\r\n",
                "# left：按照df3为参考合并，数据缺失范围NaN\r\n",
                "\r\n",
                "print(pd.merge(df3, df4, on=['key1','key2'], how = 'right'))  \r\n",
                "# right：按照df4为参考合并，数据缺失范围NaN"
            ],
            "outputs": [
                {
                    "output_type": "stream",
                    "name": "stdout",
                    "text": [
                        "  key1 key2   A   B   C   D\n",
                        "0   K0   K0  A0  B0  C0  D0\n",
                        "1   K1   K0  A2  B2  C1  D1\n",
                        "2   K1   K0  A2  B2  C2  D2\n",
                        "------\n",
                        "  key1 key2    A    B    C    D\n",
                        "0   K0   K0   A0   B0   C0   D0\n",
                        "1   K0   K1   A1   B1  NaN  NaN\n",
                        "2   K1   K0   A2   B2   C1   D1\n",
                        "3   K1   K0   A2   B2   C2   D2\n",
                        "4   K2   K1   A3   B3  NaN  NaN\n",
                        "5   K2   K0  NaN  NaN   C3   D3\n",
                        "------\n",
                        "  key1 key2   A   B    C    D\n",
                        "0   K0   K0  A0  B0   C0   D0\n",
                        "1   K0   K1  A1  B1  NaN  NaN\n",
                        "2   K1   K0  A2  B2   C1   D1\n",
                        "3   K1   K0  A2  B2   C2   D2\n",
                        "4   K2   K1  A3  B3  NaN  NaN\n",
                        "------\n",
                        "  key1 key2    A    B   C   D\n",
                        "0   K0   K0   A0   B0  C0  D0\n",
                        "1   K1   K0   A2   B2  C1  D1\n",
                        "2   K1   K0   A2   B2  C2  D2\n",
                        "3   K2   K0  NaN  NaN  C3  D3\n"
                    ]
                }
            ],
            "metadata": {}
        },
        {
            "cell_type": "code",
            "execution_count": 70,
            "source": [
                "# 参数 left_on, right_on, left_index, right_index → 当键不为一个列时，可以单独设置左键与右键   （当键名称不一样时用left/right On   实质是和on是一样的）\r\n",
                "\r\n",
                "df1 = pd.DataFrame({'lkey':list('bbacaab'),\r\n",
                "                   'data1':range(7)})\r\n",
                "df2 = pd.DataFrame({'rkey':list('abd'),\r\n",
                "                   'date2':range(3)})\r\n",
                "# print(df1,df2)\r\n",
                "# print(pd.merge(df1, df2, left_on='lkey', right_on='rkey'))\r\n",
                "# print('------')# df1以‘lkey’为键，df2以‘rkey’为键\r\n",
                "\r\n",
                "df1 = pd.DataFrame({'key':list('abcdfeg'),\r\n",
                "                   'data1':range(7)})\r\n",
                "df2 = pd.DataFrame({'date2':range(100,105)},\r\n",
                "                  index = list('abcde'))\r\n",
                "print(pd.merge(df1, df2, left_on='key', right_index=True))\r\n",
                "# df1以‘key’为键，df2以index为键\r\n",
                "# left_index：为True时，第一个df以index为键，默认False\r\n",
                "# right_index：为True时，第二个df以index为键，默认False\r\n"
            ],
            "outputs": [
                {
                    "output_type": "stream",
                    "name": "stdout",
                    "text": [
                        "  key  data1  date2\n",
                        "0   a      0    100\n",
                        "1   b      1    101\n",
                        "2   c      2    102\n",
                        "3   d      3    103\n",
                        "5   e      5    104\n"
                    ]
                }
            ],
            "metadata": {}
        },
        {
            "cell_type": "code",
            "execution_count": 71,
            "source": [
                "# 参数 sort\r\n",
                "\r\n",
                "df1 = pd.DataFrame({'key':list('bbacaab'),\r\n",
                "                   'data1':[1,3,2,4,5,9,7]})\r\n",
                "df2 = pd.DataFrame({'key':list('abd'),\r\n",
                "                   'date2':[11,2,33]})\r\n",
                "x1 = pd.merge(df1,df2, on = 'key', how = 'outer')\r\n",
                "x2 = pd.merge(df1,df2, on = 'key', sort=True, how = 'outer')\r\n",
                "print(x1)\r\n",
                "print(x2)\r\n",
                "print('------')\r\n",
                "# sort：按照字典顺序通过 连接键 对结果DataFrame进行排序。默认为False，设置为False会大幅提高性能\r\n",
                "\r\n",
                "print(x2.sort_values('data1'))\r\n",
                "# 也可直接用Dataframe的排序方法：sort_values，sort_index"
            ],
            "outputs": [
                {
                    "output_type": "stream",
                    "name": "stdout",
                    "text": [
                        "  key  data1  date2\n",
                        "0   b    1.0    2.0\n",
                        "1   b    3.0    2.0\n",
                        "2   b    7.0    2.0\n",
                        "3   a    2.0   11.0\n",
                        "4   a    5.0   11.0\n",
                        "5   a    9.0   11.0\n",
                        "6   c    4.0    NaN\n",
                        "7   d    NaN   33.0\n",
                        "  key  data1  date2\n",
                        "0   a    2.0   11.0\n",
                        "1   a    5.0   11.0\n",
                        "2   a    9.0   11.0\n",
                        "3   b    1.0    2.0\n",
                        "4   b    3.0    2.0\n",
                        "5   b    7.0    2.0\n",
                        "6   c    4.0    NaN\n",
                        "7   d    NaN   33.0\n",
                        "------\n",
                        "  key  data1  date2\n",
                        "3   b    1.0    2.0\n",
                        "0   a    2.0   11.0\n",
                        "4   b    3.0    2.0\n",
                        "6   c    4.0    NaN\n",
                        "1   a    5.0   11.0\n",
                        "5   b    7.0    2.0\n",
                        "2   a    9.0   11.0\n",
                        "7   d    NaN   33.0\n"
                    ]
                }
            ],
            "metadata": {}
        },
        {
            "cell_type": "code",
            "execution_count": 73,
            "source": [
                "# pd.join() → 直接通过索引链接\r\n",
                "\r\n",
                "left = pd.DataFrame({'A': ['A0', 'A1', 'A2'],\r\n",
                "                     'B': ['B0', 'B1', 'B2']},\r\n",
                "                    index=['K0', 'K1', 'K2'])\r\n",
                "right = pd.DataFrame({'C': ['C0', 'C2', 'C3'],\r\n",
                "                      'D': ['D0', 'D2', 'D3']},\r\n",
                "                     index=['K0', 'K2', 'K3'])\r\n",
                "print(left)\r\n",
                "print(right)\r\n",
                "print(left.join(right))\r\n",
                "print(left.join(right, how='outer'))  \r\n",
                "print('-----')\r\n",
                "# 等价于：pd.merge(left, right, left_index=True, right_index=True, how='outer')\r\n",
                "\r\n",
                "df1 = pd.DataFrame({'key':list('bbacaab'),\r\n",
                "                   'data1':[1,3,2,4,5,9,7]})\r\n",
                "df2 = pd.DataFrame({'key':list('abd'),\r\n",
                "                   'date2':[11,2,33]})\r\n",
                "print(df1)\r\n",
                "print(df2)\r\n",
                "print(pd.merge(df1, df2, left_index=True, right_index=True, suffixes=('_1', '_2')))  \r\n",
                "print(df1.join(df2['date2']))\r\n",
                "print('-----')\r\n",
                "# suffixes=('_x', '_y')默认\r\n",
                "\r\n",
                "left = pd.DataFrame({'A': ['A0', 'A1', 'A2', 'A3'],\r\n",
                "                     'B': ['B0', 'B1', 'B2', 'B3'],\r\n",
                "                     'key': ['K0', 'K1', 'K0', 'K1']})\r\n",
                "right = pd.DataFrame({'C': ['C0', 'C1'],\r\n",
                "                      'D': ['D0', 'D1']},\r\n",
                "                     index=['K0', 'K1'])\r\n",
                "print(left)\r\n",
                "print(right)\r\n",
                "print(left.join(right, on = 'key'))\r\n",
                "# 等价于pd.merge(left, right, left_on='key', right_index=True, how='left', sort=False);\r\n",
                "# left的‘key’和right的index"
            ],
            "outputs": [
                {
                    "output_type": "stream",
                    "name": "stdout",
                    "text": [
                        "     A   B\n",
                        "K0  A0  B0\n",
                        "K1  A1  B1\n",
                        "K2  A2  B2\n",
                        "     C   D\n",
                        "K0  C0  D0\n",
                        "K2  C2  D2\n",
                        "K3  C3  D3\n",
                        "     A   B    C    D\n",
                        "K0  A0  B0   C0   D0\n",
                        "K1  A1  B1  NaN  NaN\n",
                        "K2  A2  B2   C2   D2\n",
                        "      A    B    C    D\n",
                        "K0   A0   B0   C0   D0\n",
                        "K1   A1   B1  NaN  NaN\n",
                        "K2   A2   B2   C2   D2\n",
                        "K3  NaN  NaN   C3   D3\n",
                        "-----\n",
                        "  key  data1\n",
                        "0   b      1\n",
                        "1   b      3\n",
                        "2   a      2\n",
                        "3   c      4\n",
                        "4   a      5\n",
                        "5   a      9\n",
                        "6   b      7\n",
                        "  key  date2\n",
                        "0   a     11\n",
                        "1   b      2\n",
                        "2   d     33\n",
                        "  key_1  data1 key_2  date2\n",
                        "0     b      1     a     11\n",
                        "1     b      3     b      2\n",
                        "2     a      2     d     33\n",
                        "  key  data1  date2\n",
                        "0   b      1   11.0\n",
                        "1   b      3    2.0\n",
                        "2   a      2   33.0\n",
                        "3   c      4    NaN\n",
                        "4   a      5    NaN\n",
                        "5   a      9    NaN\n",
                        "6   b      7    NaN\n",
                        "-----\n",
                        "    A   B key\n",
                        "0  A0  B0  K0\n",
                        "1  A1  B1  K1\n",
                        "2  A2  B2  K0\n",
                        "3  A3  B3  K1\n",
                        "     C   D\n",
                        "K0  C0  D0\n",
                        "K1  C1  D1\n",
                        "    A   B key   C   D\n",
                        "0  A0  B0  K0  C0  D0\n",
                        "1  A1  B1  K1  C1  D1\n",
                        "2  A2  B2  K0  C0  D0\n",
                        "3  A3  B3  K1  C1  D1\n"
                    ]
                }
            ],
            "metadata": {}
        },
        {
            "cell_type": "code",
            "execution_count": 86,
            "source": [
                "# 作业\r\n",
                "df1 = pd.DataFrame({'key':['1','v','c'],'v1':np.random.rand(3)})\r\n",
                "df2 = pd.DataFrame({'key':['2','v','c'],'v2':np.random.rand(3)})\r\n",
                "# print(df1,'\\n',df2)\r\n",
                "# df3 = pd.merge(df1,df2,how='outer',on='key')\r\n",
                "# print(df3)\r\n",
                "df1 = pd.DataFrame({'lkey':['v','c','1'],'v1':np.random.rand(3)})\r\n",
                "df2 = pd.DataFrame({'rkey':['2','v','c'],'v2':np.random.rand(3)})\r\n",
                "df4 = pd.merge(df1,df2,how='left',left_on='lkey',right_on='rkey')\r\n",
                "# print(df4)\r\n",
                "\r\n",
                "df1 = pd.DataFrame({'key':['v','c','1'],'v1':np.random.rand(3)})\r\n",
                "df2 = pd.DataFrame({'v3':[5,6,7],'v2':np.random.rand(3)},index=['v','c','g'])\r\n",
                "df4 =pd.merge(df1,df2,left_on='key',right_index=True)\r\n",
                "print(df4)"
            ],
            "outputs": [
                {
                    "output_type": "stream",
                    "name": "stdout",
                    "text": [
                        "  key        v1  v3        v2\n",
                        "0   v  0.701512   5  0.246019\n",
                        "1   c  0.711466   6  0.389501\n"
                    ]
                }
            ],
            "metadata": {}
        },
        {
            "cell_type": "code",
            "execution_count": 1,
            "source": [
                "'''\r\n",
                "【课程2.17】  连接与修补 concat、combine_first\r\n",
                "\r\n",
                "连接 - 沿轴执行连接操作\r\n",
                "\r\n",
                "pd.concat(objs, axis=0, join='outer', join_axes=None, ignore_index=False,\r\n",
                "          keys=None, levels=None, names=None, verify_integrity=False,\r\n",
                "          copy=True)\r\n",
                " \r\n",
                "'''"
            ],
            "outputs": [
                {
                    "output_type": "execute_result",
                    "data": {
                        "text/plain": [
                            "\"\\n【课程2.17】  连接与修补 concat、combine_first\\n\\n连接 - 沿轴执行连接操作\\n\\npd.concat(objs, axis=0, join='outer', join_axes=None, ignore_index=False,\\n          keys=None, levels=None, names=None, verify_integrity=False,\\n          copy=True)\\n \\n\""
                        ]
                    },
                    "metadata": {},
                    "execution_count": 1
                }
            ],
            "metadata": {}
        },
        {
            "cell_type": "code",
            "execution_count": 5,
            "source": [
                "# 连接：concat   看column names是否一样   直接拼接  类似于合并 SES SIS门店数据只看列表头是否一样\r\n",
                "import numpy as np \r\n",
                "import pandas as pd\r\n",
                "s1 = pd.Series([1,2,3])\r\n",
                "s2 = pd.Series([2,3,4])\r\n",
                "s3 = pd.Series([1,2,3],index = ['a','c','h'])\r\n",
                "s4 = pd.Series([2,3,4],index = ['b','e','d'])\r\n",
                "print(pd.concat([s1,s2]))\r\n",
                "print(pd.concat([s3,s4]).sort_index())\r\n",
                "print('-----')\r\n",
                "# 默认axis=0，行+行\r\n",
                "\r\n",
                "print(pd.concat([s3,s4], axis=1,sort=False))\r\n",
                "print('-----')\r\n",
                "# axis=1,列+列，成为一个Dataframe"
            ],
            "outputs": [
                {
                    "output_type": "stream",
                    "name": "stdout",
                    "text": [
                        "0    1\n",
                        "1    2\n",
                        "2    3\n",
                        "0    2\n",
                        "1    3\n",
                        "2    4\n",
                        "dtype: int64\n",
                        "a    1\n",
                        "b    2\n",
                        "c    2\n",
                        "d    4\n",
                        "e    3\n",
                        "h    3\n",
                        "dtype: int64\n",
                        "-----\n",
                        "     0    1\n",
                        "a  1.0  NaN\n",
                        "c  2.0  NaN\n",
                        "h  3.0  NaN\n",
                        "b  NaN  2.0\n",
                        "e  NaN  3.0\n",
                        "d  NaN  4.0\n",
                        "-----\n"
                    ]
                }
            ],
            "metadata": {}
        },
        {
            "cell_type": "code",
            "execution_count": 7,
            "source": [
                "# 连接方式：join，join_axes\r\n",
                "\r\n",
                "s5 = pd.Series([1,2,3],index = ['a','b','c'])\r\n",
                "s6 = pd.Series([2,3,4],index = ['b','c','d'])\r\n",
                "print(pd.concat([s5,s6], axis= 1,sort=True))\r\n",
                "print(pd.concat([s5,s6], axis= 1, join='inner'))\r\n",
                "print(pd.concat([s5,s6], axis= 1, join_axes=[['a','b','d']]))\r\n",
                "# join：{'inner'，'outer'}，默认为“outer”。如何处理其他轴上的索引。outer为联合和inner为交集。\r\n",
                "# join_axes：指定联合的index"
            ],
            "outputs": [
                {
                    "output_type": "stream",
                    "name": "stdout",
                    "text": [
                        "     0    1\n",
                        "a  1.0  NaN\n",
                        "b  2.0  2.0\n",
                        "c  3.0  3.0\n",
                        "d  NaN  4.0\n",
                        "   0  1\n",
                        "b  2  2\n",
                        "c  3  3\n",
                        "     0    1\n",
                        "a  1.0  NaN\n",
                        "b  2.0  2.0\n",
                        "d  NaN  4.0\n"
                    ]
                }
            ],
            "metadata": {}
        },
        {
            "cell_type": "code",
            "execution_count": 8,
            "source": [
                "# 覆盖列名\r\n",
                "\r\n",
                "sre = pd.concat([s5,s6], keys = ['one','two'])\r\n",
                "print(sre,type(sre))\r\n",
                "print(sre.index)\r\n",
                "print('-----')\r\n",
                "# keys：序列，默认值无。使用传递的键作为最外层构建层次索引\r\n",
                "\r\n",
                "sre = pd.concat([s5,s6], axis=1, keys = ['one','two'])\r\n",
                "print(sre,type(sre))\r\n",
                "# axis = 1, 覆盖列名"
            ],
            "outputs": [
                {
                    "output_type": "stream",
                    "name": "stdout",
                    "text": [
                        "one  a    1\n",
                        "     b    2\n",
                        "     c    3\n",
                        "two  b    2\n",
                        "     c    3\n",
                        "     d    4\n",
                        "dtype: int64 <class 'pandas.core.series.Series'>\n",
                        "MultiIndex(levels=[['one', 'two'], ['a', 'b', 'c', 'd']],\n",
                        "           codes=[[0, 0, 0, 1, 1, 1], [0, 1, 2, 1, 2, 3]])\n",
                        "-----\n",
                        "   one  two\n",
                        "a  1.0  NaN\n",
                        "b  2.0  2.0\n",
                        "c  3.0  3.0\n",
                        "d  NaN  4.0 <class 'pandas.core.frame.DataFrame'>\n"
                    ]
                },
                {
                    "output_type": "stream",
                    "name": "stderr",
                    "text": [
                        "D:\\rz\\anaconda\\lib\\site-packages\\ipykernel_launcher.py:9: FutureWarning: Sorting because non-concatenation axis is not aligned. A future version\n",
                        "of pandas will change to not sort by default.\n",
                        "\n",
                        "To accept the future behavior, pass 'sort=False'.\n",
                        "\n",
                        "To retain the current behavior and silence the warning, pass 'sort=True'.\n",
                        "\n",
                        "  if __name__ == '__main__':\n"
                    ]
                }
            ],
            "metadata": {}
        },
        {
            "cell_type": "code",
            "execution_count": 9,
            "source": [
                "# 修补 pd.combine_first()\r\n",
                "\r\n",
                "df1 = pd.DataFrame([[np.nan, 3., 5.], [-4.6, np.nan, np.nan],[np.nan, 7., np.nan]])\r\n",
                "df2 = pd.DataFrame([[-42.6, np.nan, -8.2], [-5., 1.6, 4]],index=[1, 2])\r\n",
                "print(df1)\r\n",
                "print(df2)\r\n",
                "print(df1.combine_first(df2))\r\n",
                "print('-----')\r\n",
                "# 根据index，df1的空值被df2替代\r\n",
                "# 如果df2的index多于df1，则更新到df1上，比如index=['a',1]\r\n",
                "\r\n",
                "df1.update(df2)\r\n",
                "print(df1)\r\n",
                "# update，直接df2覆盖df1，相同index位置"
            ],
            "outputs": [
                {
                    "output_type": "stream",
                    "name": "stdout",
                    "text": [
                        "     0    1    2\n",
                        "0  NaN  3.0  5.0\n",
                        "1 -4.6  NaN  NaN\n",
                        "2  NaN  7.0  NaN\n",
                        "      0    1    2\n",
                        "1 -42.6  NaN -8.2\n",
                        "2  -5.0  1.6  4.0\n",
                        "     0    1    2\n",
                        "0  NaN  3.0  5.0\n",
                        "1 -4.6  NaN -8.2\n",
                        "2 -5.0  7.0  4.0\n",
                        "-----\n",
                        "      0    1    2\n",
                        "0   NaN  3.0  5.0\n",
                        "1 -42.6  NaN -8.2\n",
                        "2  -5.0  1.6  4.0\n"
                    ]
                }
            ],
            "metadata": {}
        },
        {
            "cell_type": "code",
            "execution_count": 16,
            "source": [
                "# 作业\r\n",
                "df1 = pd.DataFrame({'V1':np.random.rand(4),'V3':np.random.rand(4)},index=['a','b','c','d'])\r\n",
                "\r\n",
                "df2 = pd.DataFrame({'V1':np.random.rand(4),'V2':np.random.rand(4)},index=['e','f','g','h'])\r\n",
                "\r\n",
                "df3 =pd.concat([df1,df2],sort=False)\r\n",
                "\r\n",
                "# print(df3)\r\n",
                "df1 = pd.DataFrame({'V1':np.random.rand(4),'V2':np.random.rand(4)},index=['a','b','c','d'])\r\n",
                "df1['V1'][1:3]=np.nan\r\n",
                "df2 = pd.DataFrame({'V1':[1,2,3,4],'V2':[2,2,3,4]},index=['a','b','c','d'])\r\n",
                "print(df1,df2)\r\n",
                "print(df1.combine_first(df2))\r\n"
            ],
            "outputs": [
                {
                    "output_type": "stream",
                    "name": "stdout",
                    "text": [
                        "         V1        V2\n",
                        "a  0.569942  0.354381\n",
                        "b       NaN  0.438200\n",
                        "c       NaN  0.516536\n",
                        "d  0.462689  0.401145    V1  V2\n",
                        "a   1   2\n",
                        "b   2   2\n",
                        "c   3   3\n",
                        "d   4   4\n",
                        "         V1        V2\n",
                        "a  0.569942  0.354381\n",
                        "b  2.000000  0.438200\n",
                        "c  3.000000  0.516536\n",
                        "d  0.462689  0.401145\n"
                    ]
                }
            ],
            "metadata": {}
        },
        {
            "cell_type": "code",
            "execution_count": 19,
            "source": [
                "# 去重 .duplicated\r\n",
                "\r\n",
                "s = pd.Series([1,1,1,1,2,2,2,3,4,5,5,5,5])\r\n",
                "# print(s.duplicated())\r\n",
                "# print(s[s.duplicated() == False])\r\n",
                "# print('-----')\r\n",
                "# 判断是否重复\r\n",
                "# 通过布尔判断，得到不重复的值\r\n",
                "\r\n",
                "s_re = s.drop_duplicates()\r\n",
                "# print(s_re)\r\n",
                "# print('-----')\r\n",
                "# drop.duplicates移除重复\r\n",
                "# inplace参数：是否替换原值，默认False\r\n",
                "\r\n",
                "df = pd.DataFrame({'key1':['a','a',3,4,5],\r\n",
                "                  'key2':['a','a','b','b','c']})\r\n",
                "print(df.duplicated())\r\n",
                "print(df['key2'].duplicated())\r\n",
                "# Dataframe中使用duplicated"
            ],
            "outputs": [
                {
                    "output_type": "stream",
                    "name": "stdout",
                    "text": [
                        "0    False\n",
                        "1     True\n",
                        "2    False\n",
                        "3    False\n",
                        "4    False\n",
                        "dtype: bool\n",
                        "0    False\n",
                        "1     True\n",
                        "2    False\n",
                        "3     True\n",
                        "4    False\n",
                        "Name: key2, dtype: bool\n"
                    ]
                }
            ],
            "metadata": {}
        },
        {
            "cell_type": "code",
            "execution_count": 20,
            "source": [
                "# 替换 .replace\r\n",
                "\r\n",
                "s = pd.Series(list('ascaazsd'))\r\n",
                "print(s.replace('a', np.nan))\r\n",
                "print(s.replace(['a','s'] ,np.nan))\r\n",
                "print(s.replace({'a':'hello world!','s':123}))\r\n",
                "# 可一次性替换一个值或多个值\r\n",
                "# 可传入列表或字典"
            ],
            "outputs": [
                {
                    "output_type": "stream",
                    "name": "stdout",
                    "text": [
                        "0    NaN\n",
                        "1      s\n",
                        "2      c\n",
                        "3    NaN\n",
                        "4    NaN\n",
                        "5      z\n",
                        "6      s\n",
                        "7      d\n",
                        "dtype: object\n",
                        "0    NaN\n",
                        "1    NaN\n",
                        "2      c\n",
                        "3    NaN\n",
                        "4    NaN\n",
                        "5      z\n",
                        "6    NaN\n",
                        "7      d\n",
                        "dtype: object\n",
                        "0    hello world!\n",
                        "1             123\n",
                        "2               c\n",
                        "3    hello world!\n",
                        "4    hello world!\n",
                        "5               z\n",
                        "6             123\n",
                        "7               d\n",
                        "dtype: object\n"
                    ]
                }
            ],
            "metadata": {}
        },
        {
            "cell_type": "code",
            "execution_count": 21,
            "source": [
                "'''\r\n",
                "【课程2.19】  数据分组\r\n",
                "\r\n",
                "分组统计 - groupby功能\r\n",
                "\r\n",
                "① 根据某些条件将数据拆分成组\r\n",
                "② 对每个组独立应用函数\r\n",
                "③ 将结果合并到一个数据结构中\r\n",
                "\r\n",
                "Dataframe在行（axis=0）或列（axis=1）上进行分组，将一个函数应用到各个分组并产生一个新值，然后函数执行结果被合并到最终的结果对象中。\r\n",
                "\r\n",
                "df.groupby(by=None, axis=0, level=None, as_index=True, sort=True, group_keys=True, squeeze=False, **kwargs)\r\n",
                " \r\n",
                "'''"
            ],
            "outputs": [
                {
                    "output_type": "execute_result",
                    "data": {
                        "text/plain": [
                            "'\\n【课程2.19】  数据分组\\n\\n分组统计 - groupby功能\\n\\n① 根据某些条件将数据拆分成组\\n② 对每个组独立应用函数\\n③ 将结果合并到一个数据结构中\\n\\nDataframe在行（axis=0）或列（axis=1）上进行分组，将一个函数应用到各个分组并产生一个新值，然后函数执行结果被合并到最终的结果对象中。\\n\\ndf.groupby(by=None, axis=0, level=None, as_index=True, sort=True, group_keys=True, squeeze=False, **kwargs)\\n \\n'"
                        ]
                    },
                    "metadata": {},
                    "execution_count": 21
                }
            ],
            "metadata": {}
        },
        {
            "cell_type": "code",
            "execution_count": 24,
            "source": [
                "# 分组\r\n",
                "\r\n",
                "df = pd.DataFrame({'A' : ['foo', 'bar', 'foo', 'bar','foo', 'bar', 'foo', 'foo'],\r\n",
                "                   'B' : ['one', 'one', 'two', 'three', 'two', 'two', 'one', 'three'],\r\n",
                "                   'C' : np.random.randn(8),\r\n",
                "                   'D' : np.random.randn(8)})\r\n",
                "# print(df)\r\n",
                "# print('------')\r\n",
                "\r\n",
                "# print(df.groupby('A'), type(df.groupby('A')))\r\n",
                "# print('------')\r\n",
                "# 直接分组得到一个groupby对象，是一个中间数据，没有进行计算\r\n",
                "\r\n",
                "a = df.groupby('A').mean()\r\n",
                "b = df.groupby(['A','B']).mean()\r\n",
                "c = df.groupby(['A'])['D'].mean()  # 以A分组，算D的平均值\r\n",
                "print(a,type(a),'\\n',a.columns)\r\n",
                "print(b,type(b),'\\n',b.columns)\r\n",
                "print(c,type(c))\r\n",
                "# 通过分组后的计算，得到一个新的dataframe\r\n",
                "# 默认axis = 0，以行来分组\r\n",
                "# 可单个或多个（[]）列分组\r\n"
            ],
            "outputs": [
                {
                    "output_type": "stream",
                    "name": "stdout",
                    "text": [
                        "            C         D\n",
                        "A                      \n",
                        "bar  0.376285 -0.811322\n",
                        "foo -0.057167  0.950400 <class 'pandas.core.frame.DataFrame'> \n",
                        " Index(['C', 'D'], dtype='object')\n",
                        "                  C         D\n",
                        "A   B                        \n",
                        "bar one    1.724029 -1.243576\n",
                        "    three -0.632794 -0.594301\n",
                        "    two    0.037620 -0.596090\n",
                        "foo one   -0.388127  1.436450\n",
                        "    three  1.756011  0.705900\n",
                        "    two   -0.632795  0.586601 <class 'pandas.core.frame.DataFrame'> \n",
                        " Index(['C', 'D'], dtype='object')\n",
                        "A\n",
                        "bar   -0.811322\n",
                        "foo    0.950400\n",
                        "Name: D, dtype: float64 <class 'pandas.core.series.Series'>\n"
                    ]
                }
            ],
            "metadata": {}
        },
        {
            "cell_type": "code",
            "execution_count": 32,
            "source": [
                "# 分组 - 可迭代对象\r\n",
                "\r\n",
                "df = pd.DataFrame({'X' : ['A', 'B', 'A', 'B'], 'Y' : [1, 4, 3, 2]})\r\n",
                "# print(df)\r\n",
                "# print(df.groupby('X'), type(df.groupby('X')))\r\n",
                "# print('-----')\r\n",
                "\r\n",
                "\r\n",
                "# print(list(df.groupby('X')), '→ 可迭代对象，直接生成list\\n')\r\n",
                "# print(list(df.groupby('X'))[0], '→ 以元祖形式显示\\n')\r\n",
                "# for n,g in df.groupby('X'):\r\n",
                "#     print(n)\r\n",
                "#     print(g)\r\n",
                "#     print('###')\r\n",
                "# print('-----')\r\n",
                "# n是组名，g是分组后的Dataframe\r\n",
                "\r\n",
                "# print(df.groupby(['X']).get_group('A'),'\\n')\r\n",
                "# print(df.groupby(['X']).get_group('B'),'\\n')\r\n",
                "print('-----')\r\n",
                "# .get_group()提取分组后的组\r\n",
                "\r\n",
                "grouped = df.groupby(['X'])\r\n",
                "# print(grouped.groups)\r\n",
                "# print(grouped.groups['A'])  # 也可写：df.groupby('X').groups['A']\r\n",
                "# print('-----')\r\n",
                "# .groups：将分组后的groups转为dict\r\n",
                "# 可以字典索引方法来查看groups里的元素\r\n",
                "\r\n",
                "sz = grouped.size()\r\n",
                "print(sz,type(sz))\r\n",
                "print('-----')\r\n",
                "# .size()：查看分组后的长度"
            ],
            "outputs": [
                {
                    "output_type": "stream",
                    "name": "stdout",
                    "text": [
                        "-----\n",
                        "X\n",
                        "A    2\n",
                        "B    2\n",
                        "dtype: int64 <class 'pandas.core.series.Series'>\n",
                        "-----\n"
                    ]
                }
            ],
            "metadata": {}
        },
        {
            "cell_type": "code",
            "execution_count": 33,
            "source": [
                "df = pd.DataFrame({'A' : ['foo', 'bar', 'foo', 'bar','foo', 'bar', 'foo', 'foo'],\r\n",
                "                   'B' : ['one', 'one', 'two', 'three', 'two', 'two', 'one', 'three'],\r\n",
                "                   'C' : np.random.randn(8),\r\n",
                "                   'D' : np.random.randn(8)})\r\n",
                "grouped = df.groupby(['A','B']).groups\r\n",
                "print(df)\r\n",
                "print(grouped)\r\n",
                "print(grouped[('foo', 'three')])\r\n",
                "# 按照两个列进行分组"
            ],
            "outputs": [
                {
                    "output_type": "stream",
                    "name": "stdout",
                    "text": [
                        "     A      B         C         D\n",
                        "0  foo    one -0.117130 -0.181622\n",
                        "1  bar    one -0.175765 -0.168193\n",
                        "2  foo    two -0.270370 -0.583237\n",
                        "3  bar  three -0.333504 -0.110757\n",
                        "4  foo    two -2.281271  1.282615\n",
                        "5  bar    two  0.801128 -0.251705\n",
                        "6  foo    one -0.451309  0.054955\n",
                        "7  foo  three -2.058946  0.709263\n",
                        "{('bar', 'one'): Int64Index([1], dtype='int64'), ('bar', 'three'): Int64Index([3], dtype='int64'), ('bar', 'two'): Int64Index([5], dtype='int64'), ('foo', 'one'): Int64Index([0, 6], dtype='int64'), ('foo', 'three'): Int64Index([7], dtype='int64'), ('foo', 'two'): Int64Index([2, 4], dtype='int64')}\n",
                        "Int64Index([7], dtype='int64')\n"
                    ]
                }
            ],
            "metadata": {}
        },
        {
            "cell_type": "code",
            "execution_count": 34,
            "source": [
                "# 其他轴上的分组\r\n",
                "\r\n",
                "df = pd.DataFrame({'data1':np.random.rand(2),\r\n",
                "                  'data2':np.random.rand(2),\r\n",
                "                  'key1':['a','b'],\r\n",
                "                  'key2':['one','two']})\r\n",
                "print(df)\r\n",
                "print(df.dtypes)\r\n",
                "print('-----')\r\n",
                "for n,p in df.groupby(df.dtypes, axis=1):\r\n",
                "    print(n)\r\n",
                "    print(p)\r\n",
                "    print('##')\r\n",
                "# 按照值类型分列"
            ],
            "outputs": [
                {
                    "output_type": "stream",
                    "name": "stdout",
                    "text": [
                        "      data1     data2 key1 key2\n",
                        "0  0.784199  0.709505    a  one\n",
                        "1  0.898325  0.517765    b  two\n",
                        "data1    float64\n",
                        "data2    float64\n",
                        "key1      object\n",
                        "key2      object\n",
                        "dtype: object\n",
                        "-----\n",
                        "float64\n",
                        "      data1     data2\n",
                        "0  0.784199  0.709505\n",
                        "1  0.898325  0.517765\n",
                        "##\n",
                        "object\n",
                        "  key1 key2\n",
                        "0    a  one\n",
                        "1    b  two\n",
                        "##\n"
                    ]
                }
            ],
            "metadata": {}
        },
        {
            "cell_type": "code",
            "execution_count": 37,
            "source": [
                "# 通过字典或者Series分组\r\n",
                "\r\n",
                "df = pd.DataFrame(np.arange(16).reshape(4,4),\r\n",
                "                  columns = ['a','b','c','d'])\r\n",
                "print(df)\r\n",
                "print('-----')\r\n",
                "\r\n",
                "mapping = {'a':'one','b':'one','c':'two','d':'two','e':'three'}\r\n",
                "by_column = df.groupby(mapping, axis = 1)\r\n",
                "print(by_column.sum())\r\n",
                "print('-----')\r\n",
                "# # mapping中，a、b列对应的为one，c、d列对应的为two，以字典来分组\r\n",
                "\r\n",
                "# s = pd.Series(mapping)\r\n",
                "# print(s,'\\n')\r\n",
                "# print(s.groupby(s).count())\r\n",
                "# s中，index中a、b对应的为one，c、d对应的为two，以Series来分组"
            ],
            "outputs": [
                {
                    "output_type": "stream",
                    "name": "stdout",
                    "text": [
                        "    a   b   c   d\n",
                        "0   0   1   2   3\n",
                        "1   4   5   6   7\n",
                        "2   8   9  10  11\n",
                        "3  12  13  14  15\n",
                        "-----\n",
                        "   one  two\n",
                        "0    1    5\n",
                        "1    9   13\n",
                        "2   17   21\n",
                        "3   25   29\n",
                        "-----\n"
                    ]
                }
            ],
            "metadata": {}
        },
        {
            "cell_type": "code",
            "execution_count": 2,
            "source": [
                "# 通过函数分组\r\n",
                "import numpy as np\r\n",
                "import pandas as pd\r\n",
                "df = pd.DataFrame(np.arange(16).reshape(4,4),\r\n",
                "                  columns = ['a','b','c','d'],\r\n",
                "                 index = ['abc','bcd','aa','b'])\r\n",
                "print(df,'\\n')\r\n",
                "print(df.groupby(len).sum())\r\n",
                "# 按照字母长度分组"
            ],
            "outputs": [
                {
                    "output_type": "stream",
                    "name": "stdout",
                    "text": [
                        "      a   b   c   d\n",
                        "abc   0   1   2   3\n",
                        "bcd   4   5   6   7\n",
                        "aa    8   9  10  11\n",
                        "b    12  13  14  15 \n",
                        "\n",
                        "    a   b   c   d\n",
                        "1  12  13  14  15\n",
                        "2   8   9  10  11\n",
                        "3   4   6   8  10\n"
                    ]
                }
            ],
            "metadata": {}
        },
        {
            "cell_type": "code",
            "execution_count": 6,
            "source": [
                "# 分组计算函数方法\r\n",
                "import pandas as pd\r\n",
                "import numpy as np\r\n",
                "s = pd.Series([1, 2, 3, 1, 2, 30], index = [1, 2, 3, 1, 2, 3])\r\n",
                "grouped = s.groupby(level=0)  # 唯一索引用.groupby(level=0)\r\n",
                "print(grouped.first())\r\n",
                "# print(grouped.mean())\r\n",
                "\r\n",
                "print(grouped.last(),'→ last：非NaN的最后一个值\\n')\r\n",
                "print(grouped.sum(),'→ sum：非NaN的和\\n')\r\n",
                "print(grouped.mean(),'→ mean：非NaN的平均值\\n')\r\n",
                "print(grouped.median(),'→ median：非NaN的算术中位数\\n')\r\n",
                "print(grouped.count(),'→ count：非NaN的值\\n')\r\n",
                "print(grouped.min(),'→ min、max：非NaN的最小值、最大值\\n')\r\n",
                "print(grouped.std(),'→ std，var：非NaN的标准差和方差\\n')\r\n",
                "print(grouped.prod(),'→ prod：非NaN的积\\n')"
            ],
            "outputs": [
                {
                    "output_type": "stream",
                    "name": "stdout",
                    "text": [
                        "1    1\n",
                        "2    2\n",
                        "3    3\n",
                        "dtype: int64\n",
                        "1     1\n",
                        "2     2\n",
                        "3    30\n",
                        "dtype: int64 → last：非NaN的最后一个值\n",
                        "\n"
                    ]
                }
            ],
            "metadata": {}
        },
        {
            "cell_type": "code",
            "execution_count": 7,
            "source": [
                "# 多函数计算：agg()\r\n",
                "\r\n",
                "df = pd.DataFrame({'a':[1,1,2,2],\r\n",
                "                  'b':np.random.rand(4),\r\n",
                "                  'c':np.random.rand(4),\r\n",
                "                  'd':np.random.rand(4),})\r\n",
                "print(df)\r\n",
                "print(df.groupby('a').agg(['mean',np.sum]))\r\n",
                "print(df.groupby('a')['b'].agg({'result1':np.mean,\r\n",
                "                               'result2':np.sum}))\r\n",
                "# 函数写法可以用str，或者np.方法\r\n",
                "# 可以通过list，dict传入，当用dict时，key名为columns"
            ],
            "outputs": [
                {
                    "output_type": "stream",
                    "name": "stdout",
                    "text": [
                        "   a         b         c         d\n",
                        "0  1  0.306231  0.612232  0.525060\n",
                        "1  1  0.108915  0.285226  0.858559\n",
                        "2  2  0.601940  0.791013  0.932150\n",
                        "3  2  0.010677  0.932068  0.627440\n",
                        "          b                   c                   d         \n",
                        "       mean       sum      mean       sum      mean      sum\n",
                        "a                                                           \n",
                        "1  0.207573  0.415146  0.448729  0.897458  0.691810  1.38362\n",
                        "2  0.306308  0.612617  0.861540  1.723081  0.779795  1.55959\n",
                        "    result1   result2\n",
                        "a                    \n",
                        "1  0.207573  0.415146\n",
                        "2  0.306308  0.612617\n"
                    ]
                },
                {
                    "output_type": "stream",
                    "name": "stderr",
                    "text": [
                        "D:\\rz\\anaconda\\lib\\site-packages\\ipykernel_launcher.py:10: FutureWarning: using a dict on a Series for aggregation\n",
                        "is deprecated and will be removed in a future version\n",
                        "  # Remove the CWD from sys.path while we load stuff.\n"
                    ]
                }
            ],
            "metadata": {}
        },
        {
            "cell_type": "code",
            "execution_count": 10,
            "source": [
                "# 数据分组转换,transform\r\n",
                "\r\n",
                "df = pd.DataFrame({'data1':np.random.rand(5),\r\n",
                "                  'data2':np.random.rand(5),\r\n",
                "                  'key1':list('aabba'),\r\n",
                "                  'key2':['one','two','one','two','one']})\r\n",
                "k_mean = df.groupby('key1').mean()\r\n",
                "print(df)\r\n",
                "print(k_mean)\r\n",
                "\r\n",
                "print(pd.merge(df,k_mean,left_on='key1',right_index=True).add_prefix('mean_'))  # .add_prefix('mean_')：添加前缀\r\n",
                "print('-----')\r\n",
                "# 通过分组、合并，得到一个包含均值的Dataframe"
            ],
            "outputs": [
                {
                    "output_type": "stream",
                    "name": "stdout",
                    "text": [
                        "      data1     data2 key1 key2\n",
                        "0  0.289060  0.022818    a  one\n",
                        "1  0.315845  0.116582    a  two\n",
                        "2  0.968808  0.467269    b  one\n",
                        "3  0.334180  0.384032    b  two\n",
                        "4  0.292755  0.627806    a  one\n",
                        "         data1     data2\n",
                        "key1                    \n",
                        "a     0.299220  0.255735\n",
                        "b     0.651494  0.425651\n",
                        "   mean_data1_x  mean_data2_x mean_key1 mean_key2  mean_data1_y  mean_data2_y\n",
                        "0      0.289060      0.022818         a       one      0.299220      0.255735\n",
                        "1      0.315845      0.116582         a       two      0.299220      0.255735\n",
                        "4      0.292755      0.627806         a       one      0.299220      0.255735\n",
                        "2      0.968808      0.467269         b       one      0.651494      0.425651\n",
                        "3      0.334180      0.384032         b       two      0.651494      0.425651\n",
                        "-----\n"
                    ]
                }
            ],
            "metadata": {}
        },
        {
            "cell_type": "code",
            "execution_count": 17,
            "source": [
                "# 一般化Groupby方法：apply\r\n",
                "\r\n",
                "df = pd.DataFrame({'data1':np.random.rand(5),\r\n",
                "                  'data2':np.random.rand(5),\r\n",
                "                  'key1':list('aabba'),\r\n",
                "                  'key2':['one','two','one','two','one']})\r\n",
                "\r\n",
                "# print(df.groupby('key1').apply(lambda x: x.describe()))\r\n",
                "print(df)\r\n",
                "# apply直接运行其中的函数\r\n",
                "# 这里为匿名函数，直接描述分组后的统计量\r\n",
                "\r\n",
                "\r\n",
                "def f_df1(d,n):\r\n",
                "    return(d.sort_index()[:n])\r\n",
                "def f_df2(d,k1):\r\n",
                "    return(d[k1])\r\n",
                "print(df.groupby('key1').apply(f_df1,2),'\\n')\r\n",
                "\r\n",
                "print(df.groupby('key1').apply(f_df2,'data2'))\r\n",
                "\r\n",
                "# f_df1函数：返回排序后的前n行数据\r\n",
                "# f_df2函数：返回分组后表的k1列，结果为Series，层次化索引\r\n",
                "# 直接运行f_df函数\r\n",
                "# 参数直接写在后面，也可以为.apply(f_df,n = 2))"
            ],
            "outputs": [
                {
                    "output_type": "stream",
                    "name": "stdout",
                    "text": [
                        "      data1     data2 key1 key2\n",
                        "0  0.161721  0.590800    a  one\n",
                        "1  0.664649  0.419841    a  two\n",
                        "2  0.879001  0.873525    b  one\n",
                        "3  0.624591  0.645572    b  two\n",
                        "4  0.155560  0.401612    a  one\n",
                        "           data1     data2 key1 key2\n",
                        "key1                                \n",
                        "a    0  0.161721  0.590800    a  one\n",
                        "     1  0.664649  0.419841    a  two\n",
                        "b    2  0.879001  0.873525    b  one\n",
                        "     3  0.624591  0.645572    b  two \n",
                        "\n",
                        "key1   \n",
                        "a     0    0.590800\n",
                        "      1    0.419841\n",
                        "      4    0.401612\n",
                        "b     2    0.873525\n",
                        "      3    0.645572\n",
                        "Name: data2, dtype: float64\n"
                    ]
                }
            ],
            "metadata": {}
        },
        {
            "cell_type": "code",
            "execution_count": 1,
            "source": [
                "# \t作业1：按要求创建Dataframe df，并通过分组得到以下结果\r\n",
                "# ① 以A分组，求出C,D的分组平均值\r\n",
                "# ② 以A,B分组，求出D,E的分组求和\r\n",
                "# ③ 以A分组，得到所有分组，以字典显示\r\n",
                "# ④ 按照数值类型分组，求和\r\n",
                "# ⑤ 将C,D作为一组分出来，并计算求和\r\n",
                "# ⑥ 以B分组，求出每组的均值，求和，最大值，最小值\r\n"
            ],
            "outputs": [],
            "metadata": {}
        },
        {
            "cell_type": "code",
            "execution_count": 2,
            "source": [
                "import pandas as pd\r\n",
                "import numpy as np\r\n",
                "# 作业\r\n",
                "df  = pd.DataFrame({\"A\":[\"one\",\"two\",\"three\",\"one\",\"two\",\"three\",\"one\",\"two\"],\r\n",
                "                    \"B\":list('hhhhffff'),\r\n",
                "                    \"C\":np.random.randint(10,30,8),\r\n",
                "                    \"D\":np.random.rand(8),\r\n",
                "                    \"E\":np.random.rand(8)})\r\n",
                "df['D'] = -df['D']\r\n",
                "df['D'][7]=-2+df['D'][7]\r\n",
                "print(df)\r\n",
                "\r\n",
                "# print(df.groupby(\"A\")[\"C\",\"D\"].mean())\r\n",
                "\r\n",
                "# print(df.groupby([\"A\",\"B\"])[\"D\",\"E\"].sum())\r\n",
                "\r\n",
                "# print(df.groupby(\"A\").groups[\"one\"])\r\n",
                "\r\n",
                "# print(df.groupby(df.dtypes,axis=1).sum())\r\n",
                "\r\n",
                "# print(df[[\"C\",\"D\"]].sum(axis=1))\r\n",
                "\r\n",
                "print(df.groupby(\"B\").agg(['mean','sum',np.max,np.min]))"
            ],
            "outputs": [
                {
                    "output_type": "stream",
                    "name": "stdout",
                    "text": [
                        "       A  B   C         D         E\n",
                        "0    one  h  27 -0.791349  0.810094\n",
                        "1    two  h  29 -0.447999  0.848202\n",
                        "2  three  h  21 -0.936898  0.915026\n",
                        "3    one  h  23 -0.973955  0.705951\n",
                        "4    two  f  24 -0.103787  0.637233\n",
                        "5  three  f  10 -0.895018  0.136850\n",
                        "6    one  f  16 -0.062981  0.799999\n",
                        "7    two  f  11 -2.457338  0.518367\n",
                        "       C                        D                                       E  \\\n",
                        "    mean  sum amax amin      mean       sum      amax      amin      mean   \n",
                        "B                                                                           \n",
                        "f  15.25   61   24   10 -0.879781 -3.519125 -0.062981 -2.457338  0.523112   \n",
                        "h  25.00  100   29   21 -0.787550 -3.150201 -0.447999 -0.973955  0.819818   \n",
                        "\n",
                        "                                 \n",
                        "        sum      amax      amin  \n",
                        "B                                \n",
                        "f  2.092449  0.799999  0.136850  \n",
                        "h  3.279273  0.915026  0.705951  \n"
                    ]
                },
                {
                    "output_type": "stream",
                    "name": "stderr",
                    "text": [
                        "D:\\rz\\anaconda\\lib\\site-packages\\ipykernel_launcher.py:10: SettingWithCopyWarning: \n",
                        "A value is trying to be set on a copy of a slice from a DataFrame\n",
                        "\n",
                        "See the caveats in the documentation: http://pandas.pydata.org/pandas-docs/stable/indexing.html#indexing-view-versus-copy\n",
                        "  # Remove the CWD from sys.path while we load stuff.\n"
                    ]
                }
            ],
            "metadata": {}
        },
        {
            "cell_type": "code",
            "execution_count": 9,
            "source": [
                "#  作业\r\n",
                "df = pd.DataFrame({\"data1\":np.random.rand(8),\"data2\":np.random.rand(8),\"key\":list('aabbabab')})\r\n",
                "print(df)\r\n",
                "k_sum = df.groupby('key').sum()\r\n",
                "print(k_sum)\r\n",
                "print(pd.merge(df,k_sum,left_on=\"key\",right_index=True))"
            ],
            "outputs": [
                {
                    "output_type": "stream",
                    "name": "stdout",
                    "text": [
                        "      data1     data2 key\n",
                        "0  0.950093  0.745621   a\n",
                        "1  0.169495  0.515928   a\n",
                        "2  0.754390  0.402287   b\n",
                        "3  0.957376  0.780143   b\n",
                        "4  0.550480  0.919308   a\n",
                        "5  0.311512  0.625960   b\n",
                        "6  0.178643  0.892386   a\n",
                        "7  0.484282  0.023338   b\n",
                        "        data1     data2\n",
                        "key                    \n",
                        "a    1.848711  3.073243\n",
                        "b    2.507561  1.831728\n",
                        "    data1_x   data2_x key   data1_y   data2_y\n",
                        "0  0.950093  0.745621   a  1.848711  3.073243\n",
                        "1  0.169495  0.515928   a  1.848711  3.073243\n",
                        "4  0.550480  0.919308   a  1.848711  3.073243\n",
                        "6  0.178643  0.892386   a  1.848711  3.073243\n",
                        "2  0.754390  0.402287   b  2.507561  1.831728\n",
                        "3  0.957376  0.780143   b  2.507561  1.831728\n",
                        "5  0.311512  0.625960   b  2.507561  1.831728\n",
                        "7  0.484282  0.023338   b  2.507561  1.831728\n"
                    ]
                }
            ],
            "metadata": {}
        },
        {
            "cell_type": "code",
            "execution_count": 10,
            "source": [
                "# 【课程2.21】  透视表及交叉表\r\n",
                "\r\n",
                "# 类似excel数据透视 - pivot table / crosstab\r\n"
            ],
            "outputs": [],
            "metadata": {}
        },
        {
            "cell_type": "code",
            "execution_count": 13,
            "source": [
                "# 透视表：pivot_table\r\n",
                "# pd.pivot_table(data, values=None, index=None, columns=None, aggfunc='mean', fill_value=None, margins=False, dropna=True, margins_name='All')\r\n",
                "\r\n",
                "date = ['2017-5-1','2017-5-2','2017-5-3']*3\r\n",
                "rng = pd.to_datetime(date)\r\n",
                "df = pd.DataFrame({'date':rng,\r\n",
                "                   'key':list('abcdabcda'),\r\n",
                "                  'values':np.random.rand(9)*10})\r\n",
                "print(df)\r\n",
                "print('-----')\r\n",
                "\r\n",
                "# print(pd.pivot_table(df, values = 'values', index = 'date', columns = 'key', aggfunc=np.sum))  # 也可以写 aggfunc='sum'\r\n",
                "# print('-----')\r\n",
                "# data：DataFrame对象\r\n",
                "# values：要聚合的列或列的列表\r\n",
                "# index：数据透视表的index，从原数据的列中筛选\r\n",
                "# columns：数据透视表的columns，从原数据的列中筛选\r\n",
                "# aggfunc：用于聚合的函数，默认为numpy.mean，支持numpy计算方法\r\n",
                "\r\n",
                "print(pd.pivot_table(df, values = 'values', index = ['date','key'], aggfunc=len))\r\n",
                "print('-----')\r\n",
                "# 这里就分别以date、key共同做数据透视，值为values：统计不同（date，key）情况下values的平均值\r\n",
                "# aggfunc=len(或者count)：计数"
            ],
            "outputs": [
                {
                    "output_type": "stream",
                    "name": "stdout",
                    "text": [
                        "        date key    values\n",
                        "0 2017-05-01   a  4.065112\n",
                        "1 2017-05-02   b  1.189583\n",
                        "2 2017-05-03   c  9.058377\n",
                        "3 2017-05-01   d  3.122996\n",
                        "4 2017-05-02   a  1.452282\n",
                        "5 2017-05-03   b  5.769823\n",
                        "6 2017-05-01   c  4.470559\n",
                        "7 2017-05-02   d  6.489982\n",
                        "8 2017-05-03   a  2.017207\n",
                        "-----\n",
                        "                values\n",
                        "date       key        \n",
                        "2017-05-01 a       1.0\n",
                        "           c       1.0\n",
                        "           d       1.0\n",
                        "2017-05-02 a       1.0\n",
                        "           b       1.0\n",
                        "           d       1.0\n",
                        "2017-05-03 a       1.0\n",
                        "           b       1.0\n",
                        "           c       1.0\n",
                        "-----\n"
                    ]
                }
            ],
            "metadata": {}
        },
        {
            "cell_type": "code",
            "execution_count": 17,
            "source": [
                "# 交叉表：crosstab\r\n",
                "# 默认情况下，crosstab计算因子的频率表，比如用于str的数据透视分析\r\n",
                "# pd.crosstab(index, columns, values=None, rownames=None, colnames=None, aggfunc=None, margins=False, dropna=True, normalize=False)\r\n",
                "\r\n",
                "df = pd.DataFrame({'A': [1, 2, 2, 2, 2],\r\n",
                "                   'B': [3, 3, 4, 4, 4],\r\n",
                "                   'C': [1, 1, np.nan, 1, 1]})\r\n",
                "print(df)\r\n",
                "print('-----')\r\n",
                "\r\n",
                "# print(pd.crosstab(df['A'],df['B']))\r\n",
                "# print('-----')\r\n",
                "# 如果crosstab只接收两个Series，它将提供一个频率表。\r\n",
                "# 用A的唯一值，统计B唯一值的出现次数\r\n",
                "\r\n",
                "# print(pd.crosstab(df['A'],df['B'],normalize=True))\r\n",
                "# print('-----')\r\n",
                "# normalize：默认False，将所有值除以值的总和进行归一化 → 为True时候显示百分比\r\n",
                "\r\n",
                "print(pd.crosstab(df['A'],df['B'],values=df['C'],aggfunc=np.sum))\r\n",
                "print('-----')\r\n",
                "# values：可选，根据因子聚合的值数组\r\n",
                "# aggfunc：可选，如果未传递values数组，则计算频率表，如果传递数组，则按照指定计算\r\n",
                "# 这里相当于以A和B界定分组，计算出每组中第三个系列C的值"
            ],
            "outputs": [
                {
                    "output_type": "stream",
                    "name": "stdout",
                    "text": [
                        "   A  B    C\n",
                        "0  1  3  1.0\n",
                        "1  2  3  1.0\n",
                        "2  2  4  NaN\n",
                        "3  2  4  1.0\n",
                        "4  2  4  1.0\n",
                        "-----\n",
                        "B    3    4\n",
                        "A          \n",
                        "1  1.0  NaN\n",
                        "2  1.0  2.0\n",
                        "-----\n"
                    ]
                }
            ],
            "metadata": {}
        },
        {
            "cell_type": "code",
            "execution_count": 22,
            "source": [
                "# 作业\r\n",
                "df  = pd.DataFrame({\"A\":[\"one\",\"two\",\"three\",\"one\",\"two\",\"three\",\"one\",\"two\"],\r\n",
                "                    \"B\":list('hhhhffff'),\r\n",
                "                    \"C\":np.random.randint(10,30,8),\r\n",
                "                    \"D\":np.random.rand(8),\r\n",
                "                    \"E\":np.random.rand(8)})\r\n",
                "print(df)\r\n",
                "# print(pd.pivot_table(df,values=[\"C\",\"D\"],index=\"A\",aggfunc=np.mean))\r\n",
                "\r\n",
                "# print(pd.pivot_table(df,values=[\"E\",\"D\"],index=[\"A\",\"B\"],aggfunc=[np.mean,np.sum]))\r\n",
                "\r\n",
                "print(pd.crosstab(df[\"A\"],df[\"B\"]))\r\n"
            ],
            "outputs": [
                {
                    "output_type": "stream",
                    "name": "stdout",
                    "text": [
                        "       A  B   C         D         E\n",
                        "0    one  h  26  0.803505  0.422262\n",
                        "1    two  h  19  0.694076  0.638858\n",
                        "2  three  h  26  0.148369  0.915264\n",
                        "3    one  h  17  0.956207  0.316771\n",
                        "4    two  f  20  0.082543  0.755941\n",
                        "5  three  f  20  0.323638  0.973803\n",
                        "6    one  f  28  0.823011  0.077257\n",
                        "7    two  f  25  0.098936  0.466398\n",
                        "B      f  h\n",
                        "A          \n",
                        "one    1  2\n",
                        "three  1  1\n",
                        "two    2  1\n"
                    ]
                }
            ],
            "metadata": {}
        },
        {
            "cell_type": "code",
            "execution_count": 23,
            "source": [
                "# 【课程2.22】  数据读取\r\n",
                "\r\n",
                "# 核心：read_table, read_csv, read_excel"
            ],
            "outputs": [],
            "metadata": {}
        },
        {
            "cell_type": "code",
            "execution_count": 34,
            "source": [
                "# 读取普通分隔数据：read_table\r\n",
                "# 可以读取txt，csv\r\n",
                "\r\n",
                "import os\r\n",
                "os.chdir(r'D:\\tp\\网易数据分析\\视频\\【代码+软件+课后答案】课程资料\\【非常重要】Python数据分析师微专业_课程资料\\CLASSDATA_ch03重点工具掌握：数据解析核心技巧\\CH02数据分析工具：Pandas')\r\n",
                "\r\n",
                "# data1 = pd.read_table('data1.txt', delimiter=',',header = 0)\r\n",
                "# print(data1)\r\n",
                "# delimiter：用于拆分的字符，也可以用sep：sep = ','\r\n",
                "# header：用做列名的序号，默认为0（第一行）\r\n",
                "# index_col：指定某列为行索引，否则自动索引0, 1, .....\r\n",
                "\r\n",
                "# read_table主要用于读取简单的数据，txt/csv"
            ],
            "outputs": [],
            "metadata": {}
        },
        {
            "cell_type": "code",
            "execution_count": 36,
            "source": [
                "# 读取csv数据：read_csv\r\n",
                "# 先熟悉一下excel怎么导出csv\r\n",
                "\r\n",
                "data3 = pd.read_excel('地市级党委书记数据库（2000-10） .xlsx',sheetname='中国人民共和国地市级党委书记数据库（2000-10）',header=0)\r\n",
                "print(data3)\r\n",
                "# engine：使用的分析引擎。可以选择C或者是python。C引擎快但是Python引擎功能更加完备。\r\n",
                "# encoding：指定字符集类型，即编码，通常指定为'utf-8'\r\n",
                "\r\n",
                "# 大多数情况先将excel导出csv，再读取"
            ],
            "outputs": [
                {
                    "output_type": "stream",
                    "name": "stdout",
                    "text": [
                        "      省级政区代码    省级政区名称  地市级政区代码   地市级政区名称    年份 党委书记姓名  出生年份  出生月份  籍贯省份代码  \\\n",
                        "0     130000       河北省   130100      石家庄市  2000    陈来立   NaN   NaN     NaN   \n",
                        "1     130000       河北省   130100      石家庄市  2001    吴振华   NaN   NaN     NaN   \n",
                        "2     130000       河北省   130100      石家庄市  2002    吴振华   NaN   NaN     NaN   \n",
                        "3     130000       河北省   130100      石家庄市  2003    吴振华   NaN   NaN     NaN   \n",
                        "4     130000       河北省   130100      石家庄市  2004    吴振华   NaN   NaN     NaN   \n",
                        "5     130000       河北省   130100      石家庄市  2005    吴振华   NaN   NaN     NaN   \n",
                        "6     130000       河北省   130100      石家庄市  2006    吴振华   NaN   NaN     NaN   \n",
                        "7     130000       河北省   130100      石家庄市  2007    吴显国   NaN   NaN     NaN   \n",
                        "8     130000       河北省   130100      石家庄市  2008    吴显国   NaN   NaN     NaN   \n",
                        "9     130000       河北省   130100      石家庄市  2009     车俊   NaN   NaN     NaN   \n",
                        "10    130000       河北省   130100      石家庄市  2010    孙瑞彬   NaN   NaN     NaN   \n",
                        "11    130000       河北省   130200       唐山市  2000    白润璋   NaN   NaN     NaN   \n",
                        "12    130000       河北省   130200       唐山市  2001    白润璋   NaN   NaN     NaN   \n",
                        "13    130000       河北省   130200       唐山市  2002    白润璋   NaN   NaN     NaN   \n",
                        "14    130000       河北省   130200       唐山市  2003     张和   NaN   NaN     NaN   \n",
                        "15    130000       河北省   130200       唐山市  2004     张和   NaN   NaN     NaN   \n",
                        "16    130000       河北省   130200       唐山市  2005     张和   NaN   NaN     NaN   \n",
                        "17    130000       河北省   130200       唐山市  2006     张和   NaN   NaN     NaN   \n",
                        "18    130000       河北省   130200       唐山市  2007     赵勇   NaN   NaN     NaN   \n",
                        "19    130000       河北省   130200       唐山市  2008     赵勇   NaN   NaN     NaN   \n",
                        "20    130000       河北省   130200       唐山市  2009     赵勇   NaN   NaN     NaN   \n",
                        "21    130000       河北省   130200       唐山市  2010     赵勇   NaN   NaN     NaN   \n",
                        "22    130000       河北省   130300      秦皇岛市  2000    王建忠   NaN   NaN     NaN   \n",
                        "23    130000       河北省   130300      秦皇岛市  2001    王建忠   NaN   NaN     NaN   \n",
                        "24    130000       河北省   130300      秦皇岛市  2002    王建忠   NaN   NaN     NaN   \n",
                        "25    130000       河北省   130300      秦皇岛市  2003    宋长瑞   NaN   NaN     NaN   \n",
                        "26    130000       河北省   130300      秦皇岛市  2004    宋长瑞   NaN   NaN     NaN   \n",
                        "27    130000       河北省   130300      秦皇岛市  2005    宋长瑞   NaN   NaN     NaN   \n",
                        "28    130000       河北省   130300      秦皇岛市  2006    宋长瑞   NaN   NaN     NaN   \n",
                        "29    130000       河北省   130300      秦皇岛市  2007    王三堂   NaN   NaN     NaN   \n",
                        "...      ...       ...      ...       ...   ...    ...   ...   ...     ...   \n",
                        "3633  650000  新疆维吾尔自治区   654000  伊犁哈萨克自治州  2003    NaN   NaN   NaN     NaN   \n",
                        "3634  650000  新疆维吾尔自治区   654000  伊犁哈萨克自治州  2004    NaN   NaN   NaN     NaN   \n",
                        "3635  650000  新疆维吾尔自治区   654000  伊犁哈萨克自治州  2005    NaN   NaN   NaN     NaN   \n",
                        "3636  650000  新疆维吾尔自治区   654000  伊犁哈萨克自治州  2006    NaN   NaN   NaN     NaN   \n",
                        "3637  650000  新疆维吾尔自治区   654000  伊犁哈萨克自治州  2007    NaN   NaN   NaN     NaN   \n",
                        "3638  650000  新疆维吾尔自治区   654000  伊犁哈萨克自治州  2008    NaN   NaN   NaN     NaN   \n",
                        "3639  650000  新疆维吾尔自治区   654000  伊犁哈萨克自治州  2009    NaN   NaN   NaN     NaN   \n",
                        "3640  650000  新疆维吾尔自治区   654000  伊犁哈萨克自治州  2010    NaN   NaN   NaN     NaN   \n",
                        "3641  650000  新疆维吾尔自治区   654200      塔城地区  2000    NaN   NaN   NaN     NaN   \n",
                        "3642  650000  新疆维吾尔自治区   654200      塔城地区  2001    NaN   NaN   NaN     NaN   \n",
                        "3643  650000  新疆维吾尔自治区   654200      塔城地区  2002    NaN   NaN   NaN     NaN   \n",
                        "3644  650000  新疆维吾尔自治区   654200      塔城地区  2003    NaN   NaN   NaN     NaN   \n",
                        "3645  650000  新疆维吾尔自治区   654200      塔城地区  2004    NaN   NaN   NaN     NaN   \n",
                        "3646  650000  新疆维吾尔自治区   654200      塔城地区  2005    NaN   NaN   NaN     NaN   \n",
                        "3647  650000  新疆维吾尔自治区   654200      塔城地区  2006    NaN   NaN   NaN     NaN   \n",
                        "3648  650000  新疆维吾尔自治区   654200      塔城地区  2007    NaN   NaN   NaN     NaN   \n",
                        "3649  650000  新疆维吾尔自治区   654200      塔城地区  2008    NaN   NaN   NaN     NaN   \n",
                        "3650  650000  新疆维吾尔自治区   654200      塔城地区  2009    NaN   NaN   NaN     NaN   \n",
                        "3651  650000  新疆维吾尔自治区   654200      塔城地区  2010    NaN   NaN   NaN     NaN   \n",
                        "3652  650000  新疆维吾尔自治区   654300     阿勒泰地区  2000    NaN   NaN   NaN     NaN   \n",
                        "3653  650000  新疆维吾尔自治区   654300     阿勒泰地区  2001    NaN   NaN   NaN     NaN   \n",
                        "3654  650000  新疆维吾尔自治区   654300     阿勒泰地区  2002    NaN   NaN   NaN     NaN   \n",
                        "3655  650000  新疆维吾尔自治区   654300     阿勒泰地区  2003    NaN   NaN   NaN     NaN   \n",
                        "3656  650000  新疆维吾尔自治区   654300     阿勒泰地区  2004    NaN   NaN   NaN     NaN   \n",
                        "3657  650000  新疆维吾尔自治区   654300     阿勒泰地区  2005    NaN   NaN   NaN     NaN   \n",
                        "3658  650000  新疆维吾尔自治区   654300     阿勒泰地区  2006    NaN   NaN   NaN     NaN   \n",
                        "3659  650000  新疆维吾尔自治区   654300     阿勒泰地区  2007    NaN   NaN   NaN     NaN   \n",
                        "3660  650000  新疆维吾尔自治区   654300     阿勒泰地区  2008    NaN   NaN   NaN     NaN   \n",
                        "3661  650000  新疆维吾尔自治区   654300     阿勒泰地区  2009    NaN   NaN   NaN     NaN   \n",
                        "3662  650000  新疆维吾尔自治区   654300     阿勒泰地区  2010    NaN   NaN   NaN     NaN   \n",
                        "\n",
                        "     籍贯省份名称  ...   民族   教育 是否是党校教育（是=1，否=0） 专业：人文 专业：社科  专业：理工  专业：农科  专业：医科  \\\n",
                        "0       NaN  ...  NaN   硕士              1.0   NaN   NaN    NaN    NaN    NaN   \n",
                        "1       NaN  ...  NaN   本科              0.0   0.0   0.0    1.0    0.0    0.0   \n",
                        "2       NaN  ...  NaN   本科              0.0   0.0   0.0    1.0    0.0    0.0   \n",
                        "3       NaN  ...  NaN   本科              0.0   0.0   0.0    1.0    0.0    0.0   \n",
                        "4       NaN  ...  NaN   本科              0.0   0.0   0.0    1.0    0.0    0.0   \n",
                        "5       NaN  ...  NaN   本科              0.0   0.0   0.0    1.0    0.0    0.0   \n",
                        "6       NaN  ...  NaN   本科              0.0   0.0   0.0    1.0    0.0    0.0   \n",
                        "7       NaN  ...  NaN   硕士              1.0   0.0   1.0    0.0    0.0    0.0   \n",
                        "8       NaN  ...  NaN   硕士              1.0   0.0   1.0    0.0    0.0    0.0   \n",
                        "9       NaN  ...  NaN   本科              1.0   0.0   1.0    0.0    0.0    0.0   \n",
                        "10      NaN  ...  NaN   硕士              1.0   0.0   1.0    0.0    0.0    0.0   \n",
                        "11      NaN  ...  NaN   本科              0.0   0.0   0.0    1.0    0.0    0.0   \n",
                        "12      NaN  ...  NaN   本科              0.0   0.0   0.0    1.0    0.0    0.0   \n",
                        "13      NaN  ...  NaN   本科              0.0   0.0   0.0    1.0    0.0    0.0   \n",
                        "14      NaN  ...  NaN   本科              0.0   0.0   0.0    1.0    0.0    0.0   \n",
                        "15      NaN  ...  NaN   本科              0.0   0.0   0.0    1.0    0.0    0.0   \n",
                        "16      NaN  ...  NaN   本科              0.0   0.0   0.0    1.0    0.0    0.0   \n",
                        "17      NaN  ...  NaN   本科              0.0   0.0   0.0    1.0    0.0    0.0   \n",
                        "18      NaN  ...  NaN   博士              0.0   0.0   1.0    0.0    0.0    0.0   \n",
                        "19      NaN  ...  NaN   博士              0.0   0.0   1.0    0.0    0.0    0.0   \n",
                        "20      NaN  ...  NaN   博士              0.0   0.0   1.0    0.0    0.0    0.0   \n",
                        "21      NaN  ...  NaN   博士              0.0   0.0   1.0    0.0    0.0    0.0   \n",
                        "22      NaN  ...  NaN   本科              0.0   0.0   0.0    1.0    0.0    0.0   \n",
                        "23      NaN  ...  NaN   本科              0.0   0.0   0.0    1.0    0.0    0.0   \n",
                        "24      NaN  ...  NaN   本科              0.0   0.0   0.0    1.0    0.0    0.0   \n",
                        "25      NaN  ...  NaN   硕士              1.0   0.0   1.0    0.0    0.0    0.0   \n",
                        "26      NaN  ...  NaN   硕士              1.0   0.0   1.0    0.0    0.0    0.0   \n",
                        "27      NaN  ...  NaN   硕士              1.0   0.0   1.0    0.0    0.0    0.0   \n",
                        "28      NaN  ...  NaN   硕士              1.0   0.0   1.0    0.0    0.0    0.0   \n",
                        "29      NaN  ...  NaN   硕士              1.0   0.0   1.0    0.0    0.0    0.0   \n",
                        "...     ...  ...  ...  ...              ...   ...   ...    ...    ...    ...   \n",
                        "3633    NaN  ...  NaN  NaN              NaN   NaN   NaN    NaN    NaN    NaN   \n",
                        "3634    NaN  ...  NaN  NaN              NaN   NaN   NaN    NaN    NaN    NaN   \n",
                        "3635    NaN  ...  NaN  NaN              NaN   NaN   NaN    NaN    NaN    NaN   \n",
                        "3636    NaN  ...  NaN  NaN              NaN   NaN   NaN    NaN    NaN    NaN   \n",
                        "3637    NaN  ...  NaN  NaN              NaN   NaN   NaN    NaN    NaN    NaN   \n",
                        "3638    NaN  ...  NaN  NaN              NaN   NaN   NaN    NaN    NaN    NaN   \n",
                        "3639    NaN  ...  NaN  NaN              NaN   NaN   NaN    NaN    NaN    NaN   \n",
                        "3640    NaN  ...  NaN  NaN              NaN   NaN   NaN    NaN    NaN    NaN   \n",
                        "3641    NaN  ...  NaN  NaN              NaN   NaN   NaN    NaN    NaN    NaN   \n",
                        "3642    NaN  ...  NaN  NaN              NaN   NaN   NaN    NaN    NaN    NaN   \n",
                        "3643    NaN  ...  NaN  NaN              NaN   NaN   NaN    NaN    NaN    NaN   \n",
                        "3644    NaN  ...  NaN  NaN              NaN   NaN   NaN    NaN    NaN    NaN   \n",
                        "3645    NaN  ...  NaN  NaN              NaN   NaN   NaN    NaN    NaN    NaN   \n",
                        "3646    NaN  ...  NaN  NaN              NaN   NaN   NaN    NaN    NaN    NaN   \n",
                        "3647    NaN  ...  NaN  NaN              NaN   NaN   NaN    NaN    NaN    NaN   \n",
                        "3648    NaN  ...  NaN  NaN              NaN   NaN   NaN    NaN    NaN    NaN   \n",
                        "3649    NaN  ...  NaN  NaN              NaN   NaN   NaN    NaN    NaN    NaN   \n",
                        "3650    NaN  ...  NaN  NaN              NaN   NaN   NaN    NaN    NaN    NaN   \n",
                        "3651    NaN  ...  NaN  NaN              NaN   NaN   NaN    NaN    NaN    NaN   \n",
                        "3652    NaN  ...  NaN  NaN              NaN   NaN   NaN    NaN    NaN    NaN   \n",
                        "3653    NaN  ...  NaN  NaN              NaN   NaN   NaN    NaN    NaN    NaN   \n",
                        "3654    NaN  ...  NaN  NaN              NaN   NaN   NaN    NaN    NaN    NaN   \n",
                        "3655    NaN  ...  NaN  NaN              NaN   NaN   NaN    NaN    NaN    NaN   \n",
                        "3656    NaN  ...  NaN  NaN              NaN   NaN   NaN    NaN    NaN    NaN   \n",
                        "3657    NaN  ...  NaN  NaN              NaN   NaN   NaN    NaN    NaN    NaN   \n",
                        "3658    NaN  ...  NaN  NaN              NaN   NaN   NaN    NaN    NaN    NaN   \n",
                        "3659    NaN  ...  NaN  NaN              NaN   NaN   NaN    NaN    NaN    NaN   \n",
                        "3660    NaN  ...  NaN  NaN              NaN   NaN   NaN    NaN    NaN    NaN   \n",
                        "3661    NaN  ...  NaN  NaN              NaN   NaN   NaN    NaN    NaN    NaN   \n",
                        "3662    NaN  ...  NaN  NaN              NaN   NaN   NaN    NaN    NaN    NaN   \n",
                        "\n",
                        "      入党年份  工作年份  \n",
                        "0      NaN   NaN  \n",
                        "1      NaN   NaN  \n",
                        "2      NaN   NaN  \n",
                        "3      NaN   NaN  \n",
                        "4      NaN   NaN  \n",
                        "5      NaN   NaN  \n",
                        "6      NaN   NaN  \n",
                        "7      NaN   NaN  \n",
                        "8      NaN   NaN  \n",
                        "9      NaN   NaN  \n",
                        "10     NaN   NaN  \n",
                        "11     NaN   NaN  \n",
                        "12     NaN   NaN  \n",
                        "13     NaN   NaN  \n",
                        "14     NaN   NaN  \n",
                        "15     NaN   NaN  \n",
                        "16     NaN   NaN  \n",
                        "17     NaN   NaN  \n",
                        "18     NaN   NaN  \n",
                        "19     NaN   NaN  \n",
                        "20     NaN   NaN  \n",
                        "21     NaN   NaN  \n",
                        "22     NaN   NaN  \n",
                        "23     NaN   NaN  \n",
                        "24     NaN   NaN  \n",
                        "25     NaN   NaN  \n",
                        "26     NaN   NaN  \n",
                        "27     NaN   NaN  \n",
                        "28     NaN   NaN  \n",
                        "29     NaN   NaN  \n",
                        "...    ...   ...  \n",
                        "3633   NaN   NaN  \n",
                        "3634   NaN   NaN  \n",
                        "3635   NaN   NaN  \n",
                        "3636   NaN   NaN  \n",
                        "3637   NaN   NaN  \n",
                        "3638   NaN   NaN  \n",
                        "3639   NaN   NaN  \n",
                        "3640   NaN   NaN  \n",
                        "3641   NaN   NaN  \n",
                        "3642   NaN   NaN  \n",
                        "3643   NaN   NaN  \n",
                        "3644   NaN   NaN  \n",
                        "3645   NaN   NaN  \n",
                        "3646   NaN   NaN  \n",
                        "3647   NaN   NaN  \n",
                        "3648   NaN   NaN  \n",
                        "3649   NaN   NaN  \n",
                        "3650   NaN   NaN  \n",
                        "3651   NaN   NaN  \n",
                        "3652   NaN   NaN  \n",
                        "3653   NaN   NaN  \n",
                        "3654   NaN   NaN  \n",
                        "3655   NaN   NaN  \n",
                        "3656   NaN   NaN  \n",
                        "3657   NaN   NaN  \n",
                        "3658   NaN   NaN  \n",
                        "3659   NaN   NaN  \n",
                        "3660   NaN   NaN  \n",
                        "3661   NaN   NaN  \n",
                        "3662   NaN   NaN  \n",
                        "\n",
                        "[3663 rows x 23 columns]\n"
                    ]
                }
            ],
            "metadata": {}
        },
        {
            "cell_type": "code",
            "execution_count": null,
            "source": [],
            "outputs": [],
            "metadata": {}
        },
        {
            "cell_type": "code",
            "execution_count": null,
            "source": [],
            "outputs": [],
            "metadata": {}
        }
    ],
    "metadata": {
        "orig_nbformat": 4,
        "language_info": {
            "name": "python",
            "version": "3.7.3",
            "mimetype": "text/x-python",
            "codemirror_mode": {
                "name": "ipython",
                "version": 3
            },
            "pygments_lexer": "ipython3",
            "nbconvert_exporter": "python",
            "file_extension": ".py"
        },
        "kernelspec": {
            "name": "python3",
            "display_name": "Python 3.7.3 64-bit ('base': conda)"
        },
        "interpreter": {
            "hash": "44a0b5136230a04540a6d2bd3ef3a3c24910c5bb0f570f8de4cbe8de6740ef8c"
        }
    },
    "nbformat": 4,
    "nbformat_minor": 2
}