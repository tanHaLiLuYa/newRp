{
 "cells": [
  {
   "cell_type": "code",
   "execution_count": null,
   "source": [
    "'''\r\n",
    "【课程2.8】  时间模块：datetime\r\n",
    "\r\n",
    "datetime模块，主要掌握：datetime.date(), datetime.datetime(), datetime.timedelta()\r\n",
    "\r\n",
    "日期解析方法：parser.parse\r\n",
    "\r\n",
    "'''"
   ],
   "outputs": [],
   "metadata": {
    "collapsed": true
   }
  },
  {
   "cell_type": "code",
   "execution_count": 1,
   "source": [
    "# datetime.date：date对象\r\n",
    "\r\n",
    "import datetime  # 也可以写 from datetime import date\r\n",
    "\r\n",
    "today = datetime.date.today()\r\n",
    "print(today,type(today))\r\n",
    "print(str(today),type(str(today)))\r\n",
    "# datetime.date.today 返回今日\r\n",
    "# 输出格式为 date类\r\n",
    "\r\n",
    "t = datetime.date(2016,6,1)\r\n",
    "print(t,type(t))\r\n",
    "# (年，月，日) → 直接得到当时日期"
   ],
   "outputs": [
    {
     "output_type": "stream",
     "name": "stdout",
     "text": [
      "2021-07-26 <class 'datetime.date'>\n",
      "2021-07-26 <class 'str'>\n",
      "2016-06-01 <class 'datetime.date'>\n"
     ]
    }
   ],
   "metadata": {
    "collapsed": false
   }
  },
  {
   "cell_type": "code",
   "execution_count": 5,
   "source": [
    "# datetime.datetime：datetime对象\r\n",
    "\r\n",
    "now = datetime.datetime.now()\r\n",
    "print(now,type(now))\r\n",
    "print(str(now),type(str(now))) \r\n",
    "# .now()方法，输出当前时间\r\n",
    "# 输出格式为 datetime类\r\n",
    "# 可通过str()转化为字符串\r\n",
    "\r\n",
    "t1 = datetime.datetime(2016,6,1)\r\n",
    "t2 = datetime.datetime(2014,1,1,12,44,33)\r\n",
    "print(t1,t2)\r\n",
    "# (年，月，日，时，分，秒)，至少输入年月日\r\n",
    "\r\n",
    "print(t2-t1,type(t2-t1))\r\n",
    "# 相减得到时间差 —— timedelta"
   ],
   "outputs": [
    {
     "output_type": "stream",
     "name": "stdout",
     "text": [
      "2021-06-29 14:34:51.730360 <class 'datetime.datetime'>\n",
      "2021-06-29 14:34:51.730360 <class 'str'>\n",
      "2016-06-01 00:00:00 2014-01-01 12:44:33\n",
      "-882 days, 12:44:33 <class 'datetime.timedelta'>\n"
     ]
    }
   ],
   "metadata": {
    "collapsed": false
   }
  },
  {
   "cell_type": "code",
   "execution_count": 3,
   "source": [
    "# datetime.timedelta：时间差\r\n",
    "\r\n",
    "today = datetime.datetime.today()  # datetime.datetime也有today()方法\r\n",
    "yestoday = today - datetime.timedelta(1)  # \r\n",
    "print(today)\r\n",
    "print(yestoday)\r\n",
    "print(today - datetime.timedelta(7))\r\n",
    "# print(dir(datetime.datetime))\r\n",
    "# 时间差主要用作时间的加减法，相当于可被识别的时间“差值”"
   ],
   "outputs": [
    {
     "output_type": "stream",
     "name": "stdout",
     "text": [
      "2021-07-26 11:40:38.781349\n",
      "2021-07-25 11:40:38.781349\n",
      "2021-07-19 11:40:38.781349\n"
     ]
    }
   ],
   "metadata": {
    "collapsed": false
   }
  },
  {
   "cell_type": "code",
   "execution_count": 4,
   "source": [
    "t=datetime.date.today()\r\n",
    "t1 = t-datetime.timedelta(1)\r\n",
    "print(t,t1)"
   ],
   "outputs": [
    {
     "output_type": "stream",
     "name": "stdout",
     "text": [
      "2021-07-26 2021-07-25\n"
     ]
    }
   ],
   "metadata": {}
  },
  {
   "cell_type": "code",
   "execution_count": 8,
   "source": [
    "# parser.parse：日期字符串转换\r\n",
    "\r\n",
    "from dateutil.parser import parse\r\n",
    "\r\n",
    "date = '12-21-2017'\r\n",
    "t = parse(date)\r\n",
    "print(t,type(t))\r\n",
    "# 直接将str转化成datetime.datetime\r\n",
    "\r\n",
    "print(parse('2000-1-1 12:00:00'),'\\n',\r\n",
    "     parse('5/1/2014'),'\\n',\r\n",
    "     parse('5/1/2014', dayfirst = True ),'\\n',  # 国际通用格式中，日在月之前，可以通过dayfirst来设置\r\n",
    "     parse('22/1/2014'),'\\n',\r\n",
    "     parse('Jan 31, 1997 10:45 PM'))\r\n",
    "# 各种格式可以解析，但无法支持中文"
   ],
   "outputs": [
    {
     "output_type": "stream",
     "name": "stdout",
     "text": [
      "2017-12-21 00:00:00 <class 'datetime.datetime'>\n",
      "2000-01-01 12:00:00 \n",
      " 2014-05-01 00:00:00 \n",
      " 2014-01-05 00:00:00 \n",
      " 2014-01-22 00:00:00 \n",
      " 1997-01-31 22:45:00\n"
     ]
    }
   ],
   "metadata": {
    "collapsed": false
   }
  },
  {
   "cell_type": "code",
   "execution_count": 7,
   "source": [
    "from dateutil.parser import parse\r\n",
    "datetime_str = '12-21-2019 '\r\n",
    "t = parse(datetime_str)\r\n",
    "print(t,type(t))\r\n"
   ],
   "outputs": [
    {
     "output_type": "stream",
     "name": "stdout",
     "text": [
      "2019-12-21 00:00:00 <class 'datetime.datetime'>\n"
     ]
    }
   ],
   "metadata": {}
  },
  {
   "cell_type": "markdown",
   "source": [
    "######## 本节课有作业，请查看 “课程作业.docx”  ########"
   ],
   "metadata": {}
  },
  {
   "cell_type": "code",
   "execution_count": null,
   "source": [
    "'''\r\n",
    "【课程2.9】  Pandas时刻数据：Timestamp\r\n",
    "\r\n",
    "时刻数据代表时间点，是pandas的数据类型，是将值与时间点相关联的最基本类型的时间序列数据\r\n",
    "\r\n",
    "pandas.Timestamp()\r\n",
    "\r\n",
    "'''"
   ],
   "outputs": [],
   "metadata": {
    "collapsed": true
   }
  },
  {
   "cell_type": "code",
   "execution_count": 9,
   "source": [
    "# pd.Timestamp()\r\n",
    "\r\n",
    "import numpy as np\r\n",
    "import pandas as pd\r\n",
    "\r\n",
    "date1 = datetime.datetime(2016,12,1,12,45,30)  # 创建一个datetime.datetime\r\n",
    "date2 = '2017-12-21'  # 创建一个字符串\r\n",
    "t1 = pd.Timestamp(date1)\r\n",
    "t2 = pd.Timestamp(date2)\r\n",
    "print(t1,type(t1))\r\n",
    "print(t2)\r\n",
    "print(pd.Timestamp('2017-12-21 15:00:22'))\r\n",
    "# 直接生成pandas的时刻数据 → 时间戳\r\n",
    "# 数据类型为 pandas的Timestamp"
   ],
   "outputs": [
    {
     "output_type": "stream",
     "name": "stdout",
     "text": [
      "2016-12-01 12:45:30 <class 'pandas._libs.tslibs.timestamps.Timestamp'>\n",
      "2017-12-21 00:00:00\n",
      "2017-12-21 15:00:22\n"
     ]
    }
   ],
   "metadata": {
    "collapsed": false
   }
  },
  {
   "cell_type": "code",
   "execution_count": 10,
   "source": [
    "# pd.to_datetime\r\n",
    "\r\n",
    "from datetime import datetime\r\n",
    "import pandas as pd\r\n",
    "date1 = datetime(2016,12,1,12,45,30)\r\n",
    "date2 = '2017-12-21'\r\n",
    "t1 = pd.to_datetime(date1)\r\n",
    "t2 = pd.to_datetime(date2)\r\n",
    "print(t1,type(t1))\r\n",
    "print(t2,type(t2))\r\n",
    "# pd.to_datetime()：如果是单个时间数据，转换成pandas的时刻数据，数据类型为Timestamp\r\n",
    "\r\n",
    "lst_date = [ '2017-12-21', '2017-12-22', '2017-12-23']\r\n",
    "t3 = pd.to_datetime(lst_date)\r\n",
    "print(t3[1],type(t3))\r\n",
    "# 多个时间数据，将会转换为pandas的DatetimeIndex 类似于列表"
   ],
   "outputs": [
    {
     "output_type": "stream",
     "name": "stdout",
     "text": [
      "2016-12-01 12:45:30 <class 'pandas._libs.tslibs.timestamps.Timestamp'>\n",
      "2017-12-21 00:00:00 <class 'pandas._libs.tslibs.timestamps.Timestamp'>\n",
      "2017-12-22 00:00:00 <class 'pandas.core.indexes.datetimes.DatetimeIndex'>\n"
     ]
    }
   ],
   "metadata": {
    "collapsed": false
   }
  },
  {
   "cell_type": "code",
   "execution_count": 15,
   "source": [
    "# pd.to_datetime → 多个时间数据转换时间戳索引\r\n",
    "\r\n",
    "date1 = [datetime(2015,6,1),datetime(2015,7,1),datetime(2015,8,1),datetime(2015,9,1),datetime(2015,10,1)]\r\n",
    "date2 = ['2017-2-1','2017-2-2','2017-2-3','2017-2-4','2017-2-5','2017-2-6']\r\n",
    "# print(date1,type(date1))\r\n",
    "# print(date2)\r\n",
    "# t1 = pd.to_datetime(date1)\r\n",
    "# t2 = pd.to_datetime(date2)\r\n",
    "# print(t1,type(t1))\r\n",
    "# print(t2,type(t2))\r\n",
    "# # 多个时间数据转换为 DatetimeIndex\r\n",
    "\r\n",
    "date3 = ['2017-2-1','2017-2-2','2017-2-3','hello world!','2017-2-5','2017-2-6']\r\n",
    "t3 = pd.to_datetime(date3, errors = 'ignore')\r\n",
    "print(t3,type(t3))\r\n",
    "# 当一组时间序列中夹杂其他格式数据，可用errors参数返回\r\n",
    "# errors = 'ignore':不可解析时返回原始输入，这里就是直接生成一般数组\r\n",
    "\r\n",
    "# t4 = pd.to_datetime(date3, errors = 'coerce')\r\n",
    "# print(t4,type(t4))\r\n",
    "# errors = 'coerce':不可扩展，缺失值返回NaT（Not a Time），结果为DatetimeIndex"
   ],
   "outputs": [
    {
     "output_type": "stream",
     "name": "stdout",
     "text": [
      "Index(['2017-2-1', '2017-2-2', '2017-2-3', 'hello world!', '2017-2-5',\n",
      "       '2017-2-6'],\n",
      "      dtype='object') <class 'pandas.core.indexes.base.Index'>\n"
     ]
    }
   ],
   "metadata": {
    "collapsed": false
   }
  },
  {
   "cell_type": "markdown",
   "source": [
    "######## 本节课有作业，请查看 “课程作业.docx”  ########"
   ],
   "metadata": {}
  },
  {
   "cell_type": "code",
   "execution_count": null,
   "source": [
    "'''\r\n",
    "【课程2.10】  Pandas时间戳索引：DatetimeIndex\r\n",
    "\r\n",
    "核心：pd.date_range()\r\n",
    "\r\n",
    "'''"
   ],
   "outputs": [],
   "metadata": {
    "collapsed": true
   }
  },
  {
   "cell_type": "code",
   "execution_count": 17,
   "source": [
    "# pd.DatetimeIndex()与TimeSeries时间序列\r\n",
    "import numpy as np\r\n",
    "rng = pd.DatetimeIndex(['12/1/2017','12/2/2017','12/3/2017','12/4/2017','12/5/2017'])\r\n",
    "print(rng,type(rng))\r\n",
    "print(rng[0],type(rng[0]))\r\n",
    "# 直接生成时间戳索引，支持str、datetime.datetime\r\n",
    "# 单个时间戳为Timestamp，多个时间戳为DatetimeIndex\r\n",
    "\r\n",
    "st = pd.Series(np.random.rand(len(rng)), index = rng)\r\n",
    "print(st,type(st))\r\n",
    "print(st.index)\r\n",
    "# 以DatetimeIndex为index的Series，为TimeSries，时间序列"
   ],
   "outputs": [
    {
     "output_type": "stream",
     "name": "stdout",
     "text": [
      "DatetimeIndex(['2017-12-01', '2017-12-02', '2017-12-03', '2017-12-04',\n",
      "               '2017-12-05'],\n",
      "              dtype='datetime64[ns]', freq=None) <class 'pandas.core.indexes.datetimes.DatetimeIndex'>\n",
      "2017-12-01 00:00:00 <class 'pandas._libs.tslibs.timestamps.Timestamp'>\n",
      "2017-12-01    0.281680\n",
      "2017-12-02    0.619271\n",
      "2017-12-03    0.833931\n",
      "2017-12-04    0.401506\n",
      "2017-12-05    0.821543\n",
      "dtype: float64 <class 'pandas.core.series.Series'>\n",
      "DatetimeIndex(['2017-12-01', '2017-12-02', '2017-12-03', '2017-12-04',\n",
      "               '2017-12-05'],\n",
      "              dtype='datetime64[ns]', freq=None)\n"
     ]
    }
   ],
   "metadata": {
    "collapsed": false
   }
  },
  {
   "cell_type": "code",
   "execution_count": 23,
   "source": [
    "# pd.date_range()-日期范围：生成日期范围\r\n",
    "# 2种生成方式：①start + end； ②start/end + periods\r\n",
    "# 默认频率：day\r\n",
    "\r\n",
    "rng1 = pd.date_range('1/1/2017','1/10/2017')\r\n",
    "rng2 = pd.date_range(start = '1/1/2017', periods = 10)\r\n",
    "rng3 = pd.date_range(end = '1/30/2017 15:00:00', periods = 10,normalize=False)  # 增加了时、分、秒\r\n",
    "print(rng1,type(rng1))\r\n",
    "print(rng2)\r\n",
    "print(rng3)\r\n",
    "print('-------')\r\n",
    "# 直接生成DatetimeIndex\r\n",
    "# pd.date_range(start=None, end=None, periods=None, freq='D', tz=None, normalize=False, name=None, closed=None, **kwargs)\r\n",
    "# start：开始时间\r\n",
    "# end：结束时间\r\n",
    "# periods：偏移量\r\n",
    "# freq：频率，默认天，pd.date_range()默认频率为日历日，pd.bdate_range()默认频率为工作日\r\n",
    "# tz：时区\r\n",
    "\r\n",
    "# rng4 = pd.date_range(start = '1/1/2017 15:30', periods = 10, name = 'hello world!', normalize = True)\r\n",
    "# print(rng4)\r\n",
    "# print('-------')\r\n",
    "# # normalize：时间参数值正则化到午夜时间戳（这里最后就直接变成0:00:00，并不是15:30:00）\r\n",
    "# # name：索引对象名称\r\n",
    "\r\n",
    "# print(pd.date_range('20170101','20170104'))  # 20170101也可读取\r\n",
    "# print(pd.date_range('20170101','20170104',closed = 'right'))\r\n",
    "# print(pd.date_range('20170101','20170104',closed = 'left'))\r\n",
    "# print('-------')\r\n",
    "# # closed：默认为None的情况下，左闭右闭，left则左闭右开，right则左开右闭\r\n",
    "\r\n",
    "# print(pd.bdate_range('20210625','20210701'))\r\n",
    "# # pd.bdate_range()默认频率为工作日\r\n",
    "\r\n",
    "# print(list(pd.date_range(start = '1/1/2017', periods = 10)))\r\n",
    "# # 直接转化为list，元素为Timestamp"
   ],
   "outputs": [
    {
     "output_type": "stream",
     "name": "stdout",
     "text": [
      "DatetimeIndex(['2017-01-01', '2017-01-02', '2017-01-03', '2017-01-04',\n",
      "               '2017-01-05', '2017-01-06', '2017-01-07', '2017-01-08',\n",
      "               '2017-01-09', '2017-01-10'],\n",
      "              dtype='datetime64[ns]', freq='D') <class 'pandas.core.indexes.datetimes.DatetimeIndex'>\n",
      "DatetimeIndex(['2017-01-01', '2017-01-02', '2017-01-03', '2017-01-04',\n",
      "               '2017-01-05', '2017-01-06', '2017-01-07', '2017-01-08',\n",
      "               '2017-01-09', '2017-01-10'],\n",
      "              dtype='datetime64[ns]', freq='D')\n",
      "DatetimeIndex(['2017-01-21 15:00:00', '2017-01-22 15:00:00',\n",
      "               '2017-01-23 15:00:00', '2017-01-24 15:00:00',\n",
      "               '2017-01-25 15:00:00', '2017-01-26 15:00:00',\n",
      "               '2017-01-27 15:00:00', '2017-01-28 15:00:00',\n",
      "               '2017-01-29 15:00:00', '2017-01-30 15:00:00'],\n",
      "              dtype='datetime64[ns]', freq='D')\n",
      "-------\n"
     ]
    }
   ],
   "metadata": {
    "collapsed": false
   }
  },
  {
   "cell_type": "code",
   "execution_count": 10,
   "source": [
    "# pd.date_range()-日期范围：频率(1)\r\n",
    "\r\n",
    "print(pd.date_range('2017/1/1','2017/1/4'))  # 默认freq = 'D'：每日历日\r\n",
    "print(pd.date_range('2017/1/1','2017/1/1', freq = 'B'))  # B：每工作日\r\n",
    "print(pd.date_range('2017/1/1','2017/1/2', freq = 'H'))  # H：每小时\r\n",
    "print(pd.date_range('2017/1/1 12:00','2017/1/1 12:10', freq = 'T'))  # T/MIN：每分\r\n",
    "print(pd.date_range('2017/1/1 12:00:00','2017/1/1 12:00:10', freq = 'S'))  # S：每秒\r\n",
    "print(pd.date_range('2017/1/1 12:00:00','2017/1/1 12:00:10', freq = 'L'))  # L：每毫秒（千分之一秒）\r\n",
    "print(pd.date_range('2017/1/1 12:00:00','2017/1/1 12:00:10', freq = 'U'))  # U：每微秒（百万分之一秒）\r\n",
    "\r\n",
    "print(pd.date_range('2017/1/1','2017/2/1', freq = 'W-MON'))  \r\n",
    "# W-MON：从指定星期几开始算起，每周\r\n",
    "# 星期几缩写：MON/TUE/WED/THU/FRI/SAT/SUN\r\n",
    "\r\n",
    "print(pd.date_range('2017/1/1','2017/5/1', freq = 'WOM-2MON'))  \r\n",
    "# WOM-2MON：每月的第几个星期几开始算，这里是每月第二个星期一"
   ],
   "outputs": [
    {
     "output_type": "stream",
     "name": "stdout",
     "text": [
      "DatetimeIndex(['2017-01-01', '2017-01-02', '2017-01-03', '2017-01-04'], dtype='datetime64[ns]', freq='D')\n",
      "DatetimeIndex(['2017-01-02', '2017-01-03', '2017-01-04'], dtype='datetime64[ns]', freq='B')\n",
      "DatetimeIndex(['2017-01-01 00:00:00', '2017-01-01 01:00:00',\n",
      "               '2017-01-01 02:00:00', '2017-01-01 03:00:00',\n",
      "               '2017-01-01 04:00:00', '2017-01-01 05:00:00',\n",
      "               '2017-01-01 06:00:00', '2017-01-01 07:00:00',\n",
      "               '2017-01-01 08:00:00', '2017-01-01 09:00:00',\n",
      "               '2017-01-01 10:00:00', '2017-01-01 11:00:00',\n",
      "               '2017-01-01 12:00:00', '2017-01-01 13:00:00',\n",
      "               '2017-01-01 14:00:00', '2017-01-01 15:00:00',\n",
      "               '2017-01-01 16:00:00', '2017-01-01 17:00:00',\n",
      "               '2017-01-01 18:00:00', '2017-01-01 19:00:00',\n",
      "               '2017-01-01 20:00:00', '2017-01-01 21:00:00',\n",
      "               '2017-01-01 22:00:00', '2017-01-01 23:00:00',\n",
      "               '2017-01-02 00:00:00'],\n",
      "              dtype='datetime64[ns]', freq='H')\n",
      "DatetimeIndex(['2017-01-01 12:00:00', '2017-01-01 12:01:00',\n",
      "               '2017-01-01 12:02:00', '2017-01-01 12:03:00',\n",
      "               '2017-01-01 12:04:00', '2017-01-01 12:05:00',\n",
      "               '2017-01-01 12:06:00', '2017-01-01 12:07:00',\n",
      "               '2017-01-01 12:08:00', '2017-01-01 12:09:00',\n",
      "               '2017-01-01 12:10:00'],\n",
      "              dtype='datetime64[ns]', freq='T')\n",
      "DatetimeIndex(['2017-01-01 12:00:00', '2017-01-01 12:00:01',\n",
      "               '2017-01-01 12:00:02', '2017-01-01 12:00:03',\n",
      "               '2017-01-01 12:00:04', '2017-01-01 12:00:05',\n",
      "               '2017-01-01 12:00:06', '2017-01-01 12:00:07',\n",
      "               '2017-01-01 12:00:08', '2017-01-01 12:00:09',\n",
      "               '2017-01-01 12:00:10'],\n",
      "              dtype='datetime64[ns]', freq='S')\n",
      "DatetimeIndex([       '2017-01-01 12:00:00', '2017-01-01 12:00:00.001000',\n",
      "               '2017-01-01 12:00:00.002000', '2017-01-01 12:00:00.003000',\n",
      "               '2017-01-01 12:00:00.004000', '2017-01-01 12:00:00.005000',\n",
      "               '2017-01-01 12:00:00.006000', '2017-01-01 12:00:00.007000',\n",
      "               '2017-01-01 12:00:00.008000', '2017-01-01 12:00:00.009000',\n",
      "               ...\n",
      "               '2017-01-01 12:00:09.991000', '2017-01-01 12:00:09.992000',\n",
      "               '2017-01-01 12:00:09.993000', '2017-01-01 12:00:09.994000',\n",
      "               '2017-01-01 12:00:09.995000', '2017-01-01 12:00:09.996000',\n",
      "               '2017-01-01 12:00:09.997000', '2017-01-01 12:00:09.998000',\n",
      "               '2017-01-01 12:00:09.999000',        '2017-01-01 12:00:10'],\n",
      "              dtype='datetime64[ns]', length=10001, freq='L')\n",
      "DatetimeIndex([       '2017-01-01 12:00:00', '2017-01-01 12:00:00.000001',\n",
      "               '2017-01-01 12:00:00.000002', '2017-01-01 12:00:00.000003',\n",
      "               '2017-01-01 12:00:00.000004', '2017-01-01 12:00:00.000005',\n",
      "               '2017-01-01 12:00:00.000006', '2017-01-01 12:00:00.000007',\n",
      "               '2017-01-01 12:00:00.000008', '2017-01-01 12:00:00.000009',\n",
      "               ...\n",
      "               '2017-01-01 12:00:09.999991', '2017-01-01 12:00:09.999992',\n",
      "               '2017-01-01 12:00:09.999993', '2017-01-01 12:00:09.999994',\n",
      "               '2017-01-01 12:00:09.999995', '2017-01-01 12:00:09.999996',\n",
      "               '2017-01-01 12:00:09.999997', '2017-01-01 12:00:09.999998',\n",
      "               '2017-01-01 12:00:09.999999',        '2017-01-01 12:00:10'],\n",
      "              dtype='datetime64[ns]', length=10000001, freq='U')\n",
      "DatetimeIndex(['2017-01-02', '2017-01-09', '2017-01-16', '2017-01-23',\n",
      "               '2017-01-30'],\n",
      "              dtype='datetime64[ns]', freq='W-MON')\n",
      "DatetimeIndex(['2017-01-09', '2017-02-13', '2017-03-13', '2017-04-10'], dtype='datetime64[ns]', freq='WOM-2MON')\n"
     ]
    }
   ],
   "metadata": {
    "collapsed": false
   }
  },
  {
   "cell_type": "code",
   "execution_count": 11,
   "source": [
    "# pd.date_range()-日期范围：频率(2)\r\n",
    "\r\n",
    "print(pd.date_range('2017','2018', freq = 'M'))  \r\n",
    "print(pd.date_range('2017','2020', freq = 'Q-DEC'))  \r\n",
    "print(pd.date_range('2017','2020', freq = 'A-DEC')) \r\n",
    "print('------')\r\n",
    "# M：每月最后一个日历日\r\n",
    "# Q-月：指定月为季度末，每个季度末最后一月的最后一个日历日\r\n",
    "# A-月：每年指定月份的最后一个日历日\r\n",
    "# 月缩写：JAN/FEB/MAR/APR/MAY/JUN/JUL/AUG/SEP/OCT/NOV/DEC\r\n",
    "# 所以Q-月只有三种情况：1-4-7-10,2-5-8-11,3-6-9-12\r\n",
    "\r\n",
    "print(pd.date_range('2017','2018', freq = 'BM'))  \r\n",
    "print(pd.date_range('2017','2020', freq = 'BQ-DEC'))  \r\n",
    "print(pd.date_range('2017','2020', freq = 'BA-DEC')) \r\n",
    "print('------')\r\n",
    "# BM：每月最后一个工作日\r\n",
    "# BQ-月：指定月为季度末，每个季度末最后一月的最后一个工作日\r\n",
    "# BA-月：每年指定月份的最后一个工作日\r\n",
    "\r\n",
    "print(pd.date_range('2017','2018', freq = 'MS'))  \r\n",
    "print(pd.date_range('2017','2020', freq = 'QS-DEC'))  \r\n",
    "print(pd.date_range('2017','2020', freq = 'AS-DEC')) \r\n",
    "print('------')\r\n",
    "# M：每月第一个日历日\r\n",
    "# Q-月：指定月为季度末，每个季度末最后一月的第一个日历日\r\n",
    "# A-月：每年指定月份的第一个日历日\r\n",
    "\r\n",
    "print(pd.date_range('2017','2018', freq = 'BMS'))  \r\n",
    "print(pd.date_range('2017','2020', freq = 'BQS-DEC'))  \r\n",
    "print(pd.date_range('2017','2020', freq = 'BAS-DEC')) \r\n",
    "print('------')\r\n",
    "# BM：每月第一个工作日\r\n",
    "# BQ-月：指定月为季度末，每个季度末最后一月的第一个工作日\r\n",
    "# BA-月：每年指定月份的第一个工作日"
   ],
   "outputs": [
    {
     "output_type": "stream",
     "name": "stdout",
     "text": [
      "DatetimeIndex(['2017-01-31', '2017-02-28', '2017-03-31', '2017-04-30',\n",
      "               '2017-05-31', '2017-06-30', '2017-07-31', '2017-08-31',\n",
      "               '2017-09-30', '2017-10-31', '2017-11-30', '2017-12-31'],\n",
      "              dtype='datetime64[ns]', freq='M')\n",
      "DatetimeIndex(['2017-03-31', '2017-06-30', '2017-09-30', '2017-12-31',\n",
      "               '2018-03-31', '2018-06-30', '2018-09-30', '2018-12-31',\n",
      "               '2019-03-31', '2019-06-30', '2019-09-30', '2019-12-31'],\n",
      "              dtype='datetime64[ns]', freq='Q-DEC')\n",
      "DatetimeIndex(['2017-12-31', '2018-12-31', '2019-12-31'], dtype='datetime64[ns]', freq='A-DEC')\n",
      "------\n",
      "DatetimeIndex(['2017-01-31', '2017-02-28', '2017-03-31', '2017-04-28',\n",
      "               '2017-05-31', '2017-06-30', '2017-07-31', '2017-08-31',\n",
      "               '2017-09-29', '2017-10-31', '2017-11-30', '2017-12-29'],\n",
      "              dtype='datetime64[ns]', freq='BM')\n",
      "DatetimeIndex(['2017-03-31', '2017-06-30', '2017-09-29', '2017-12-29',\n",
      "               '2018-03-30', '2018-06-29', '2018-09-28', '2018-12-31',\n",
      "               '2019-03-29', '2019-06-28', '2019-09-30', '2019-12-31'],\n",
      "              dtype='datetime64[ns]', freq='BQ-DEC')\n",
      "DatetimeIndex(['2017-12-29', '2018-12-31', '2019-12-31'], dtype='datetime64[ns]', freq='BA-DEC')\n",
      "------\n",
      "DatetimeIndex(['2017-01-01', '2017-02-01', '2017-03-01', '2017-04-01',\n",
      "               '2017-05-01', '2017-06-01', '2017-07-01', '2017-08-01',\n",
      "               '2017-09-01', '2017-10-01', '2017-11-01', '2017-12-01',\n",
      "               '2018-01-01'],\n",
      "              dtype='datetime64[ns]', freq='MS')\n",
      "DatetimeIndex(['2017-03-01', '2017-06-01', '2017-09-01', '2017-12-01',\n",
      "               '2018-03-01', '2018-06-01', '2018-09-01', '2018-12-01',\n",
      "               '2019-03-01', '2019-06-01', '2019-09-01', '2019-12-01'],\n",
      "              dtype='datetime64[ns]', freq='QS-DEC')\n",
      "DatetimeIndex(['2017-12-01', '2018-12-01', '2019-12-01'], dtype='datetime64[ns]', freq='AS-DEC')\n",
      "------\n",
      "DatetimeIndex(['2017-01-02', '2017-02-01', '2017-03-01', '2017-04-03',\n",
      "               '2017-05-01', '2017-06-01', '2017-07-03', '2017-08-01',\n",
      "               '2017-09-01', '2017-10-02', '2017-11-01', '2017-12-01',\n",
      "               '2018-01-01'],\n",
      "              dtype='datetime64[ns]', freq='BMS')\n",
      "DatetimeIndex(['2017-03-01', '2017-06-01', '2017-09-01', '2017-12-01',\n",
      "               '2018-03-01', '2018-06-01', '2018-09-03', '2018-12-03',\n",
      "               '2019-03-01', '2019-06-03', '2019-09-02', '2019-12-02'],\n",
      "              dtype='datetime64[ns]', freq='BQS-DEC')\n",
      "DatetimeIndex(['2017-12-01', '2018-12-03', '2019-12-02'], dtype='datetime64[ns]', freq='BAS-DEC')\n",
      "------\n"
     ]
    }
   ],
   "metadata": {
    "collapsed": false
   }
  },
  {
   "cell_type": "code",
   "execution_count": 12,
   "source": [
    "# pd.date_range()-日期范围：复合频率\r\n",
    "\r\n",
    "print(pd.date_range('2017/1/1','2017/2/1', freq = '7D'))  # 7天\r\n",
    "print(pd.date_range('2017/1/1','2017/1/2', freq = '2h30min'))  # 2小时30分钟\r\n",
    "print(pd.date_range('2017','2018', freq = '2M'))  # 2月，每月最后一个日历日"
   ],
   "outputs": [
    {
     "output_type": "stream",
     "name": "stdout",
     "text": [
      "DatetimeIndex(['2017-01-01', '2017-01-08', '2017-01-15', '2017-01-22',\n",
      "               '2017-01-29'],\n",
      "              dtype='datetime64[ns]', freq='7D')\n",
      "DatetimeIndex(['2017-01-01 00:00:00', '2017-01-01 02:30:00',\n",
      "               '2017-01-01 05:00:00', '2017-01-01 07:30:00',\n",
      "               '2017-01-01 10:00:00', '2017-01-01 12:30:00',\n",
      "               '2017-01-01 15:00:00', '2017-01-01 17:30:00',\n",
      "               '2017-01-01 20:00:00', '2017-01-01 22:30:00'],\n",
      "              dtype='datetime64[ns]', freq='150T')\n",
      "DatetimeIndex(['2017-01-31', '2017-03-31', '2017-05-31', '2017-07-31',\n",
      "               '2017-09-30', '2017-11-30'],\n",
      "              dtype='datetime64[ns]', freq='2M')\n"
     ]
    }
   ],
   "metadata": {
    "collapsed": false
   }
  },
  {
   "cell_type": "code",
   "execution_count": 24,
   "source": [
    "# asfreq：时期频率转换\r\n",
    "\r\n",
    "ts = pd.Series(np.random.rand(4),\r\n",
    "              index = pd.date_range('20170101','20170104'))\r\n",
    "print(ts)\r\n",
    "print(ts.asfreq('4H',method =None))\r\n",
    "# 改变频率，这里是D改为4H\r\n",
    "# method：插值模式，None不插值，ffill用之前值填充，bfill用之后值填充"
   ],
   "outputs": [
    {
     "output_type": "stream",
     "name": "stdout",
     "text": [
      "2017-01-01    0.455067\n",
      "2017-01-02    0.891378\n",
      "2017-01-03    0.300694\n",
      "2017-01-04    0.061874\n",
      "Freq: D, dtype: float64\n",
      "2017-01-01 00:00:00    0.455067\n",
      "2017-01-01 04:00:00         NaN\n",
      "2017-01-01 08:00:00         NaN\n",
      "2017-01-01 12:00:00         NaN\n",
      "2017-01-01 16:00:00         NaN\n",
      "2017-01-01 20:00:00         NaN\n",
      "2017-01-02 00:00:00    0.891378\n",
      "2017-01-02 04:00:00         NaN\n",
      "2017-01-02 08:00:00         NaN\n",
      "2017-01-02 12:00:00         NaN\n",
      "2017-01-02 16:00:00         NaN\n",
      "2017-01-02 20:00:00         NaN\n",
      "2017-01-03 00:00:00    0.300694\n",
      "2017-01-03 04:00:00         NaN\n",
      "2017-01-03 08:00:00         NaN\n",
      "2017-01-03 12:00:00         NaN\n",
      "2017-01-03 16:00:00         NaN\n",
      "2017-01-03 20:00:00         NaN\n",
      "2017-01-04 00:00:00    0.061874\n",
      "Freq: 4H, dtype: float64\n"
     ]
    }
   ],
   "metadata": {
    "collapsed": false
   }
  },
  {
   "cell_type": "code",
   "execution_count": 26,
   "source": [
    "# pd.date_range()-日期范围：超前/滞后数据\r\n",
    "\r\n",
    "ts = pd.Series(np.random.rand(4),\r\n",
    "              index = pd.date_range('20170101','20170104'))\r\n",
    "print(ts)\r\n",
    "\r\n",
    "print(ts.shift(2))\r\n",
    "print(ts.shift(-2))\r\n",
    "print('------')\r\n",
    "# 正数：数值后移（滞后）；负数：数值前移（超前）\r\n",
    "\r\n",
    "per = ts/ts.shift(1) - 1\r\n",
    "print(per)\r\n",
    "print('------')\r\n",
    "# 计算变化百分比，这里计算：该时间戳与上一个时间戳相比，变化百分比\r\n",
    "\r\n",
    "print(ts.shift(2, freq = 'D'))\r\n",
    "print(ts.shift(25, freq = 'H'))\r\n",
    "# 加上freq参数：对时间戳进行位移，而不是对数值进行位移"
   ],
   "outputs": [
    {
     "output_type": "stream",
     "name": "stdout",
     "text": [
      "2017-01-01    0.275011\n",
      "2017-01-02    0.482823\n",
      "2017-01-03    0.276471\n",
      "2017-01-04    0.085297\n",
      "Freq: D, dtype: float64\n",
      "2017-01-01         NaN\n",
      "2017-01-02         NaN\n",
      "2017-01-03    0.275011\n",
      "2017-01-04    0.482823\n",
      "Freq: D, dtype: float64\n",
      "2017-01-01    0.276471\n",
      "2017-01-02    0.085297\n",
      "2017-01-03         NaN\n",
      "2017-01-04         NaN\n",
      "Freq: D, dtype: float64\n",
      "------\n",
      "2017-01-01         NaN\n",
      "2017-01-02    0.755647\n",
      "2017-01-03   -0.427387\n",
      "2017-01-04   -0.691478\n",
      "Freq: D, dtype: float64\n",
      "------\n",
      "2017-01-03    0.275011\n",
      "2017-01-04    0.482823\n",
      "2017-01-05    0.276471\n",
      "2017-01-06    0.085297\n",
      "Freq: D, dtype: float64\n",
      "2017-01-02 01:00:00    0.275011\n",
      "2017-01-03 01:00:00    0.482823\n",
      "2017-01-04 01:00:00    0.276471\n",
      "2017-01-05 01:00:00    0.085297\n",
      "Freq: D, dtype: float64\n"
     ]
    }
   ],
   "metadata": {
    "collapsed": false
   }
  },
  {
   "cell_type": "markdown",
   "source": [
    "######## 本节课有作业，请查看 “课程作业.docx”  ########"
   ],
   "metadata": {}
  },
  {
   "cell_type": "code",
   "execution_count": null,
   "source": [
    "'''\r\n",
    "【课程2.11】  Pandas时期：Period\r\n",
    "\r\n",
    "核心：pd.Period()\r\n",
    "\r\n",
    "'''"
   ],
   "outputs": [],
   "metadata": {
    "collapsed": false
   }
  },
  {
   "cell_type": "code",
   "execution_count": 27,
   "source": [
    "# pd.Period()创建时期\r\n",
    "import pandas as pd \r\n",
    "import numpy as np\r\n",
    "p = pd.Period('2017', freq = 'M')\r\n",
    "print(p, type(p))\r\n",
    "# 生成一个以2017-01开始，月为频率的时间构造器\r\n",
    "# pd.Period()参数：一个时间戳 + freq 参数 → freq 用于指明该 period 的长度，时间戳则说明该 period 在时间轴上的位置\r\n",
    "\r\n",
    "print(p + 1)\r\n",
    "print(p - 2)\r\n",
    "print(pd.Period('2007', freq = 'A-DEC') - 1)##  'A-DEC' 表示以12月作为结束的一整年，这里表示从2007-01-01到2017-12-31的全年\r\n",
    "# 通过加减整数，将周期整体移动\r\n",
    "# 这里是按照 月、年 移动"
   ],
   "outputs": [
    {
     "output_type": "stream",
     "name": "stdout",
     "text": [
      "2017-01 <class 'pandas._libs.tslibs.period.Period'>\n",
      "2017-02\n",
      "2016-11\n",
      "2006\n"
     ]
    }
   ],
   "metadata": {
    "collapsed": false
   }
  },
  {
   "cell_type": "code",
   "execution_count": 16,
   "source": [
    "# pd.period_range()创建时期范围\r\n",
    "\r\n",
    "prng = pd.period_range('1/1/2011', '1/1/2012', freq='M')\r\n",
    "print(prng,type(prng))\r\n",
    "print(prng[0],type(prng[0]))\r\n",
    "# 数据格式为PeriodIndex，单个数值为Period\r\n",
    "\r\n",
    "ts = pd.Series(np.random.rand(len(prng)), index = prng)\r\n",
    "print(ts,type(ts))\r\n",
    "print(ts.index)\r\n",
    "# 时间序列\r\n",
    "\r\n",
    "# Period('2011', freq = 'A-DEC')可以看成多个时间期的时间段中的游标\r\n",
    "# Timestamp表示一个时间戳，是一个时间截面；Period是一个时期，是一个时间段！！但两者作为index时区别不大"
   ],
   "outputs": [
    {
     "output_type": "stream",
     "name": "stdout",
     "text": [
      "PeriodIndex(['2011-01', '2011-02', '2011-03', '2011-04', '2011-05', '2011-06',\n",
      "             '2011-07', '2011-08', '2011-09', '2011-10', '2011-11', '2011-12',\n",
      "             '2012-01'],\n",
      "            dtype='int64', freq='M') <class 'pandas.tseries.period.PeriodIndex'>\n",
      "2011-01 <class 'pandas._period.Period'>\n",
      "2011-01    0.342571\n",
      "2011-02    0.826151\n",
      "2011-03    0.370505\n",
      "2011-04    0.137151\n",
      "2011-05    0.679976\n",
      "2011-06    0.265928\n",
      "2011-07    0.416502\n",
      "2011-08    0.874078\n",
      "2011-09    0.112801\n",
      "2011-10    0.112504\n",
      "2011-11    0.448408\n",
      "2011-12    0.851046\n",
      "2012-01    0.370605\n",
      "Freq: M, dtype: float64 <class 'pandas.core.series.Series'>\n",
      "PeriodIndex(['2011-01', '2011-02', '2011-03', '2011-04', '2011-05', '2011-06',\n",
      "             '2011-07', '2011-08', '2011-09', '2011-10', '2011-11', '2011-12',\n",
      "             '2012-01'],\n",
      "            dtype='int64', freq='M')\n"
     ]
    }
   ],
   "metadata": {
    "collapsed": false
   }
  },
  {
   "cell_type": "code",
   "execution_count": 18,
   "source": [
    "# asfreq：频率转换\r\n",
    "\r\n",
    "p = pd.Period('2017','A-DEC')\r\n",
    "print(p)\r\n",
    "print(p.asfreq('M', how = 'start'))  # 也可写 how = 's'\r\n",
    "print(p.asfreq('D', how = 'end'))  # 也可写 how = 'e'\r\n",
    "# 通过.asfreq(freq, method=None, how=None)方法转换成别的频率\r\n",
    "\r\n",
    "prng = pd.period_range('2017','2018',freq = 'M')\r\n",
    "ts1 = pd.Series(np.random.rand(len(prng)), index = prng)\r\n",
    "ts2 = pd.Series(np.random.rand(len(prng)), index = prng.asfreq('D', how = 'start'))\r\n",
    "print(ts1.head(),len(ts1))\r\n",
    "print(ts2.head(),len(ts2))\r\n",
    "# asfreq也可以转换TIMESeries的index"
   ],
   "outputs": [
    {
     "output_type": "stream",
     "name": "stdout",
     "text": [
      "2017\n",
      "2017-01\n",
      "2017-12-31\n",
      "2017-01    0.060797\n",
      "2017-02    0.441994\n",
      "2017-03    0.971933\n",
      "2017-04    0.000334\n",
      "2017-05    0.545191\n",
      "Freq: M, dtype: float64 13\n",
      "2017-01-01    0.447614\n",
      "2017-02-01    0.679438\n",
      "2017-03-01    0.891729\n",
      "2017-04-01    0.949993\n",
      "2017-05-01    0.942548\n",
      "Freq: D, dtype: float64 13\n"
     ]
    }
   ],
   "metadata": {
    "collapsed": false
   }
  },
  {
   "cell_type": "code",
   "execution_count": 2,
   "source": [
    "# 时间戳与时期之间的转换：pd.to_period()、pd.to_timestamp()\r\n",
    "import numpy as np \r\n",
    "import pandas as pd \r\n",
    "\r\n",
    "rng = pd.date_range('2017/1/1', periods = 10, freq = 'M')\r\n",
    "prng = pd.period_range('2017','2018', freq = 'M')\r\n",
    "print(rng)\r\n",
    "ts1 = pd.Series(np.random.rand(len(rng)), index = rng)\r\n",
    "print(ts1.head())\r\n",
    "print(ts1.to_period().head())\r\n",
    "# 每月最后一日，转化为每月\r\n",
    "\r\n",
    "ts2 = pd.Series(np.random.rand(len(prng)), index = prng)\r\n",
    "print(ts2.head())\r\n",
    "print(ts2.to_timestamp().head())\r\n",
    "# 每月，转化为每月第一天"
   ],
   "outputs": [
    {
     "output_type": "stream",
     "name": "stdout",
     "text": [
      "DatetimeIndex(['2017-01-31', '2017-02-28', '2017-03-31', '2017-04-30',\n",
      "               '2017-05-31', '2017-06-30', '2017-07-31', '2017-08-31',\n",
      "               '2017-09-30', '2017-10-31'],\n",
      "              dtype='datetime64[ns]', freq='M')\n",
      "2017-01-31    0.520653\n",
      "2017-02-28    0.463845\n",
      "2017-03-31    0.311291\n",
      "2017-04-30    0.214555\n",
      "2017-05-31    0.287360\n",
      "Freq: M, dtype: float64\n",
      "2017-01    0.520653\n",
      "2017-02    0.463845\n",
      "2017-03    0.311291\n",
      "2017-04    0.214555\n",
      "2017-05    0.287360\n",
      "Freq: M, dtype: float64\n",
      "2017-01    0.709109\n",
      "2017-02    0.195499\n",
      "2017-03    0.796989\n",
      "2017-04    0.102325\n",
      "2017-05    0.524232\n",
      "Freq: M, dtype: float64\n",
      "2017-01-01    0.709109\n",
      "2017-02-01    0.195499\n",
      "2017-03-01    0.796989\n",
      "2017-04-01    0.102325\n",
      "2017-05-01    0.524232\n",
      "Freq: MS, dtype: float64\n"
     ]
    }
   ],
   "metadata": {
    "collapsed": false
   }
  },
  {
   "cell_type": "markdown",
   "source": [
    "######## 本节课有作业，请查看 “课程作业.docx”  ########"
   ],
   "metadata": {}
  },
  {
   "cell_type": "code",
   "execution_count": null,
   "source": [
    "'''\r\n",
    "【课程2.12】  时间序列 - 索引及切片\r\n",
    "\r\n",
    "TimeSeries是Series的一个子类，所以Series索引及数据选取方面的方法基本一样\r\n",
    "\r\n",
    "同时TimeSeries通过时间序列有更便捷的方法做索引和切片\r\n",
    " \r\n",
    "'''"
   ],
   "outputs": [],
   "metadata": {
    "collapsed": false
   }
  },
  {
   "cell_type": "code",
   "execution_count": 3,
   "source": [
    "# 索引\r\n",
    "\r\n",
    "from datetime import datetime\r\n",
    "\r\n",
    "rng = pd.date_range('2017/1','2017/3')\r\n",
    "ts = pd.Series(np.random.rand(len(rng)), index = rng)\r\n",
    "print(ts.head())\r\n",
    "\r\n",
    "print(ts[0])\r\n",
    "print(ts[:2])\r\n",
    "print('-----')\r\n",
    "# 基本下标位置索引\r\n",
    "\r\n",
    "print(ts['2017/1/2'])\r\n",
    "print(ts['20170103'])\r\n",
    "print(ts['1/10/2017'])\r\n",
    "print(ts[datetime(2017,1,20)])\r\n",
    "print('-----')\r\n",
    "# 时间序列标签索引，支持各种时间字符串，以及datetime.datetime\r\n",
    "\r\n",
    "# 时间序列由于按照时间先后排序，故不用考虑顺序问题\r\n",
    "# 索引方法同样适用于Dataframe"
   ],
   "outputs": [
    {
     "output_type": "stream",
     "name": "stdout",
     "text": [
      "2017-01-01    0.378853\n",
      "2017-01-02    0.526256\n",
      "2017-01-03    0.791815\n",
      "2017-01-04    0.852521\n",
      "2017-01-05    0.340828\n",
      "Freq: D, dtype: float64\n",
      "0.3788529933109065\n",
      "2017-01-01    0.378853\n",
      "2017-01-02    0.526256\n",
      "Freq: D, dtype: float64\n",
      "-----\n",
      "0.5262563762254361\n",
      "0.7918151975059207\n",
      "0.034612122143408475\n",
      "0.18092755555566153\n",
      "-----\n"
     ]
    }
   ],
   "metadata": {
    "collapsed": false
   }
  },
  {
   "cell_type": "code",
   "execution_count": 21,
   "source": [
    "# 切片\r\n",
    "\r\n",
    "rng = pd.date_range('2017/1','2017/3',freq = '12H')\r\n",
    "ts = pd.Series(np.random.rand(len(rng)), index = rng)\r\n",
    "\r\n",
    "print(ts['2017/1/5':'2017/1/10'])\r\n",
    "print('-----')\r\n",
    "# 和Series按照index索引原理一样，也是末端包含\r\n",
    "\r\n",
    "print(ts['2017/2'].head())\r\n",
    "# 传入月，直接得到一个切片"
   ],
   "outputs": [
    {
     "output_type": "stream",
     "name": "stdout",
     "text": [
      "2017-01-05 00:00:00    0.462085\n",
      "2017-01-05 12:00:00    0.778637\n",
      "2017-01-06 00:00:00    0.356306\n",
      "2017-01-06 12:00:00    0.667964\n",
      "2017-01-07 00:00:00    0.246857\n",
      "2017-01-07 12:00:00    0.386956\n",
      "2017-01-08 00:00:00    0.328203\n",
      "2017-01-08 12:00:00    0.260853\n",
      "2017-01-09 00:00:00    0.224920\n",
      "2017-01-09 12:00:00    0.397457\n",
      "2017-01-10 00:00:00    0.158729\n",
      "2017-01-10 12:00:00    0.501266\n",
      "Freq: 12H, dtype: float64\n",
      "-----\n",
      "2017-02-01 00:00:00    0.243932\n",
      "2017-02-01 12:00:00    0.220830\n",
      "2017-02-02 00:00:00    0.896107\n",
      "2017-02-02 12:00:00    0.476584\n",
      "2017-02-03 00:00:00    0.515817\n",
      "Freq: 12H, dtype: float64\n"
     ]
    }
   ],
   "metadata": {
    "collapsed": false
   }
  },
  {
   "cell_type": "code",
   "execution_count": 22,
   "source": [
    "# 重复索引的时间序列\r\n",
    "\r\n",
    "dates = pd.DatetimeIndex(['1/1/2015','1/2/2015','1/3/2015','1/4/2015','1/1/2015','1/2/2015'])\r\n",
    "ts = pd.Series(np.random.rand(6), index = dates)\r\n",
    "print(ts)\r\n",
    "print(ts.is_unique,ts.index.is_unique)\r\n",
    "print('-----')\r\n",
    "# index有重复，is_unique检查 → values唯一，index不唯一\r\n",
    "\r\n",
    "print(ts['20150101'],type(ts['20150101']))\r\n",
    "print(ts['20150104'],type(ts['20150104']))\r\n",
    "print('-----')\r\n",
    "# index有重复的将返回多个值\r\n",
    "\r\n",
    "print(ts.groupby(level = 0).mean())\r\n",
    "# 通过groupby做分组，重复的值这里用平均值处理"
   ],
   "outputs": [
    {
     "output_type": "stream",
     "name": "stdout",
     "text": [
      "2015-01-01    0.300286\n",
      "2015-01-02    0.603865\n",
      "2015-01-03    0.017949\n",
      "2015-01-04    0.026621\n",
      "2015-01-01    0.791441\n",
      "2015-01-02    0.526622\n",
      "dtype: float64\n",
      "True False\n",
      "-----\n",
      "2015-01-01    0.300286\n",
      "2015-01-01    0.791441\n",
      "dtype: float64 <class 'pandas.core.series.Series'>\n",
      "2015-01-04    0.026621\n",
      "dtype: float64 <class 'pandas.core.series.Series'>\n",
      "-----\n",
      "2015-01-01    0.545863\n",
      "2015-01-02    0.565244\n",
      "2015-01-03    0.017949\n",
      "2015-01-04    0.026621\n",
      "dtype: float64\n"
     ]
    }
   ],
   "metadata": {
    "collapsed": false
   }
  },
  {
   "cell_type": "markdown",
   "source": [
    "######## 本节课有作业，请查看 “课程作业.docx”  ########"
   ],
   "metadata": {}
  },
  {
   "cell_type": "code",
   "execution_count": null,
   "source": [
    "'''\r\n",
    "【课程2.13】  时间序列 - 重采样\r\n",
    "\r\n",
    "将时间序列从一个频率转换为另一个频率的过程，且会有数据的结合\r\n",
    "\r\n",
    "降采样：高频数据 → 低频数据，eg.以天为频率的数据转为以月为频率的数据\r\n",
    "升采样：低频数据 → 高频数据，eg.以年为频率的数据转为以月为频率的数据\r\n",
    " \r\n",
    "'''"
   ],
   "outputs": [],
   "metadata": {
    "collapsed": true
   }
  },
  {
   "cell_type": "code",
   "execution_count": 6,
   "source": [
    "# 重采样：.resample()\r\n",
    "# 创建一个以天为频率的TimeSeries，重采样为按2天为频率\r\n",
    "import numpy as np \r\n",
    "import pandas as pd \r\n",
    "rng = pd.date_range('20170101', periods = 12)\r\n",
    "ts = pd.Series(np.arange(12), index = rng)\r\n",
    "print(ts)\r\n",
    "\r\n",
    "ts_re = ts.resample('5D')\r\n",
    "ts_re2 = ts.resample('5D').sum()\r\n",
    "print(ts_re, type(ts_re))\r\n",
    "print(ts_re2, type(ts_re2))\r\n",
    "print('-----')\r\n",
    "# ts.resample('5D')：得到一个重采样构建器，频率改为5天 \r\n",
    "# ts.resample('5D').sum():得到一个新的聚合后的Series，聚合方式为求和\r\n",
    "# freq：重采样频率 → ts.resample('5D')\r\n",
    "# .sum()：聚合方法\r\n",
    "\r\n",
    "print(ts.resample('5D').mean(),'→ 求平均值\\n')\r\n",
    "print(ts.resample('5D').max(),'→ 求最大值\\n')\r\n",
    "print(ts.resample('5D').min(),'→ 求最小值\\n')\r\n",
    "print(ts.resample('5D').median(),'→ 求中值\\n')\r\n",
    "print(ts.resample('5D').first(),'→ 返回第一个值\\n')\r\n",
    "print(ts.resample('5D').last(),'→ 返回最后一个值\\n')\r\n",
    "print(ts.resample('5D').ohlc(),'→ OHLC重采样\\n')\r\n",
    "# OHLC:金融领域的时间序列聚合方式 → open开盘、high最大值、low最小值、close收盘"
   ],
   "outputs": [
    {
     "output_type": "stream",
     "name": "stdout",
     "text": [
      "2017-01-01     0\n",
      "2017-01-02     1\n",
      "2017-01-03     2\n",
      "2017-01-04     3\n",
      "2017-01-05     4\n",
      "2017-01-06     5\n",
      "2017-01-07     6\n",
      "2017-01-08     7\n",
      "2017-01-09     8\n",
      "2017-01-10     9\n",
      "2017-01-11    10\n",
      "2017-01-12    11\n",
      "Freq: D, dtype: int32\n",
      "DatetimeIndexResampler [freq=<5 * Days>, axis=0, closed=left, label=left, convention=start, base=0] <class 'pandas.core.resample.DatetimeIndexResampler'>\n",
      "2017-01-01    10\n",
      "2017-01-06    35\n",
      "2017-01-11    21\n",
      "Freq: 5D, dtype: int32 <class 'pandas.core.series.Series'>\n",
      "-----\n",
      "2017-01-01     2.0\n",
      "2017-01-06     7.0\n",
      "2017-01-11    10.5\n",
      "Freq: 5D, dtype: float64 → 求平均值\n",
      "\n",
      "2017-01-01     4\n",
      "2017-01-06     9\n",
      "2017-01-11    11\n",
      "Freq: 5D, dtype: int32 → 求最大值\n",
      "\n",
      "2017-01-01     0\n",
      "2017-01-06     5\n",
      "2017-01-11    10\n",
      "Freq: 5D, dtype: int32 → 求最小值\n",
      "\n",
      "2017-01-01     2.0\n",
      "2017-01-06     7.0\n",
      "2017-01-11    10.5\n",
      "Freq: 5D, dtype: float64 → 求中值\n",
      "\n",
      "2017-01-01     0\n",
      "2017-01-06     5\n",
      "2017-01-11    10\n",
      "Freq: 5D, dtype: int32 → 返回第一个值\n",
      "\n",
      "2017-01-01     4\n",
      "2017-01-06     9\n",
      "2017-01-11    11\n",
      "Freq: 5D, dtype: int32 → 返回最后一个值\n",
      "\n",
      "            open  high  low  close\n",
      "2017-01-01     0     4    0      4\n",
      "2017-01-06     5     9    5      9\n",
      "2017-01-11    10    11   10     11 → OHLC重采样\n",
      "\n"
     ]
    }
   ],
   "metadata": {
    "collapsed": false
   }
  },
  {
   "cell_type": "code",
   "execution_count": 24,
   "source": [
    "# 降采样\r\n",
    "\r\n",
    "rng = pd.date_range('20170101', periods = 12)\r\n",
    "ts = pd.Series(np.arange(1,13), index = rng)\r\n",
    "print(ts)\r\n",
    "\r\n",
    "print(ts.resample('5D').sum(),'→ 默认\\n')\r\n",
    "print(ts.resample('5D', closed = 'left').sum(),'→ left\\n')\r\n",
    "print(ts.resample('5D', closed = 'right').sum(),'→ right\\n')\r\n",
    "print('-----')\r\n",
    "# closed：各时间段哪一端是闭合（即包含）的，默认 左闭右闭\r\n",
    "# 详解：这里values为0-11，按照5D重采样 → [1,2,3,4,5],[6,7,8,9,10],[11,12]\r\n",
    "# left指定间隔左边为结束 → [1,2,3,4,5],[6,7,8,9,10],[11,12]\r\n",
    "# right指定间隔右边为结束 → [1],[2,3,4,5,6],[7,8,9,10,11],[12]\r\n",
    "\r\n",
    "print(ts.resample('5D', label = 'left').sum(),'→ leftlabel\\n')\r\n",
    "print(ts.resample('5D', label = 'right').sum(),'→ rightlabel\\n')\r\n",
    "# label：聚合值的index，默认为取左\r\n",
    "# 值采样认为默认（这里closed默认）"
   ],
   "outputs": [
    {
     "output_type": "stream",
     "name": "stdout",
     "text": [
      "2017-01-01     1\n",
      "2017-01-02     2\n",
      "2017-01-03     3\n",
      "2017-01-04     4\n",
      "2017-01-05     5\n",
      "2017-01-06     6\n",
      "2017-01-07     7\n",
      "2017-01-08     8\n",
      "2017-01-09     9\n",
      "2017-01-10    10\n",
      "2017-01-11    11\n",
      "2017-01-12    12\n",
      "Freq: D, dtype: int32\n",
      "2017-01-01    15\n",
      "2017-01-06    40\n",
      "2017-01-11    23\n",
      "Freq: 5D, dtype: int32 → 默认\n",
      "\n",
      "2017-01-01    15\n",
      "2017-01-06    40\n",
      "2017-01-11    23\n",
      "Freq: 5D, dtype: int32 → left\n",
      "\n",
      "2016-12-27     1\n",
      "2017-01-01    20\n",
      "2017-01-06    45\n",
      "2017-01-11    12\n",
      "Freq: 5D, dtype: int32 → right\n",
      "\n",
      "-----\n",
      "2017-01-01    15\n",
      "2017-01-06    40\n",
      "2017-01-11    23\n",
      "Freq: 5D, dtype: int32 → leftlabel\n",
      "\n",
      "2017-01-06    15\n",
      "2017-01-11    40\n",
      "2017-01-16    23\n",
      "Freq: 5D, dtype: int32 → rightlabel\n",
      "\n"
     ]
    }
   ],
   "metadata": {
    "collapsed": false
   }
  },
  {
   "cell_type": "code",
   "execution_count": 25,
   "source": [
    "# 升采样及插值\r\n",
    "\r\n",
    "rng = pd.date_range('2017/1/1 0:0:0', periods = 5, freq = 'H')\r\n",
    "ts = pd.DataFrame(np.arange(15).reshape(5,3),\r\n",
    "                  index = rng,\r\n",
    "                  columns = ['a','b','c'])\r\n",
    "print(ts)\r\n",
    "\r\n",
    "print(ts.resample('15T').asfreq())\r\n",
    "print(ts.resample('15T').ffill())\r\n",
    "print(ts.resample('15T').bfill())\r\n",
    "# 低频转高频，主要是如何插值\r\n",
    "# .asfreq()：不做填充，返回Nan\r\n",
    "# .ffill()：向上填充\r\n",
    "# .bfill()：向下填充"
   ],
   "outputs": [
    {
     "output_type": "stream",
     "name": "stdout",
     "text": [
      "                      a   b   c\n",
      "2017-01-01 00:00:00   0   1   2\n",
      "2017-01-01 01:00:00   3   4   5\n",
      "2017-01-01 02:00:00   6   7   8\n",
      "2017-01-01 03:00:00   9  10  11\n",
      "2017-01-01 04:00:00  12  13  14\n",
      "                        a     b     c\n",
      "2017-01-01 00:00:00   0.0   1.0   2.0\n",
      "2017-01-01 00:15:00   NaN   NaN   NaN\n",
      "2017-01-01 00:30:00   NaN   NaN   NaN\n",
      "2017-01-01 00:45:00   NaN   NaN   NaN\n",
      "2017-01-01 01:00:00   3.0   4.0   5.0\n",
      "2017-01-01 01:15:00   NaN   NaN   NaN\n",
      "2017-01-01 01:30:00   NaN   NaN   NaN\n",
      "2017-01-01 01:45:00   NaN   NaN   NaN\n",
      "2017-01-01 02:00:00   6.0   7.0   8.0\n",
      "2017-01-01 02:15:00   NaN   NaN   NaN\n",
      "2017-01-01 02:30:00   NaN   NaN   NaN\n",
      "2017-01-01 02:45:00   NaN   NaN   NaN\n",
      "2017-01-01 03:00:00   9.0  10.0  11.0\n",
      "2017-01-01 03:15:00   NaN   NaN   NaN\n",
      "2017-01-01 03:30:00   NaN   NaN   NaN\n",
      "2017-01-01 03:45:00   NaN   NaN   NaN\n",
      "2017-01-01 04:00:00  12.0  13.0  14.0\n",
      "                      a   b   c\n",
      "2017-01-01 00:00:00   0   1   2\n",
      "2017-01-01 00:15:00   0   1   2\n",
      "2017-01-01 00:30:00   0   1   2\n",
      "2017-01-01 00:45:00   0   1   2\n",
      "2017-01-01 01:00:00   3   4   5\n",
      "2017-01-01 01:15:00   3   4   5\n",
      "2017-01-01 01:30:00   3   4   5\n",
      "2017-01-01 01:45:00   3   4   5\n",
      "2017-01-01 02:00:00   6   7   8\n",
      "2017-01-01 02:15:00   6   7   8\n",
      "2017-01-01 02:30:00   6   7   8\n",
      "2017-01-01 02:45:00   6   7   8\n",
      "2017-01-01 03:00:00   9  10  11\n",
      "2017-01-01 03:15:00   9  10  11\n",
      "2017-01-01 03:30:00   9  10  11\n",
      "2017-01-01 03:45:00   9  10  11\n",
      "2017-01-01 04:00:00  12  13  14\n",
      "                      a   b   c\n",
      "2017-01-01 00:00:00   0   1   2\n",
      "2017-01-01 00:15:00   3   4   5\n",
      "2017-01-01 00:30:00   3   4   5\n",
      "2017-01-01 00:45:00   3   4   5\n",
      "2017-01-01 01:00:00   3   4   5\n",
      "2017-01-01 01:15:00   6   7   8\n",
      "2017-01-01 01:30:00   6   7   8\n",
      "2017-01-01 01:45:00   6   7   8\n",
      "2017-01-01 02:00:00   6   7   8\n",
      "2017-01-01 02:15:00   9  10  11\n",
      "2017-01-01 02:30:00   9  10  11\n",
      "2017-01-01 02:45:00   9  10  11\n",
      "2017-01-01 03:00:00   9  10  11\n",
      "2017-01-01 03:15:00  12  13  14\n",
      "2017-01-01 03:30:00  12  13  14\n",
      "2017-01-01 03:45:00  12  13  14\n",
      "2017-01-01 04:00:00  12  13  14\n"
     ]
    }
   ],
   "metadata": {
    "collapsed": false
   }
  },
  {
   "cell_type": "code",
   "execution_count": 26,
   "source": [
    "# 时期重采样 - Period\r\n",
    "\r\n",
    "prng = pd.period_range('2016','2017',freq = 'M')\r\n",
    "ts = pd.Series(np.arange(len(prng)), index = prng)\r\n",
    "print(ts)\r\n",
    "\r\n",
    "print(ts.resample('3M').sum())  # 降采样\r\n",
    "print(ts.resample('15D').ffill())  # 升采样"
   ],
   "outputs": [
    {
     "output_type": "stream",
     "name": "stdout",
     "text": [
      "2016-01     0\n",
      "2016-02     1\n",
      "2016-03     2\n",
      "2016-04     3\n",
      "2016-05     4\n",
      "2016-06     5\n",
      "2016-07     6\n",
      "2016-08     7\n",
      "2016-09     8\n",
      "2016-10     9\n",
      "2016-11    10\n",
      "2016-12    11\n",
      "2017-01    12\n",
      "Freq: M, dtype: int32\n",
      "2016-01-31     0\n",
      "2016-04-30     6\n",
      "2016-07-31    15\n",
      "2016-10-31    24\n",
      "2017-01-31    33\n",
      "Freq: 3M, dtype: int32\n",
      "2016-01-01     0\n",
      "2016-01-16     0\n",
      "2016-01-31     0\n",
      "2016-02-15     1\n",
      "2016-03-01     2\n",
      "2016-03-16     2\n",
      "2016-03-31     2\n",
      "2016-04-15     3\n",
      "2016-04-30     3\n",
      "2016-05-15     4\n",
      "2016-05-30     4\n",
      "2016-06-14     5\n",
      "2016-06-29     5\n",
      "2016-07-14     6\n",
      "2016-07-29     6\n",
      "2016-08-13     7\n",
      "2016-08-28     7\n",
      "2016-09-12     8\n",
      "2016-09-27     8\n",
      "2016-10-12     9\n",
      "2016-10-27     9\n",
      "2016-11-11    10\n",
      "2016-11-26    10\n",
      "2016-12-11    11\n",
      "2016-12-26    11\n",
      "Freq: 15D, dtype: int32\n"
     ]
    }
   ],
   "metadata": {
    "collapsed": false
   }
  },
  {
   "cell_type": "markdown",
   "source": [
    "######## 本节课有作业，请查看 “课程作业.docx”  ########"
   ],
   "metadata": {}
  }
 ],
 "metadata": {
  "anaconda-cloud": {},
  "interpreter": {
   "hash": "44a0b5136230a04540a6d2bd3ef3a3c24910c5bb0f570f8de4cbe8de6740ef8c"
  },
  "kernelspec": {
   "name": "python3",
   "display_name": "Python 3.7.3 64-bit ('base': conda)"
  },
  "language_info": {
   "codemirror_mode": {
    "name": "ipython",
    "version": 3
   },
   "file_extension": ".py",
   "mimetype": "text/x-python",
   "name": "python",
   "nbconvert_exporter": "python",
   "pygments_lexer": "ipython3",
   "version": "3.7.3"
  }
 },
 "nbformat": 4,
 "nbformat_minor": 1
}