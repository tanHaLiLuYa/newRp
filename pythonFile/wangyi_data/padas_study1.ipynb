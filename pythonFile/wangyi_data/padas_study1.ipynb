{
 "metadata": {
  "language_info": {
   "codemirror_mode": {
    "name": "ipython",
    "version": 3
   },
   "file_extension": ".py",
   "mimetype": "text/x-python",
   "name": "python",
   "nbconvert_exporter": "python",
   "pygments_lexer": "ipython3",
   "version": "3.7.3"
  },
  "orig_nbformat": 4,
  "kernelspec": {
   "name": "python3",
   "display_name": "Python 3.7.3 64-bit ('base': conda)"
  },
  "interpreter": {
   "hash": "44a0b5136230a04540a6d2bd3ef3a3c24910c5bb0f570f8de4cbe8de6740ef8c"
  }
 },
 "nbformat": 4,
 "nbformat_minor": 2,
 "cells": [
  {
   "cell_type": "code",
   "execution_count": 1,
   "source": [
    "import numpy as np \r\n",
    "import pandas as pd \r\n"
   ],
   "outputs": [],
   "metadata": {}
  },
  {
   "cell_type": "code",
   "execution_count": null,
   "source": [],
   "outputs": [],
   "metadata": {}
  },
  {
   "cell_type": "code",
   "execution_count": 2,
   "source": [
    "# Series 数据结构\r\n",
    "# Series 是带有标签的一维数组，可以保存任何数据类型（整数，字符串，浮点数，Python对象等）,轴标签统称为索引\r\n",
    "\r\n",
    "import numpy as np\r\n",
    "import pandas as pd  \r\n",
    "# 导入numpy、pandas模块\r\n",
    "\r\n",
    "s = pd.Series(np.random.rand(5))\r\n",
    "print(s)\r\n",
    "print(type(s))\r\n",
    "# 查看数据、数据类型\r\n",
    "\r\n",
    "print(s.index,type(s.index))\r\n",
    "print(s.values,type(s.values))\r\n",
    "# .index查看series索引，类型为rangeindex\r\n",
    "# .values查看series值，类型是ndarray\r\n",
    "\r\n",
    "# 核心：series相比于ndarray，是一个自带索引index的数组 → 一维数组 + 对应索引\r\n",
    "# 所以当只看series的值的时候，就是一个ndarray\r\n",
    "# series和ndarray较相似，索引切片功能差别不大\r\n",
    "# series和dict相比，series更像一个有顺序的字典（dict本身不存在顺序），其索引原理与字典相似（一个用key，一个用index）"
   ],
   "outputs": [
    {
     "output_type": "stream",
     "name": "stdout",
     "text": [
      "0    0.348444\n",
      "1    0.580329\n",
      "2    0.898883\n",
      "3    0.049148\n",
      "4    0.097992\n",
      "dtype: float64\n",
      "<class 'pandas.core.series.Series'>\n",
      "RangeIndex(start=0, stop=5, step=1) <class 'pandas.core.indexes.range.RangeIndex'>\n",
      "[0.34844358 0.58032891 0.89888317 0.04914839 0.09799185] <class 'numpy.ndarray'>\n"
     ]
    }
   ],
   "metadata": {}
  },
  {
   "cell_type": "code",
   "execution_count": 3,
   "source": [
    "# Series 创建方法一：由字典创建，字典的key就是index，values就是values\r\n",
    "\r\n",
    "dic = {'a':1 ,'b':2 , 'c':3, '4':4, '5':5}\r\n",
    "s = pd.Series(dic)\r\n",
    "print(s)\r\n",
    "# 注意：key肯定是字符串，假如values类型不止一个会怎么样？ → dic = {'a':1 ,'b':'hello' , 'c':3, '4':4, '5':5}"
   ],
   "outputs": [
    {
     "output_type": "stream",
     "name": "stdout",
     "text": [
      "a    1\n",
      "b    2\n",
      "c    3\n",
      "4    4\n",
      "5    5\n",
      "dtype: int64\n"
     ]
    }
   ],
   "metadata": {}
  },
  {
   "cell_type": "code",
   "execution_count": 4,
   "source": [
    "# Series 创建方法二：由数组创建(一维数组)\r\n",
    "\r\n",
    "arr = np.random.randn(5)\r\n",
    "s = pd.Series(arr)\r\n",
    "print(arr)\r\n",
    "print(s)\r\n",
    "# 默认index是从0开始，步长为1的数字\r\n",
    "\r\n",
    "s = pd.Series(arr, index = ['a','b','c','d','e'],dtype = np.object)\r\n",
    "print(s)\r\n",
    "# index参数：设置index，长度保持一致\r\n",
    "# dtype参数：设置数值类型"
   ],
   "outputs": [
    {
     "output_type": "stream",
     "name": "stdout",
     "text": [
      "[-0.65684445  0.26929822  1.3605274  -0.34261423 -1.16807067]\n",
      "0   -0.656844\n",
      "1    0.269298\n",
      "2    1.360527\n",
      "3   -0.342614\n",
      "4   -1.168071\n",
      "dtype: float64\n",
      "a   -0.656844\n",
      "b    0.269298\n",
      "c     1.36053\n",
      "d   -0.342614\n",
      "e    -1.16807\n",
      "dtype: object\n"
     ]
    }
   ],
   "metadata": {}
  },
  {
   "cell_type": "code",
   "execution_count": 5,
   "source": [
    "# Series 创建方法三：由标量创建\r\n",
    "\r\n",
    "s = pd.Series(10, index = range(4))\r\n",
    "print(s)\r\n",
    "# 如果data是标量值，则必须提供索引。该值会重复，来匹配索引的长度"
   ],
   "outputs": [
    {
     "output_type": "stream",
     "name": "stdout",
     "text": [
      "0    10\n",
      "1    10\n",
      "2    10\n",
      "3    10\n",
      "dtype: int64\n"
     ]
    }
   ],
   "metadata": {}
  },
  {
   "cell_type": "code",
   "execution_count": 6,
   "source": [
    "# Series 名称属性：name\r\n",
    "\r\n",
    "s1 = pd.Series(np.random.randn(5))\r\n",
    "print(s1)\r\n",
    "print('-----')\r\n",
    "s2 = pd.Series(np.random.randn(5),name = 'test')\r\n",
    "print(s2)\r\n",
    "print(s1.name, s2.name,type(s2.name))\r\n",
    "# name为Series的一个参数，创建一个数组的 名称\r\n",
    "# .name方法：输出数组的名称，输出格式为str，如果没用定义输出名称，输出为None\r\n",
    "\r\n",
    "s3 = s2.rename('hehehe')\r\n",
    "print(s3)\r\n",
    "print(s3.name, s2.name)\r\n",
    "# .rename()重命名一个数组的名称，并且新指向一个数组，原数组不变"
   ],
   "outputs": [
    {
     "output_type": "stream",
     "name": "stdout",
     "text": [
      "0   -0.395505\n",
      "1   -0.309618\n",
      "2   -1.772722\n",
      "3    0.555618\n",
      "4    0.828245\n",
      "dtype: float64\n",
      "-----\n",
      "0   -1.209101\n",
      "1   -0.171245\n",
      "2    1.334069\n",
      "3   -1.130203\n",
      "4    0.346244\n",
      "Name: test, dtype: float64\n",
      "None test <class 'str'>\n",
      "0   -1.209101\n",
      "1   -0.171245\n",
      "2    1.334069\n",
      "3   -1.130203\n",
      "4    0.346244\n",
      "Name: hehehe, dtype: float64\n",
      "hehehe test\n"
     ]
    }
   ],
   "metadata": {}
  },
  {
   "cell_type": "code",
   "execution_count": 7,
   "source": [
    "# 位置下标，类似序列\n",
    "\n",
    "s = pd.Series(np.random.rand(5))\n",
    "print(s)\n",
    "print(s[0],type(s[0]),s[0].dtype)\n",
    "print(float(s[0]),type(float(s[0])))\n",
    "#print(s[-1])\n",
    "# 位置下标从0开始\n",
    "# 输出结果为numpy.float格式，\n",
    "# 可以通过float()函数转换为python float格式\n",
    "# numpy.float与float占用字节不同\n",
    "# s[-1]结果如何？"
   ],
   "outputs": [
    {
     "output_type": "stream",
     "name": "stdout",
     "text": [
      "0    0.579765\n",
      "1    0.780847\n",
      "2    0.125632\n",
      "3    0.069952\n",
      "4    0.689654\n",
      "dtype: float64\n",
      "0.579765276491908 <class 'numpy.float64'> float64\n",
      "0.579765276491908 <class 'float'>\n"
     ]
    }
   ],
   "metadata": {}
  },
  {
   "cell_type": "code",
   "execution_count": 8,
   "source": [
    "# 标签索引\n",
    "\n",
    "s = pd.Series(np.random.rand(5), index = ['a','b','c','d','e'])\n",
    "print(s)\n",
    "print(s['a'],type(s['a']),s['a'].dtype)\n",
    "# 方法类似下标索引，用[]表示，内写上index，注意index是字符串\n",
    "\n",
    "sci = s[['a','b','e']]\n",
    "print(sci,type(sci))\n",
    "# 如果需要选择多个标签的值，用[[]]来表示（相当于[]中包含一个列表）\n",
    "# 多标签索引结果是新的数组"
   ],
   "outputs": [
    {
     "output_type": "stream",
     "name": "stdout",
     "text": [
      "a    0.506112\n",
      "b    0.420880\n",
      "c    0.028353\n",
      "d    0.078025\n",
      "e    0.601060\n",
      "dtype: float64\n",
      "0.5061122865519555 <class 'numpy.float64'> float64\n",
      "a    0.506112\n",
      "b    0.420880\n",
      "e    0.601060\n",
      "dtype: float64 <class 'pandas.core.series.Series'>\n"
     ]
    }
   ],
   "metadata": {}
  },
  {
   "cell_type": "code",
   "execution_count": 9,
   "source": [
    "# 切片索引\n",
    "\n",
    "s1 = pd.Series(np.random.rand(5))\n",
    "s2 = pd.Series(np.random.rand(5), index = ['a','b','c','d','e'])\n",
    "print(s1[1:4],s1[4])\n",
    "print(s2['a':'c'],s2['c'])\n",
    "print(s2[0:3],s2[3])\n",
    "print('-----')\n",
    "# 注意：用index做切片是末端包含\n",
    "\n",
    "print(s2[:-1])\n",
    "print(s2[::2])\n",
    "# 下标索引做切片，和list写法一样"
   ],
   "outputs": [
    {
     "output_type": "stream",
     "name": "stdout",
     "text": [
      "1    0.184919\n",
      "2    0.976537\n",
      "3    0.679831\n",
      "dtype: float64 0.1453381383705603\n",
      "a    0.396632\n",
      "b    0.755302\n",
      "c    0.280257\n",
      "dtype: float64 0.28025739251385173\n",
      "a    0.396632\n",
      "b    0.755302\n",
      "c    0.280257\n",
      "dtype: float64 0.8478030274839009\n",
      "-----\n",
      "a    0.396632\n",
      "b    0.755302\n",
      "c    0.280257\n",
      "d    0.847803\n",
      "dtype: float64\n",
      "a    0.396632\n",
      "c    0.280257\n",
      "e    0.432801\n",
      "dtype: float64\n"
     ]
    }
   ],
   "metadata": {}
  },
  {
   "cell_type": "code",
   "execution_count": 10,
   "source": [
    "# 布尔型索引\n",
    "\n",
    "s = pd.Series(np.random.rand(3)*100)\n",
    "s[4] = None  # 添加一个空值\n",
    "print(s)\n",
    "bs1 = s > 50\n",
    "bs2 = s.isnull()\n",
    "bs3 = s.notnull()\n",
    "print(bs1, type(bs1), bs1.dtype)\n",
    "print(bs2, type(bs2), bs2.dtype)\n",
    "print(bs3, type(bs3), bs3.dtype)\n",
    "print('-----')\n",
    "# 数组做判断之后，返回的是一个由布尔值组成的新的数组\n",
    "# .isnull() / .notnull() 判断是否为空值 (None代表空值，NaN代表有问题的数值，两个都会识别为空值)\n",
    "\n",
    "print(s[s > 50])\n",
    "print(s[bs3])\n",
    "# 布尔型索引方法：用[判断条件]表示，其中判断条件可以是 一个语句，或者是 一个布尔型数组！"
   ],
   "outputs": [
    {
     "output_type": "stream",
     "name": "stdout",
     "text": [
      "0    0.721906\n",
      "1     44.6684\n",
      "2     39.6198\n",
      "4        None\n",
      "dtype: object\n",
      "0    False\n",
      "1    False\n",
      "2    False\n",
      "4    False\n",
      "dtype: bool <class 'pandas.core.series.Series'> bool\n",
      "0    False\n",
      "1    False\n",
      "2    False\n",
      "4     True\n",
      "dtype: bool <class 'pandas.core.series.Series'> bool\n",
      "0     True\n",
      "1     True\n",
      "2     True\n",
      "4    False\n",
      "dtype: bool <class 'pandas.core.series.Series'> bool\n",
      "-----\n",
      "Series([], dtype: object)\n",
      "0    0.721906\n",
      "1     44.6684\n",
      "2     39.6198\n",
      "dtype: object\n"
     ]
    }
   ],
   "metadata": {}
  },
  {
   "cell_type": "code",
   "execution_count": 11,
   "source": [
    "# 数据查看\n",
    "\n",
    "s = pd.Series(np.random.rand(50))\n",
    "print(s.head(10))\n",
    "print(s.tail())\n",
    "# .head()查看头部数据\n",
    "# .tail()查看尾部数据\n",
    "# 默认查看5条"
   ],
   "outputs": [
    {
     "output_type": "stream",
     "name": "stdout",
     "text": [
      "0    0.708727\n",
      "1    0.596133\n",
      "2    0.696134\n",
      "3    0.648910\n",
      "4    0.333022\n",
      "5    0.006906\n",
      "6    0.301146\n",
      "7    0.680392\n",
      "8    0.181166\n",
      "9    0.946361\n",
      "dtype: float64\n",
      "45    0.006664\n",
      "46    0.335671\n",
      "47    0.785956\n",
      "48    0.125858\n",
      "49    0.210548\n",
      "dtype: float64\n"
     ]
    }
   ],
   "metadata": {}
  },
  {
   "cell_type": "code",
   "execution_count": 12,
   "source": [
    "# 重新索引reindex\n",
    "# .reindex将会根据索引重新排序，如果当前索引不存在，则引入缺失值\n",
    "\n",
    "s = pd.Series(np.random.rand(3), index = ['a','b','c'])\n",
    "print(s)\n",
    "s1 = s.reindex(['c','b','a','d'])\n",
    "print(s1)\n",
    "# .reindex()中也是写列表\n",
    "# 这里'd'索引不存在，所以值为NaN\n",
    "\n",
    "s2 = s.reindex(['c','b','a','d'], fill_value = 0)\n",
    "print(s2)\n",
    "# fill_value参数：填充缺失值的值"
   ],
   "outputs": [
    {
     "output_type": "stream",
     "name": "stdout",
     "text": [
      "a    0.886780\n",
      "b    0.980222\n",
      "c    0.643690\n",
      "dtype: float64\n",
      "c    0.643690\n",
      "b    0.980222\n",
      "a    0.886780\n",
      "d         NaN\n",
      "dtype: float64\n",
      "c    0.643690\n",
      "b    0.980222\n",
      "a    0.886780\n",
      "d    0.000000\n",
      "dtype: float64\n"
     ]
    }
   ],
   "metadata": {}
  },
  {
   "cell_type": "code",
   "execution_count": 13,
   "source": [
    "# Series对齐\n",
    "\n",
    "s1 = pd.Series(np.random.rand(3), index = ['Jack','Marry','Tom'])\n",
    "s2 = pd.Series(np.random.rand(3), index = ['Wang','Jack','Marry'])\n",
    "print(s1)\n",
    "print(s2)\n",
    "print(s1+s2)\n",
    "# Series 和 ndarray 之间的主要区别是，Series 上的操作会根据标签自动对齐\n",
    "# index顺序不会影响数值计算，以标签来计算\n",
    "# 空值和任何值计算结果扔为空值"
   ],
   "outputs": [
    {
     "output_type": "stream",
     "name": "stdout",
     "text": [
      "Jack     0.654530\n",
      "Marry    0.949073\n",
      "Tom      0.440926\n",
      "dtype: float64\n",
      "Wang     0.593093\n",
      "Jack     0.930392\n",
      "Marry    0.511801\n",
      "dtype: float64\n",
      "Jack     1.584922\n",
      "Marry    1.460874\n",
      "Tom           NaN\n",
      "Wang          NaN\n",
      "dtype: float64\n"
     ]
    }
   ],
   "metadata": {}
  },
  {
   "cell_type": "code",
   "execution_count": 14,
   "source": [
    "# 删除：.drop\n",
    "\n",
    "s = pd.Series(np.random.rand(5), index = list('ngjur'))\n",
    "print(s)\n",
    "s1 = s.drop('n')\n",
    "s2 = s.drop(['g','j'])\n",
    "print(s1)\n",
    "print(s2)\n",
    "print(s)\n",
    "# drop 删除元素之后返回副本(inplace=False)"
   ],
   "outputs": [
    {
     "output_type": "stream",
     "name": "stdout",
     "text": [
      "n    0.264681\n",
      "g    0.649616\n",
      "j    0.282361\n",
      "u    0.696953\n",
      "r    0.071017\n",
      "dtype: float64\n",
      "g    0.649616\n",
      "j    0.282361\n",
      "u    0.696953\n",
      "r    0.071017\n",
      "dtype: float64\n",
      "n    0.264681\n",
      "u    0.696953\n",
      "r    0.071017\n",
      "dtype: float64\n",
      "n    0.264681\n",
      "g    0.649616\n",
      "j    0.282361\n",
      "u    0.696953\n",
      "r    0.071017\n",
      "dtype: float64\n"
     ]
    }
   ],
   "metadata": {}
  },
  {
   "cell_type": "code",
   "execution_count": 15,
   "source": [
    "# 添加\n",
    "\n",
    "s1 = pd.Series(np.random.rand(5))\n",
    "s2 = pd.Series(np.random.rand(5), index = list('ngjur'))\n",
    "print(s1)\n",
    "print(s2)\n",
    "s1[5] = 100\n",
    "s2['a'] = 100\n",
    "print(s1)\n",
    "print(s2)\n",
    "print('-----')\n",
    "# 直接通过下标索引/标签index添加值\n",
    "\n",
    "s3 = s1.append(s2)\n",
    "print(s3)\n",
    "print(s1)\n",
    "# 通过.append方法，直接添加一个数组\n",
    "# .append方法生成一个新的数组，不改变之前的数组"
   ],
   "outputs": [
    {
     "output_type": "stream",
     "name": "stdout",
     "text": [
      "0    0.422254\n",
      "1    0.903689\n",
      "2    0.494325\n",
      "3    0.818017\n",
      "4    0.531272\n",
      "dtype: float64\n",
      "n    0.158950\n",
      "g    0.826042\n",
      "j    0.588629\n",
      "u    0.170046\n",
      "r    0.806040\n",
      "dtype: float64\n",
      "0      0.422254\n",
      "1      0.903689\n",
      "2      0.494325\n",
      "3      0.818017\n",
      "4      0.531272\n",
      "5    100.000000\n",
      "dtype: float64\n",
      "n      0.158950\n",
      "g      0.826042\n",
      "j      0.588629\n",
      "u      0.170046\n",
      "r      0.806040\n",
      "a    100.000000\n",
      "dtype: float64\n",
      "-----\n",
      "0      0.422254\n",
      "1      0.903689\n",
      "2      0.494325\n",
      "3      0.818017\n",
      "4      0.531272\n",
      "5    100.000000\n",
      "n      0.158950\n",
      "g      0.826042\n",
      "j      0.588629\n",
      "u      0.170046\n",
      "r      0.806040\n",
      "a    100.000000\n",
      "dtype: float64\n",
      "0      0.422254\n",
      "1      0.903689\n",
      "2      0.494325\n",
      "3      0.818017\n",
      "4      0.531272\n",
      "5    100.000000\n",
      "dtype: float64\n"
     ]
    }
   ],
   "metadata": {}
  },
  {
   "cell_type": "code",
   "execution_count": 16,
   "source": [
    "# 修改\n",
    "\n",
    "s = pd.Series(np.random.rand(3), index = ['a','b','c'])\n",
    "print(s)\n",
    "s['a'] = 100\n",
    "s[['b','c']] = 200\n",
    "print(s)\n",
    "# 通过索引直接修改，类似序列"
   ],
   "outputs": [
    {
     "output_type": "stream",
     "name": "stdout",
     "text": [
      "a    0.827940\n",
      "b    0.541849\n",
      "c    0.727504\n",
      "dtype: float64\n",
      "a    100.0\n",
      "b    200.0\n",
      "c    200.0\n",
      "dtype: float64\n"
     ]
    }
   ],
   "metadata": {}
  },
  {
   "cell_type": "code",
   "execution_count": 17,
   "source": [
    "# Dataframe 数据结构\n",
    "# Dataframe是一个表格型的数据结构，“带有标签的二维数组”。\n",
    "# Dataframe带有index（行标签）和columns（列标签）\n",
    "\n",
    "data = {'name':['Jack','Tom','Mary'],\n",
    "        'age':[18,19,20],\n",
    "       'gender':['m','m','w']}\n",
    "frame = pd.DataFrame(data)\n",
    "print(frame)  \n",
    "print(type(frame))\n",
    "print(frame.index,'\\n该数据类型为：',type(frame.index))\n",
    "print(frame.columns,'\\n该数据类型为：',type(frame.columns))\n",
    "print(frame.values,'\\n该数据类型为：',type(frame.values))\n",
    "# 查看数据，数据类型为dataframe\n",
    "# .index查看行标签\n",
    "# .columns查看列标签\n",
    "# .values查看值，数据类型为ndarray"
   ],
   "outputs": [
    {
     "output_type": "stream",
     "name": "stdout",
     "text": [
      "   name  age gender\n",
      "0  Jack   18      m\n",
      "1   Tom   19      m\n",
      "2  Mary   20      w\n",
      "<class 'pandas.core.frame.DataFrame'>\n",
      "RangeIndex(start=0, stop=3, step=1) \n",
      "该数据类型为： <class 'pandas.core.indexes.range.RangeIndex'>\n",
      "Index(['name', 'age', 'gender'], dtype='object') \n",
      "该数据类型为： <class 'pandas.core.indexes.base.Index'>\n",
      "[['Jack' 18 'm']\n",
      " ['Tom' 19 'm']\n",
      " ['Mary' 20 'w']] \n",
      "该数据类型为： <class 'numpy.ndarray'>\n"
     ]
    }
   ],
   "metadata": {}
  },
  {
   "cell_type": "code",
   "execution_count": 19,
   "source": [
    "# Dataframe 创建方法一：由数组/list组成的字典\n",
    "# 创建方法:pandas.Dataframe()\n",
    "\n",
    "data1 = {'a':[1,2,3],\n",
    "        'b':[3,4,5],\n",
    "        'c':[5,6,7]}\n",
    "data2 = {'one':np.random.rand(3),\n",
    "        'two':np.random.rand(3)}   # 这里如果尝试  'two':np.random.rand(4) 会怎么样？ 报错\n",
    "# print(data1)\n",
    "# print(data2)\n",
    "df1 = pd.DataFrame(data1)\n",
    "df2 = pd.DataFrame(data2)\n",
    "# print(df2.shape)\n",
    "# print(df1)\n",
    "# print(df2)\n",
    "# 由数组/list组成的字典 创建Dataframe，columns为字典key，index为默认数字标签\n",
    "# 字典的值的长度必须保持一致！\n",
    "\n",
    "# df1 = pd.DataFrame(data1, columns = ['b','c','a','d'])\n",
    "# print(df1)\n",
    "# df1 = pd.DataFrame(data1, columns = ['b','c'])\n",
    "# print(df1)\n",
    "# columns参数：可以重新指定列的顺序，格式为list，如果现有数据中没有该列（比如'd'），则产生NaN值\n",
    "# 如果columns重新指定时候，列的数量可以少于原数据\n",
    "\n",
    "# df2 = pd.DataFrame(data2, index = ['f1','f2','f3'])  # 这里如果尝试  index = ['f1','f2','f3','f4'] 会怎么样？ 报错\n",
    "# print(df2)\n",
    "# index参数：重新定义index，格式为list，长度必须保持一致"
   ],
   "outputs": [],
   "metadata": {}
  },
  {
   "cell_type": "code",
   "execution_count": 20,
   "source": [
    "# Dataframe 创建方法二：由Series组成的字典\n",
    "\n",
    "data1 = {'one':pd.Series(np.random.rand(2)),\n",
    "        'two':pd.Series(np.random.rand(3))}  # 没有设置index的Series\n",
    "data2 = {'one':pd.Series(np.random.rand(2), index = ['a','b']),\n",
    "        'two':pd.Series(np.random.rand(3),index = ['a','b','c'])}  # 设置了index的Series\n",
    "# print(data1)\n",
    "# print(data2)\n",
    "df1 = pd.DataFrame(data1)\n",
    "df2 = pd.DataFrame(data2)\n",
    "print(df1)\n",
    "print(df2)\n",
    "# 由Seris组成的字典 创建Dataframe，columns为字典key，index为Series的标签（如果Series没有指定标签，则是默认数字标签）\n",
    "# Series可以长度不一样，生成的Dataframe会出现NaN值"
   ],
   "outputs": [
    {
     "output_type": "stream",
     "name": "stdout",
     "text": [
      "        one       two\n",
      "0  0.295498  0.116375\n",
      "1  0.472886  0.240208\n",
      "2       NaN  0.831330\n",
      "        one       two\n",
      "a  0.391684  0.259952\n",
      "b  0.244147  0.049031\n",
      "c       NaN  0.241055\n"
     ]
    }
   ],
   "metadata": {}
  },
  {
   "cell_type": "code",
   "execution_count": 21,
   "source": [
    "# Dataframe 创建方法三：通过二维数组直接创建\n",
    "\n",
    "# ar = np.random.rand(9).reshape(3,3)\n",
    "# print(ar)\n",
    "# df1 = pd.DataFrame(ar)\n",
    "# df2 = pd.DataFrame(ar, index = ['a', 'b', 'c'], columns = ['one','two','three'])  # 可以尝试一下index或columns长度不等于已有数组的情况\n",
    "# print(df1)\n",
    "# print(df2)\n",
    "# 通过二维数组直接创建Dataframe，得到一样形状的结果数据，如果不指定index和columns，两者均返回默认数字格式\n",
    "# index和colunms指定长度与原数组保持一致"
   ],
   "outputs": [],
   "metadata": {}
  },
  {
   "cell_type": "code",
   "execution_count": 23,
   "source": [
    "\n",
    "# Dataframe 创建方法四：由字典组成的列表\n",
    "\n",
    "data = [{'one': 1, 'two': 2}, {'one': 5, 'two': 10, 'three': 20}]\n",
    "print(data)\n",
    "df1 = pd.DataFrame(data)\n",
    "df2 = pd.DataFrame(data, index = ['a','b'])\n",
    "df3 = pd.DataFrame(data, columns = ['one','two'])\n",
    "print(df1)\n",
    "print(df2)\n",
    "print(df3)\n",
    "# 由字典组成的列表创建Dataframe，columns为字典的key，index不做指定则为默认数组标签\n",
    "# colunms和index参数分别重新指定相应列及行标签"
   ],
   "outputs": [
    {
     "output_type": "stream",
     "name": "stdout",
     "text": [
      "[{'one': 1, 'two': 2}, {'one': 5, 'two': 10, 'three': 20}]\n",
      "   one  three  two\n",
      "0    1    NaN    2\n",
      "1    5   20.0   10\n",
      "   one  three  two\n",
      "a    1    NaN    2\n",
      "b    5   20.0   10\n",
      "   one  two\n",
      "0    1    2\n",
      "1    5   10\n"
     ]
    }
   ],
   "metadata": {}
  },
  {
   "cell_type": "code",
   "execution_count": 24,
   "source": [
    "# Dataframe 创建方法五：由字典组成的字典\n",
    "\n",
    "# data = {'Jack':{'math':90,'english':89,'art':78},\n",
    "#        'Marry':{'math':82,'english':95,'art':92},\n",
    "#        'Tom':{'math':78,'english':67}}\n",
    "# df1 = pd.DataFrame(data)\n",
    "# print(df1)\n",
    "# 由字典组成的字典创建Dataframe，columns为字典的key，index为子字典的key\n",
    "\n",
    "# df2 = pd.DataFrame(data, columns = ['Jack','Tom','Bob'])\n",
    "# df3 = pd.DataFrame(data, index = ['a','b','c'])\n",
    "# print(df2)\n",
    "# print(df3)\n",
    "# columns参数可以增加和减少现有列，如出现新的列，值为NaN\n",
    "# index在这里和之前不同，并不能改变原有index，如果指向新的标签，值为NaN （非常重要！）\n"
   ],
   "outputs": [],
   "metadata": {}
  },
  {
   "cell_type": "code",
   "execution_count": 26,
   "source": [
    "# 选择行与列\n",
    "\n",
    "df = pd.DataFrame(np.random.rand(12).reshape(3,4)*100,\n",
    "                   index = ['one','two','three'],\n",
    "                   columns = ['a','b','c','d'])\n",
    "print(df)\n",
    "\n",
    "data1 = df['a']\n",
    "data2 = df[['a','c']]\n",
    "print(data1,type(data1))\n",
    "print(data2,type(data2))\n",
    "print('-----')\n",
    "# 按照列名选择列，只选择一列输出Series，选择多列输出Dataframe\n",
    "\n",
    "data3 = df.loc['one']\n",
    "data4 = df.loc[['one','two']]\n",
    "print(data3,type(data3))\n",
    "print(data4,type(data4))\n",
    "# 按照index选择行，只选择一行输出Series，选择多行输出Dataframe"
   ],
   "outputs": [
    {
     "output_type": "stream",
     "name": "stdout",
     "text": [
      "               a          b          c          d\n",
      "one    11.489759  62.159886  75.456626  90.225037\n",
      "two    73.234562  35.066302  65.905033  69.755401\n",
      "three  26.961470  72.781760  74.075562  52.262677\n",
      "one      11.489759\n",
      "two      73.234562\n",
      "three    26.961470\n",
      "Name: a, dtype: float64 <class 'pandas.core.series.Series'>\n",
      "               a          c\n",
      "one    11.489759  75.456626\n",
      "two    73.234562  65.905033\n",
      "three  26.961470  74.075562 <class 'pandas.core.frame.DataFrame'>\n",
      "-----\n",
      "a    11.489759\n",
      "b    62.159886\n",
      "c    75.456626\n",
      "d    90.225037\n",
      "Name: one, dtype: float64 <class 'pandas.core.series.Series'>\n",
      "             a          b          c          d\n",
      "one  11.489759  62.159886  75.456626  90.225037\n",
      "two  73.234562  35.066302  65.905033  69.755401 <class 'pandas.core.frame.DataFrame'>\n"
     ]
    }
   ],
   "metadata": {}
  },
  {
   "cell_type": "code",
   "execution_count": 27,
   "source": [
    "# df[] - 选择列\n",
    "# 一般用于选择列，也可以选择行\n",
    "\n",
    "df = pd.DataFrame(np.random.rand(12).reshape(3,4)*100,\n",
    "                   index = ['one','two','three'],\n",
    "                   columns = ['a','b','c','d'])\n",
    "print(df)\n",
    "print('-----')\n",
    "\n",
    "data1 = df['a']\n",
    "data2 = df[['b','c']]  # 尝试输入 data2 = df[['b','c','e']]\n",
    "print(data1)\n",
    "print(data2)\n",
    "# df[]默认选择列，[]中写列名（所以一般数据colunms都会单独制定，不会用默认数字列名，以免和index冲突）\n",
    "# 单选列为Series，print结果为Series格式\n",
    "# 多选列为Dataframe，print结果为Dataframe格式\n",
    "\n",
    "data3 = df[:1]\n",
    "#data3 = df[0]\n",
    "#data3 = df['one']\n",
    "print(data3,type(data3))\n",
    "# df[]中为数字时，默认选择行，且只能进行切片的选择，不能单独选择（df[0]）\n",
    "# 输出结果为Dataframe，即便只选择一行\n",
    "# df[]不能通过索引标签名来选择行(df['one'])\n",
    "\n",
    "# 核心笔记：df[col]一般用于选择列，[]中写列名"
   ],
   "outputs": [
    {
     "output_type": "stream",
     "name": "stdout",
     "text": [
      "               a          b          c          d\n",
      "one    73.240165  36.846020  16.154593  36.116241\n",
      "two    31.924787  80.344756  89.166396  92.428623\n",
      "three  63.315401  97.496821  50.983157  55.049851\n",
      "-----\n",
      "one      73.240165\n",
      "two      31.924787\n",
      "three    63.315401\n",
      "Name: a, dtype: float64\n",
      "               b          c\n",
      "one    36.846020  16.154593\n",
      "two    80.344756  89.166396\n",
      "three  97.496821  50.983157\n",
      "             a         b          c          d\n",
      "one  73.240165  36.84602  16.154593  36.116241 <class 'pandas.core.frame.DataFrame'>\n"
     ]
    }
   ],
   "metadata": {}
  },
  {
   "cell_type": "code",
   "execution_count": 32,
   "source": [
    "# df.loc[] - 按index选择行\n",
    "\n",
    "df1 = pd.DataFrame(np.random.rand(16).reshape(4,4)*100,\n",
    "                   index = ['one','two','three','four'],\n",
    "                   columns = ['a','b','c','d'])\n",
    "df2 = pd.DataFrame(np.random.rand(16).reshape(4,4)*100,\n",
    "                   columns = ['a','b','c','d'])\n",
    "print(df1)\n",
    "print(df2)\n",
    "print('-----')\n",
    "\n",
    "data1 = df1.loc['one']\n",
    "data2 = df2.loc[1]\n",
    "print(data1)\n",
    "print(data2)\n",
    "print('单标签索引\\n-----')\n",
    "# 单个标签索引，返回Series\n",
    "\n",
    "data3 = df1.loc[['two','three','five']]\n",
    "data4 = df2.loc[[4,2,1]]\n",
    "print(data3)\n",
    "print(data4)\n",
    "print('多标签索引\\n-----')\n",
    "# 多个标签索引，如果标签不存在，则返回NaN    FutureWarning: \n",
    "# Passing list-likes to .loc or [] with any missing label will raise\n",
    "# KeyError in the future, you can use .reindex() as an alternative.\n",
    "# 顺序可变\n",
    "\n",
    "data5 = df1.loc['one':'three']\n",
    "data6 = df2.loc[1:3]\n",
    "print(data5)\n",
    "print(data6)\n",
    "print('切片索引')\n",
    "# 可以做切片对象\n",
    "# 末端包含\n",
    "\n",
    "# 核心笔记：df.loc[label]主要针对index选择行，同时支持指定index，及默认数字index"
   ],
   "outputs": [
    {
     "output_type": "stream",
     "name": "stdout",
     "text": [
      "               a          b          c          d\n",
      "one    69.335696  98.420172  38.994367  44.453379\n",
      "two    36.573257  20.766957  85.883182  26.378672\n",
      "three  74.161168  19.139235  39.438306  42.437103\n",
      "four   17.461101  65.024647  12.800253  54.224364\n",
      "           a          b          c          d\n",
      "0  17.138538  74.070715  95.204150  48.601598\n",
      "1  27.468143  13.477345   4.577978  14.471044\n",
      "2  32.281364  71.213734  78.660350  17.309226\n",
      "3  98.268384  72.141849  33.950246  84.681179\n",
      "-----\n",
      "a    69.335696\n",
      "b    98.420172\n",
      "c    38.994367\n",
      "d    44.453379\n",
      "Name: one, dtype: float64\n",
      "a    27.468143\n",
      "b    13.477345\n",
      "c     4.577978\n",
      "d    14.471044\n",
      "Name: 1, dtype: float64\n",
      "单标签索引\n",
      "-----\n",
      "               a          b          c          d\n",
      "two    36.573257  20.766957  85.883182  26.378672\n",
      "three  74.161168  19.139235  39.438306  42.437103\n",
      "five         NaN        NaN        NaN        NaN\n",
      "           a          b          c          d\n",
      "4        NaN        NaN        NaN        NaN\n",
      "2  32.281364  71.213734  78.660350  17.309226\n",
      "1  27.468143  13.477345   4.577978  14.471044\n",
      "多标签索引\n",
      "-----\n",
      "               a          b          c          d\n",
      "one    69.335696  98.420172  38.994367  44.453379\n",
      "two    36.573257  20.766957  85.883182  26.378672\n",
      "three  74.161168  19.139235  39.438306  42.437103\n",
      "           a          b          c          d\n",
      "1  27.468143  13.477345   4.577978  14.471044\n",
      "2  32.281364  71.213734  78.660350  17.309226\n",
      "3  98.268384  72.141849  33.950246  84.681179\n",
      "切片索引\n",
      "ipykernel_launcher:19: FutureWarning: \n",
      "Passing list-likes to .loc or [] with any missing label will raise\n",
      "KeyError in the future, you can use .reindex() as an alternative.\n",
      "\n",
      "See the documentation here:\n",
      "https://pandas.pydata.org/pandas-docs/stable/indexing.html#deprecate-loc-reindex-listlike\n",
      "ipykernel_launcher:20: FutureWarning: \n",
      "Passing list-likes to .loc or [] with any missing label will raise\n",
      "KeyError in the future, you can use .reindex() as an alternative.\n",
      "\n",
      "See the documentation here:\n",
      "https://pandas.pydata.org/pandas-docs/stable/indexing.html#deprecate-loc-reindex-listlike\n"
     ]
    }
   ],
   "metadata": {}
  },
  {
   "cell_type": "code",
   "execution_count": 33,
   "source": [
    "# df.iloc[] - 按照整数位置（从轴的0到length-1）选择行\n",
    "# 类似list的索引，其顺序就是dataframe的整数位置，从0开始计\n",
    "\n",
    "df = pd.DataFrame(np.random.rand(16).reshape(4,4)*100,\n",
    "                   index = ['one','two','three','four'],\n",
    "                   columns = ['a','b','c','d'])\n",
    "print(df)\n",
    "print('------')\n",
    "\n",
    "print(df.iloc[0])\n",
    "print(df.iloc[-1])\n",
    "#print(df.iloc[4])\n",
    "print('单位置索引\\n-----')\n",
    "# 单位置索引\n",
    "# 和loc索引不同，不能索引超出数据行数的整数位置\n",
    "\n",
    "print(df.iloc[[0,2]])\n",
    "print(df.iloc[[3,2,1]])\n",
    "print('多位置索引\\n-----')\n",
    "# 多位置索引\n",
    "# 顺序可变\n",
    "\n",
    "print(df.iloc[1:3])\n",
    "print(df.iloc[::2])\n",
    "print('切片索引')\n",
    "# 切片索引\n",
    "# 末端不包含"
   ],
   "outputs": [
    {
     "output_type": "stream",
     "name": "stdout",
     "text": [
      "               a          b          c          d\n",
      "one    50.269825  23.223134  85.280156  23.254373\n",
      "two    17.592175  94.290483  14.570692  13.151121\n",
      "three  34.674427  31.986154  92.912968  91.586447\n",
      "four   42.839468  64.293148  52.350646  89.999966\n",
      "------\n",
      "a    50.269825\n",
      "b    23.223134\n",
      "c    85.280156\n",
      "d    23.254373\n",
      "Name: one, dtype: float64\n",
      "a    42.839468\n",
      "b    64.293148\n",
      "c    52.350646\n",
      "d    89.999966\n",
      "Name: four, dtype: float64\n",
      "单位置索引\n",
      "-----\n",
      "               a          b          c          d\n",
      "one    50.269825  23.223134  85.280156  23.254373\n",
      "three  34.674427  31.986154  92.912968  91.586447\n",
      "               a          b          c          d\n",
      "four   42.839468  64.293148  52.350646  89.999966\n",
      "three  34.674427  31.986154  92.912968  91.586447\n",
      "two    17.592175  94.290483  14.570692  13.151121\n",
      "多位置索引\n",
      "-----\n",
      "               a          b          c          d\n",
      "two    17.592175  94.290483  14.570692  13.151121\n",
      "three  34.674427  31.986154  92.912968  91.586447\n",
      "               a          b          c          d\n",
      "one    50.269825  23.223134  85.280156  23.254373\n",
      "three  34.674427  31.986154  92.912968  91.586447\n",
      "切片索引\n"
     ]
    }
   ],
   "metadata": {}
  },
  {
   "cell_type": "code",
   "execution_count": 38,
   "source": [
    "# 布尔型索引\n",
    "# 和Series原理相同\n",
    "\n",
    "df = pd.DataFrame(np.random.rand(16).reshape(4,4)*100,\n",
    "                   index = ['one','two','three','four'],\n",
    "                   columns = ['a','b','c','d'])\n",
    "print(df)\n",
    "print('------')\n",
    "\n",
    "b1 = df < 20\n",
    "print(b1,type(b1))\n",
    "print(df[b1])  # 也可以书写为 df[df < 20]\n",
    "print('------')\n",
    "# 不做索引则会对数据每个值进行判断\n",
    "# 索引结果保留 所有数据：True返回原数据，False返回值为NaN\n",
    "\n",
    "b2 = df['a'] > 50\n",
    "print(b2,type(b2))\n",
    "print(df[b2])  # 也可以书写为 df[df['a'] > 50]\n",
    "print('------')\n",
    "# 单列做判断\n",
    "# 索引结果保留 单列判断为True的行数据，包括其他列\n",
    "\n",
    "b3 = df[['a','b']] > 50\n",
    "print(b3,type(b3))\n",
    "print(df[b3])  # 也可以书写为 df[df[['a','b']] > 50]\n",
    "print('------')\n",
    "# 多列做判断\n",
    "# 索引结果保留 所有数据：True返回原数据，False返回值为NaN\n",
    "\n",
    "b4 = df.loc[['one','three']] < 50\n",
    "print(b4,type(b4))\n",
    "print(df[b4])  # 也可以书写为 df[df.loc[['one','three']] < 50]\n",
    "print('------__________')\n",
    "\n",
    "# b4 = df.loc['three'] < 30\n",
    "# print(b4,type(b4))\n",
    "# b4.index=[\"one\",\"two\",\"three\",\"four\"]\n",
    "# print(b4,type(b4))\n",
    "# print(df[b4])  # 报错 无法对单行做判断 取列\n",
    "# print('------')\n",
    "# 多行做判断\n",
    "# 索引结果保留 所有数据：True返回原数据，False返回值为NaN"
   ],
   "outputs": [
    {
     "output_type": "stream",
     "name": "stdout",
     "text": [
      "               a          b          c          d\n",
      "one    71.108931  58.374062  99.871070  63.411853\n",
      "two    36.301582  24.062430  71.800225  30.165474\n",
      "three  29.243486  90.724976  65.923272  10.211458\n",
      "four   74.869101  39.463191  14.692922  67.549249\n",
      "------\n",
      "           a      b      c      d\n",
      "one    False  False  False  False\n",
      "two    False  False  False  False\n",
      "three  False  False  False   True\n",
      "four   False  False   True  False <class 'pandas.core.frame.DataFrame'>\n",
      "        a   b          c          d\n",
      "one   NaN NaN        NaN        NaN\n",
      "two   NaN NaN        NaN        NaN\n",
      "three NaN NaN        NaN  10.211458\n",
      "four  NaN NaN  14.692922        NaN\n",
      "------\n",
      "one       True\n",
      "two      False\n",
      "three    False\n",
      "four      True\n",
      "Name: a, dtype: bool <class 'pandas.core.series.Series'>\n",
      "              a          b          c          d\n",
      "one   71.108931  58.374062  99.871070  63.411853\n",
      "four  74.869101  39.463191  14.692922  67.549249\n",
      "------\n",
      "           a      b\n",
      "one     True   True\n",
      "two    False  False\n",
      "three  False   True\n",
      "four    True  False <class 'pandas.core.frame.DataFrame'>\n",
      "               a          b   c   d\n",
      "one    71.108931  58.374062 NaN NaN\n",
      "two          NaN        NaN NaN NaN\n",
      "three        NaN  90.724976 NaN NaN\n",
      "four   74.869101        NaN NaN NaN\n",
      "------\n",
      "           a      b      c      d\n",
      "one    False  False  False  False\n",
      "three   True  False  False   True <class 'pandas.core.frame.DataFrame'>\n",
      "               a   b   c          d\n",
      "one          NaN NaN NaN        NaN\n",
      "two          NaN NaN NaN        NaN\n",
      "three  29.243486 NaN NaN  10.211458\n",
      "four         NaN NaN NaN        NaN\n",
      "------__________\n",
      "a     True\n",
      "b    False\n",
      "c    False\n",
      "d     True\n",
      "Name: three, dtype: bool <class 'pandas.core.series.Series'>\n",
      "one       True\n",
      "two      False\n",
      "three    False\n",
      "four      True\n",
      "Name: three, dtype: bool <class 'pandas.core.series.Series'>\n",
      "              a          b          c          d\n",
      "one   71.108931  58.374062  99.871070  63.411853\n",
      "four  74.869101  39.463191  14.692922  67.549249\n",
      "------\n"
     ]
    }
   ],
   "metadata": {}
  },
  {
   "cell_type": "code",
   "execution_count": 39,
   "source": [
    "# 多重索引：比如同时索引行和列\n",
    "# 先选择列再选择行 —— 相当于对于一个数据，先筛选字段，再选择数据量\n",
    "\n",
    "df = pd.DataFrame(np.random.rand(16).reshape(4,4)*100,\n",
    "                   index = ['one','two','three','four'],\n",
    "                   columns = ['a','b','c','d'])\n",
    "print(df)\n",
    "print('------')\n",
    "\n",
    "print(df['a'].loc[['one','three']])   # 选择a列的one，three行\n",
    "print(df[['b','c','d']].iloc[::2])   # 选择b，c，d列的one，three行\n",
    "print(df[df['a'] < 50].iloc[:2])   # 选择满足判断索引的前两行数据"
   ],
   "outputs": [
    {
     "output_type": "stream",
     "name": "stdout",
     "text": [
      "               a          b          c          d\n",
      "one    80.940081  77.158874  12.674440  99.391796\n",
      "two    94.441344  46.776781  74.866821  84.810324\n",
      "three  92.169993  69.685866  81.677969  43.036726\n",
      "four   52.753566  81.703227  20.821623  33.065038\n",
      "------\n",
      "one      80.940081\n",
      "three    92.169993\n",
      "Name: a, dtype: float64\n",
      "               b          c          d\n",
      "one    77.158874  12.674440  99.391796\n",
      "three  69.685866  81.677969  43.036726\n",
      "Empty DataFrame\n",
      "Columns: [a, b, c, d]\n",
      "Index: []\n"
     ]
    }
   ],
   "metadata": {}
  },
  {
   "cell_type": "code",
   "execution_count": 40,
   "source": [
    "# 数据查看、转置\n",
    "\n",
    "df = pd.DataFrame(np.random.rand(16).reshape(8,2)*100,\n",
    "                   columns = ['a','b'])\n",
    "print(df.head(2))\n",
    "print(df.tail())\n",
    "# .head()查看头部数据\n",
    "# .tail()查看尾部数据\n",
    "# 默认查看5条\n",
    "\n",
    "print(df.T)\n",
    "# .T 转置"
   ],
   "outputs": [
    {
     "output_type": "stream",
     "name": "stdout",
     "text": [
      "           a          b\n",
      "0  54.743950  14.859229\n",
      "1  69.191938  86.947906\n",
      "           a          b\n",
      "3  75.840379  35.207021\n",
      "4  10.608597  61.484335\n",
      "5  40.955099  79.136869\n",
      "6  23.983109  47.857936\n",
      "7  19.873267  81.762089\n",
      "           0          1          2          3          4          5  \\\n",
      "a  54.743950  69.191938  95.131855  75.840379  10.608597  40.955099   \n",
      "b  14.859229  86.947906  47.674380  35.207021  61.484335  79.136869   \n",
      "\n",
      "           6          7  \n",
      "a  23.983109  19.873267  \n",
      "b  47.857936  81.762089  \n"
     ]
    }
   ],
   "metadata": {}
  },
  {
   "cell_type": "code",
   "execution_count": 41,
   "source": [
    "# 添加与修改\n",
    "\n",
    "df = pd.DataFrame(np.random.rand(16).reshape(4,4)*100,\n",
    "                   columns = ['a','b','c','d'])\n",
    "print(df)\n",
    "\n",
    "df['e'] = 10\n",
    "df.loc[4] = 20\n",
    "print(df)\n",
    "# 新增列/行并赋值\n",
    "\n",
    "df['e'] = 20\n",
    "df[['a','c']] = 100\n",
    "print(df)\n",
    "# 索引后直接修改值"
   ],
   "outputs": [
    {
     "output_type": "stream",
     "name": "stdout",
     "text": [
      "           a          b          c          d\n",
      "0  82.462817  91.918851  75.022529  35.506928\n",
      "1  93.741138  85.449692  73.858088   4.779435\n",
      "2   8.903185  81.638551  18.964810  33.153457\n",
      "3  10.943903  88.491762   1.092237  84.812522\n",
      "           a          b          c          d   e\n",
      "0  82.462817  91.918851  75.022529  35.506928  10\n",
      "1  93.741138  85.449692  73.858088   4.779435  10\n",
      "2   8.903185  81.638551  18.964810  33.153457  10\n",
      "3  10.943903  88.491762   1.092237  84.812522  10\n",
      "4  20.000000  20.000000  20.000000  20.000000  20\n",
      "     a          b    c          d   e\n",
      "0  100  91.918851  100  35.506928  20\n",
      "1  100  85.449692  100   4.779435  20\n",
      "2  100  81.638551  100  33.153457  20\n",
      "3  100  88.491762  100  84.812522  20\n",
      "4  100  20.000000  100  20.000000  20\n"
     ]
    }
   ],
   "metadata": {}
  },
  {
   "cell_type": "code",
   "execution_count": 49,
   "source": [
    "# 删除  del / drop()\n",
    "\n",
    "df = pd.DataFrame(np.random.rand(16).reshape(4,4)*100,\n",
    "                   columns = ['a','b','c','d'])\n",
    "print(df)\n",
    "\n",
    "del df['a']\n",
    "print(df)\n",
    "print('-----')\n",
    "# del语句 - 删除列\n",
    "\n",
    "print(df.drop(0))\n",
    "print(df.drop([1,2]))\n",
    "print(df)\n",
    "print('-----')\n",
    "# drop()删除行，inplace=False → 删除后生成新的数据，不改变原数据\n",
    "DF8 =df.drop(['d'], axis = 1)\n",
    "print(DF8)\n",
    "print(df.drop(['d'], axis = 1))#\n",
    "print(df,\"dssdf\")\n",
    "# drop()删除列，需要加上axis = 1，inplace=False → 删除后生成新的数据，不改变原数据"
   ],
   "outputs": [
    {
     "output_type": "stream",
     "name": "stdout",
     "text": [
      "           a          b          c          d\n",
      "0  93.314257  24.403442  63.908569  21.408808\n",
      "1   3.482708  90.735245  89.993881  32.439597\n",
      "2  12.938355  44.637412  58.802012  14.325646\n",
      "3  79.562433  61.974907  62.848169  79.058144\n",
      "           b          c          d\n",
      "0  24.403442  63.908569  21.408808\n",
      "1  90.735245  89.993881  32.439597\n",
      "2  44.637412  58.802012  14.325646\n",
      "3  61.974907  62.848169  79.058144\n",
      "-----\n",
      "           b          c          d\n",
      "1  90.735245  89.993881  32.439597\n",
      "2  44.637412  58.802012  14.325646\n",
      "3  61.974907  62.848169  79.058144\n",
      "           b          c          d\n",
      "0  24.403442  63.908569  21.408808\n",
      "3  61.974907  62.848169  79.058144\n",
      "           b          c          d\n",
      "0  24.403442  63.908569  21.408808\n",
      "1  90.735245  89.993881  32.439597\n",
      "2  44.637412  58.802012  14.325646\n",
      "3  61.974907  62.848169  79.058144\n",
      "-----\n",
      "           b          c\n",
      "0  24.403442  63.908569\n",
      "1  90.735245  89.993881\n",
      "2  44.637412  58.802012\n",
      "3  61.974907  62.848169\n",
      "           b          c\n",
      "0  24.403442  63.908569\n",
      "1  90.735245  89.993881\n",
      "2  44.637412  58.802012\n",
      "3  61.974907  62.848169\n",
      "           b          c          d\n",
      "0  24.403442  63.908569  21.408808\n",
      "1  90.735245  89.993881  32.439597\n",
      "2  44.637412  58.802012  14.325646\n",
      "3  61.974907  62.848169  79.058144 dssdf\n"
     ]
    }
   ],
   "metadata": {}
  },
  {
   "cell_type": "code",
   "execution_count": 50,
   "source": [
    "# 对齐\n",
    "\n",
    "df1 = pd.DataFrame(np.random.randn(10, 4), columns=['A', 'B', 'C', 'D'])\n",
    "df2 = pd.DataFrame(np.random.randn(7, 3), columns=['A', 'B', 'C'])\n",
    "print(df1 + df2)\n",
    "# DataFrame对象之间的数据自动按照列和索引（行标签）对齐"
   ],
   "outputs": [
    {
     "output_type": "stream",
     "name": "stdout",
     "text": [
      "          A         B         C   D\n",
      "0  0.467805 -2.262192  1.597412 NaN\n",
      "1 -1.736723 -0.461554 -1.959471 NaN\n",
      "2  0.720017  1.365267  1.159157 NaN\n",
      "3  0.241534 -0.140154  0.924867 NaN\n",
      "4 -1.423288 -0.929736  0.455688 NaN\n",
      "5  1.062498 -0.755947  1.178373 NaN\n",
      "6  1.781044 -0.916658 -0.783096 NaN\n",
      "7       NaN       NaN       NaN NaN\n",
      "8       NaN       NaN       NaN NaN\n",
      "9       NaN       NaN       NaN NaN\n"
     ]
    }
   ],
   "metadata": {}
  },
  {
   "cell_type": "code",
   "execution_count": 51,
   "source": [
    "# 排序1 - 按值排序 .sort_values\n",
    "# 同样适用于Series\n",
    "\n",
    "df1 = pd.DataFrame(np.random.rand(16).reshape(4,4)*100,\n",
    "                   columns = ['a','b','c','d'])\n",
    "print(df1)\n",
    "print(df1.sort_values(['a'], ascending = True))  # 升序\n",
    "print(df1.sort_values(['a'], ascending = False))  # 降序\n",
    "print('------')\n",
    "# ascending参数：设置升序降序，默认升序\n",
    "# 单列排序\n",
    "\n",
    "df2 = pd.DataFrame({'a':[1,1,1,1,2,2,2,2],\n",
    "                  'b':list(range(8)),\n",
    "                  'c':list(range(8,0,-1))})\n",
    "print(df2)\n",
    "print(df2.sort_values(['a','c']))\n",
    "# 多列排序，按列顺序排序"
   ],
   "outputs": [
    {
     "output_type": "stream",
     "name": "stdout",
     "text": [
      "           a          b          c          d\n",
      "0  71.796341  36.347824  40.456224   3.854152\n",
      "1  76.126611  11.661442  22.322000  62.558092\n",
      "2  37.646850  64.818521  69.274939  22.901258\n",
      "3  84.001801  96.441477   0.539918  43.140794\n",
      "           a          b          c          d\n",
      "2  37.646850  64.818521  69.274939  22.901258\n",
      "0  71.796341  36.347824  40.456224   3.854152\n",
      "1  76.126611  11.661442  22.322000  62.558092\n",
      "3  84.001801  96.441477   0.539918  43.140794\n",
      "           a          b          c          d\n",
      "3  84.001801  96.441477   0.539918  43.140794\n",
      "1  76.126611  11.661442  22.322000  62.558092\n",
      "0  71.796341  36.347824  40.456224   3.854152\n",
      "2  37.646850  64.818521  69.274939  22.901258\n",
      "------\n",
      "   a  b  c\n",
      "0  1  0  8\n",
      "1  1  1  7\n",
      "2  1  2  6\n",
      "3  1  3  5\n",
      "4  2  4  4\n",
      "5  2  5  3\n",
      "6  2  6  2\n",
      "7  2  7  1\n",
      "   a  b  c\n",
      "3  1  3  5\n",
      "2  1  2  6\n",
      "1  1  1  7\n",
      "0  1  0  8\n",
      "7  2  7  1\n",
      "6  2  6  2\n",
      "5  2  5  3\n",
      "4  2  4  4\n"
     ]
    }
   ],
   "metadata": {}
  },
  {
   "cell_type": "code",
   "execution_count": 52,
   "source": [
    "# 排序2 - 索引排序 .sort_index\n",
    "\n",
    "df1 = pd.DataFrame(np.random.rand(16).reshape(4,4)*100,\n",
    "                  index = [5,4,3,2],\n",
    "                   columns = ['a','b','c','d'])\n",
    "df2 = pd.DataFrame(np.random.rand(16).reshape(4,4)*100,\n",
    "                  index = ['h','s','x','g'],\n",
    "                   columns = ['a','b','c','d'])\n",
    "print(df1)\n",
    "print(df1.sort_index())\n",
    "print(df2)\n",
    "print(df2.sort_index())\n",
    "# 按照index排序\n",
    "# 默认 ascending=True, inplace=False"
   ],
   "outputs": [
    {
     "output_type": "stream",
     "name": "stdout",
     "text": [
      "           a          b          c          d\n",
      "5  49.884693  81.937507  55.747611  21.017315\n",
      "4  65.936936  71.626750  78.792014  76.228215\n",
      "3  21.262254  87.319259  63.274237  28.187477\n",
      "2  57.879644  74.716272  23.548198  74.132549\n",
      "           a          b          c          d\n",
      "2  57.879644  74.716272  23.548198  74.132549\n",
      "3  21.262254  87.319259  63.274237  28.187477\n",
      "4  65.936936  71.626750  78.792014  76.228215\n",
      "5  49.884693  81.937507  55.747611  21.017315\n",
      "           a          b          c          d\n",
      "h   5.521021  94.505237  25.385383  43.866351\n",
      "s  19.324657  52.434477  94.829080  52.578108\n",
      "x  13.786810  42.650587  97.643777  16.994520\n",
      "g  54.780064  57.457665  99.447355  23.706289\n",
      "           a          b          c          d\n",
      "g  54.780064  57.457665  99.447355  23.706289\n",
      "h   5.521021  94.505237  25.385383  43.866351\n",
      "s  19.324657  52.434477  94.829080  52.578108\n",
      "x  13.786810  42.650587  97.643777  16.994520\n"
     ]
    }
   ],
   "metadata": {}
  },
  {
   "cell_type": "code",
   "execution_count": null,
   "source": [],
   "outputs": [],
   "metadata": {}
  }
 ]
}