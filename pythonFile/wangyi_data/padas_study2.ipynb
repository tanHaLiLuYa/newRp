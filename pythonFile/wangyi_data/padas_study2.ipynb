{
 "cells": [
  {
   "cell_type": "code",
   "execution_count": 2,
   "source": [
    "import numpy as np\r\n",
    "import pandas as pd\r\n"
   ],
   "outputs": [],
   "metadata": {}
  },
  {
   "cell_type": "code",
   "execution_count": 2,
   "source": [
    "'''\r\n",
    "【课程2.11】  Pandas时期：Period\r\n",
    "\r\n",
    "核心：pd.Period()\r\n",
    "\r\n",
    "'''"
   ],
   "outputs": [
    {
     "output_type": "execute_result",
     "data": {
      "text/plain": [
       "'\\n【课程2.11】  Pandas时期：Period\\n\\n核心：pd.Period()\\n\\n'"
      ]
     },
     "metadata": {},
     "execution_count": 2
    }
   ],
   "metadata": {}
  },
  {
   "cell_type": "code",
   "execution_count": 8,
   "source": [
    "#pd.period() 创建时期\r\n",
    "p = pd.Period('2021',freq='M')\r\n",
    "print(p,type(p))#生成一个以2021-01开始，月为频率的时间构造器\r\n",
    "print(p+1)\r\n",
    "\r\n",
    "print(pd.Period(\"2021\",freq='A-DEC')-1)"
   ],
   "outputs": [
    {
     "output_type": "stream",
     "name": "stdout",
     "text": [
      "2021-01 <class 'pandas._libs.tslibs.period.Period'>\n",
      "2021-02\n",
      "2020\n"
     ]
    }
   ],
   "metadata": {}
  },
  {
   "cell_type": "code",
   "execution_count": 10,
   "source": [
    "# pd.period_range()创建时期范围\r\n",
    "prng = pd.period_range('2017/01/01','2018/1/1',freq='M')\r\n",
    "print(prng)\r\n",
    "# 数据格式为PeriodIndex，单个数值为Period\r\n",
    "ts = pd.Series(np.random.rand(len(prng)),index=prng)\r\n",
    "print(ts,ts.index)"
   ],
   "outputs": [
    {
     "output_type": "stream",
     "name": "stdout",
     "text": [
      "PeriodIndex(['2017-01', '2017-02', '2017-03', '2017-04', '2017-05', '2017-06',\n",
      "             '2017-07', '2017-08', '2017-09', '2017-10', '2017-11', '2017-12',\n",
      "             '2018-01'],\n",
      "            dtype='period[M]', freq='M')\n",
      "2017-01    0.566601\n",
      "2017-02    0.489124\n",
      "2017-03    0.969230\n",
      "2017-04    0.768021\n",
      "2017-05    0.490864\n",
      "2017-06    0.161869\n",
      "2017-07    0.139388\n",
      "2017-08    0.002770\n",
      "2017-09    0.150209\n",
      "2017-10    0.967050\n",
      "2017-11    0.601715\n",
      "2017-12    0.487283\n",
      "2018-01    0.389939\n",
      "Freq: M, dtype: float64 PeriodIndex(['2017-01', '2017-02', '2017-03', '2017-04', '2017-05', '2017-06',\n",
      "             '2017-07', '2017-08', '2017-09', '2017-10', '2017-11', '2017-12',\n",
      "             '2018-01'],\n",
      "            dtype='period[M]', freq='M')\n"
     ]
    }
   ],
   "metadata": {}
  },
  {
   "cell_type": "code",
   "execution_count": 16,
   "source": [
    "# asfreq：频率转换\r\n",
    "p = pd.Period('2017','A-DEC')\r\n",
    "print(p)\r\n",
    "print(p.asfreq('M', how = 'start'))  # 也可写 how = 's'\r\n",
    "print(p.asfreq('D', how = 'end'))  # 也可写 how = 'e'\r\n",
    "print(type(p))\r\n",
    " \r\n",
    "prng = pd.period_range('2017','2018',freq = 'M')\r\n",
    "ts1 = pd.Series(np.random.rand(len(prng)), index = prng)\r\n",
    "ts2 = pd.Series(np.random.rand(len(prng)), index = prng.asfreq('D', how = 'start'))\r\n",
    "print(ts1.head(),len(ts1))\r\n",
    "print(ts2.head(),len(ts2))"
   ],
   "outputs": [
    {
     "output_type": "stream",
     "name": "stdout",
     "text": [
      "2017\n",
      "2017-01\n",
      "2017-12-31\n",
      "<class 'pandas._libs.tslibs.period.Period'>\n",
      "2017-01    0.945759\n",
      "2017-02    0.077760\n",
      "2017-03    0.641674\n",
      "2017-04    0.042739\n",
      "2017-05    0.995743\n",
      "Freq: M, dtype: float64 13\n",
      "2017-01-01    0.944640\n",
      "2017-02-01    0.276523\n",
      "2017-03-01    0.690687\n",
      "2017-04-01    0.446441\n",
      "2017-05-01    0.673438\n",
      "Freq: D, dtype: float64 13\n"
     ]
    }
   ],
   "metadata": {}
  },
  {
   "cell_type": "code",
   "execution_count": 24,
   "source": [
    "# 时间戳与时期之间的转换：pd.to_period()、pd.to_timestamp()\r\n",
    "rng = pd.date_range('2017/1/1', periods = 10, freq = 'M')\r\n",
    "prng = pd.period_range('2017','2018', freq = 'M')\r\n",
    "# print(rng,prng)\r\n",
    "ts1 = pd.Series(np.random.rand(len(rng)), index = rng)\r\n",
    "print(ts1.head())\r\n",
    "print(ts1.to_period().head())\r\n",
    "# 每月最后一日，转化为每月\r\n",
    "\r\n",
    "ts2 = pd.Series(np.random.rand(len(prng)), index = prng)\r\n",
    "print(ts2.head())\r\n",
    "print(ts2.to_timestamp().head())\r\n",
    "# 每月，转化为每月第一天\r\n"
   ],
   "outputs": [
    {
     "output_type": "stream",
     "name": "stdout",
     "text": [
      "DatetimeIndex(['2017-01-31', '2017-02-28', '2017-03-31', '2017-04-30',\n",
      "               '2017-05-31', '2017-06-30', '2017-07-31', '2017-08-31',\n",
      "               '2017-09-30', '2017-10-31'],\n",
      "              dtype='datetime64[ns]', freq='M') PeriodIndex(['2017-01', '2017-02', '2017-03', '2017-04', '2017-05', '2017-06',\n",
      "             '2017-07', '2017-08', '2017-09', '2017-10', '2017-11', '2017-12',\n",
      "             '2018-01'],\n",
      "            dtype='period[M]', freq='M')\n",
      "2017-01    0.580678\n",
      "2017-02    0.497000\n",
      "2017-03    0.401155\n",
      "2017-04    0.979789\n",
      "2017-05    0.954586\n",
      "Freq: M, dtype: float64\n",
      "2017-01-01    0.580678\n",
      "2017-02-01    0.497000\n",
      "2017-03-01    0.401155\n",
      "2017-04-01    0.979789\n",
      "2017-05-01    0.954586\n",
      "Freq: MS, dtype: float64\n"
     ]
    }
   ],
   "metadata": {}
  },
  {
   "cell_type": "code",
   "execution_count": 28,
   "source": [
    "# zuoye 2.11 \r\n",
    "prng = pd.period_range('2018/1/1','2018/05/01',freq='M')\r\n",
    "print(prng)\r\n",
    "ts =pd.Series(np.random.rand(len(prng)),index=prng)\r\n",
    "print(ts)\r\n",
    "rng =pd.period_range('20170101',periods = 5,freq = '2H')\r\n",
    "ts =pd.Series(np.random.rand(len(prng)),index=rng)\r\n",
    "print(ts)"
   ],
   "outputs": [
    {
     "output_type": "stream",
     "name": "stdout",
     "text": [
      "PeriodIndex(['2018-01', '2018-02', '2018-03', '2018-04', '2018-05'], dtype='period[M]', freq='M')\n",
      "2018-01    0.446803\n",
      "2018-02    0.651033\n",
      "2018-03    0.703166\n",
      "2018-04    0.591899\n",
      "2018-05    0.588347\n",
      "Freq: M, dtype: float64\n",
      "2017-01-01 00:00    0.436555\n",
      "2017-01-01 02:00    0.653791\n",
      "2017-01-01 04:00    0.121371\n",
      "2017-01-01 06:00    0.739902\n",
      "2017-01-01 08:00    0.071187\n",
      "Freq: 2H, dtype: float64\n"
     ]
    }
   ],
   "metadata": {}
  },
  {
   "cell_type": "code",
   "execution_count": 29,
   "source": [
    "'''\r\n",
    "【课程2.12】  时间序列 - 索引及切片\r\n",
    "\r\n",
    "TimeSeries是Series的一个子类，所以Series索引及数据选取方面的方法基本一样\r\n",
    "\r\n",
    "同时TimeSeries通过时间序列有更便捷的方法做索引和切片\r\n",
    " \r\n",
    "'''"
   ],
   "outputs": [
    {
     "output_type": "execute_result",
     "data": {
      "text/plain": [
       "'\\n【课程2.12】  时间序列 - 索引及切片\\n\\nTimeSeries是Series的一个子类，所以Series索引及数据选取方面的方法基本一样\\n\\n同时TimeSeries通过时间序列有更便捷的方法做索引和切片\\n \\n'"
      ]
     },
     "metadata": {},
     "execution_count": 29
    }
   ],
   "metadata": {}
  },
  {
   "cell_type": "code",
   "execution_count": 30,
   "source": [
    "from datetime import datetime\r\n",
    "\r\n",
    "rng = pd.date_range('2017/1','2017/3')\r\n",
    "ts = pd.Series(np.random.rand(len(rng)), index = rng)\r\n",
    "print(ts.head())\r\n",
    "\r\n",
    "print(ts[0])\r\n",
    "print(ts[:2])\r\n",
    "\r\n",
    "print(ts['2017/1/2'])\r\n",
    "print(ts['20170103'])\r\n",
    "print(ts['1/10/2017'])\r\n",
    "print(ts[datetime(2017,1,20)])\r\n",
    "print('-----')\r\n",
    "# 时间序列标签索引，支持各种时间字符串，以及datetime.datetime\r\n"
   ],
   "outputs": [
    {
     "output_type": "stream",
     "name": "stdout",
     "text": [
      "2017-01-01    0.395795\n",
      "2017-01-02    0.453174\n",
      "2017-01-03    0.760817\n",
      "2017-01-04    0.832840\n",
      "2017-01-05    0.586584\n",
      "Freq: D, dtype: float64\n",
      "0.3957949501741691\n",
      "2017-01-01    0.395795\n",
      "2017-01-02    0.453174\n",
      "Freq: D, dtype: float64\n",
      "0.4531741701934695\n",
      "0.7608171720124797\n",
      "0.5596174617045547\n",
      "0.14226241610230295\n",
      "-----\n"
     ]
    }
   ],
   "metadata": {}
  },
  {
   "cell_type": "code",
   "execution_count": 31,
   "source": [
    "# 切片\r\n",
    "\r\n",
    "rng = pd.date_range('2017/1','2017/3',freq = '12H')\r\n",
    "ts = pd.Series(np.random.rand(len(rng)), index = rng)\r\n",
    "\r\n",
    "print(ts['2017/1/5':'2017/1/10'])\r\n",
    "print('-----')\r\n",
    "# 和Series按照index索引原理一样，也是末端包含\r\n",
    "\r\n",
    "print(ts['2017/2'].head())\r\n",
    "# 传入月，直接得到一个切片"
   ],
   "outputs": [
    {
     "output_type": "stream",
     "name": "stdout",
     "text": [
      "2017-01-05 00:00:00    0.238275\n",
      "2017-01-05 12:00:00    0.721372\n",
      "2017-01-06 00:00:00    0.199228\n",
      "2017-01-06 12:00:00    0.399729\n",
      "2017-01-07 00:00:00    0.317026\n",
      "2017-01-07 12:00:00    0.911027\n",
      "2017-01-08 00:00:00    0.372313\n",
      "2017-01-08 12:00:00    0.532765\n",
      "2017-01-09 00:00:00    0.621234\n",
      "2017-01-09 12:00:00    0.605607\n",
      "2017-01-10 00:00:00    0.459058\n",
      "2017-01-10 12:00:00    0.885002\n",
      "Freq: 12H, dtype: float64\n",
      "-----\n",
      "2017-02-01 00:00:00    0.688301\n",
      "2017-02-01 12:00:00    0.678053\n",
      "2017-02-02 00:00:00    0.490581\n",
      "2017-02-02 12:00:00    0.927417\n",
      "2017-02-03 00:00:00    0.003690\n",
      "Freq: 12H, dtype: float64\n"
     ]
    }
   ],
   "metadata": {}
  },
  {
   "cell_type": "code",
   "execution_count": 32,
   "source": [
    "# 重复索引的时间序列\r\n",
    "\r\n",
    "dates = pd.DatetimeIndex(['1/1/2015','1/2/2015','1/3/2015','1/4/2015','1/1/2015','1/2/2015'])\r\n",
    "ts = pd.Series(np.random.rand(6), index = dates)\r\n",
    "print(ts)\r\n",
    "print(ts.is_unique,ts.index.is_unique)\r\n",
    "print('-----')\r\n",
    "# index有重复，is_unique检查 → values唯一，index不唯一\r\n",
    "\r\n",
    "print(ts['20150101'],type(ts['20150101']))\r\n",
    "print(ts['20150104'],type(ts['20150104']))\r\n",
    "print('-----')\r\n",
    "# index有重复的将返回多个值\r\n",
    "\r\n",
    "print(ts.groupby(level = 0).mean())\r\n",
    "# 通过groupby做分组，重复的值这里用平均值处理"
   ],
   "outputs": [
    {
     "output_type": "stream",
     "name": "stdout",
     "text": [
      "2015-01-01    0.540837\n",
      "2015-01-02    0.032742\n",
      "2015-01-03    0.955764\n",
      "2015-01-04    0.489369\n",
      "2015-01-01    0.937500\n",
      "2015-01-02    0.002994\n",
      "dtype: float64\n",
      "True False\n",
      "-----\n",
      "2015-01-01    0.540837\n",
      "2015-01-01    0.937500\n",
      "dtype: float64 <class 'pandas.core.series.Series'>\n",
      "2015-01-04    0.489369\n",
      "dtype: float64 <class 'pandas.core.series.Series'>\n",
      "-----\n",
      "2015-01-01    0.739168\n",
      "2015-01-02    0.017868\n",
      "2015-01-03    0.955764\n",
      "2015-01-04    0.489369\n",
      "dtype: float64\n"
     ]
    }
   ],
   "metadata": {}
  },
  {
   "cell_type": "code",
   "execution_count": 46,
   "source": [
    "# \t作业1：如图创建时间序列(10*3，值为0-100的随机数)，通过索引得到以下值\r\n",
    "# ① 索引得到前4行的所有值\r\n",
    "# ② 索引得到2017-12-4 12:00:00的数据\r\n",
    "# ③ 索引得到2017-12-4 - 2017-12-5的数据\r\n",
    "\r\n",
    "rng = pd.date_range('20181201',periods=10,freq='12H')\r\n",
    "# print(rng)\r\n",
    "df = pd.DataFrame(np.random.rand(30).reshape(10,3)*100,index=rng,columns=['v1','v2','v3'])\r\n",
    "print(df[:4])\r\n",
    "print(df.loc['2018/12/01 12:00:00'])#加loc \r\n",
    "print(df['20181202':'20181203'])\r\n",
    "\r\n",
    "\r\n"
   ],
   "outputs": [
    {
     "output_type": "stream",
     "name": "stdout",
     "text": [
      "                            v1         v2         v3\n",
      "2018-12-01 00:00:00  90.487522  94.147874  69.874730\n",
      "2018-12-01 12:00:00  10.716080  84.578790  55.702086\n",
      "2018-12-02 00:00:00  70.832493  29.028602  45.071834\n",
      "2018-12-02 12:00:00  92.924055  70.796957  73.226713\n",
      "v1    10.716080\n",
      "v2    84.578790\n",
      "v3    55.702086\n",
      "Name: 2018-12-01 12:00:00, dtype: float64\n",
      "                            v1         v2         v3\n",
      "2018-12-02 00:00:00  70.832493  29.028602  45.071834\n",
      "2018-12-02 12:00:00  92.924055  70.796957  73.226713\n",
      "2018-12-03 00:00:00  13.688554  45.095172  95.311193\n",
      "2018-12-03 12:00:00  90.834791  82.539746  59.187537\n"
     ]
    }
   ],
   "metadata": {}
  },
  {
   "cell_type": "code",
   "execution_count": 47,
   "source": [
    "'''\r\n",
    "【课程2.13】  时间序列 - 重采样\r\n",
    "\r\n",
    "将时间序列从一个频率转换为另一个频率的过程，且会有数据的结合\r\n",
    "\r\n",
    "降采样：高频数据 → 低频数据，eg.以天为频率的数据转为以月为频率的数据\r\n",
    "升采样：低频数据 → 高频数据，eg.以年为频率的数据转为以月为频率的数据\r\n",
    " \r\n",
    "'''"
   ],
   "outputs": [
    {
     "output_type": "execute_result",
     "data": {
      "text/plain": [
       "'\\n【课程2.13】  时间序列 - 重采样\\n\\n将时间序列从一个频率转换为另一个频率的过程，且会有数据的结合\\n\\n降采样：高频数据 → 低频数据，eg.以天为频率的数据转为以月为频率的数据\\n升采样：低频数据 → 高频数据，eg.以年为频率的数据转为以月为频率的数据\\n \\n'"
      ]
     },
     "metadata": {},
     "execution_count": 47
    }
   ],
   "metadata": {}
  },
  {
   "cell_type": "code",
   "execution_count": 50,
   "source": [
    "# 重采样：.resample()\r\n",
    "rng = pd.date_range('20170101', periods = 12)\r\n",
    "ts = pd.Series(np.arange(12), index = rng)\r\n",
    "\r\n",
    "ts_re = ts.resample('5D')\r\n",
    "# print(ts,ts_re)\r\n",
    "# ts.resample('5D')：得到一个重采样构建器，频率改为5天\r\n",
    "ts_re2 = ts.resample('5D').ohlc()\r\n",
    "print(ts_re2)"
   ],
   "outputs": [
    {
     "output_type": "stream",
     "name": "stdout",
     "text": [
      "            open  high  low  close\n",
      "2017-01-01     0     4    0      4\n",
      "2017-01-06     5     9    5      9\n",
      "2017-01-11    10    11   10     11\n"
     ]
    }
   ],
   "metadata": {}
  },
  {
   "cell_type": "code",
   "execution_count": 61,
   "source": [
    "# 降采样\r\n",
    "\r\n",
    "rng = pd.date_range('20170101', periods = 12)\r\n",
    "ts = pd.Series(np.arange(1,13), index = rng)\r\n",
    "# print(ts)\r\n",
    "print(ts.resample('5d',closed='right').sum())\r\n",
    "print(ts.resample('5d').sum())\r\n",
    "# closed：各时间段哪一端是闭合（即包含）的，默认 左闭右闭\r\n",
    "# closed = right 时 左开右闭区间 为一下区间\r\n",
    "# 区间1：(27, 1]\r\n",
    "# 区间2：(1, 6]\r\n",
    "# 区间3: (6, 11]\r\n",
    "# 区间4：(11, 16]\r\n",
    "\r\n",
    "\r\n",
    "# print(ts.resample('5D', label = 'left').sum(),'→ leftlabel\\n')\r\n",
    "# print(ts.resample('5D', label = 'right').sum(),'→ rightlabel\\n')\r\n",
    "# label：聚合值的index，默认为取左\r\n",
    "# 值采样为默认（这里closed默认）\r\n",
    "\r\n",
    "\r\n",
    "\r\n",
    "# https://www.jb51.net/article/176110.htm"
   ],
   "outputs": [
    {
     "output_type": "stream",
     "name": "stdout",
     "text": [
      "2016-12-27     1\n",
      "2017-01-01    20\n",
      "2017-01-06    45\n",
      "2017-01-11    12\n",
      "Freq: 5D, dtype: int32\n",
      "2017-01-01    15\n",
      "2017-01-06    40\n",
      "2017-01-11    23\n",
      "Freq: 5D, dtype: int32\n"
     ]
    }
   ],
   "metadata": {}
  },
  {
   "cell_type": "code",
   "execution_count": 62,
   "source": [
    "# 升采样及插值\r\n",
    "\r\n",
    "rng = pd.date_range('2017/1/1 0:0:0', periods = 5, freq = 'H')\r\n",
    "ts = pd.DataFrame(np.arange(15).reshape(5,3),\r\n",
    "                  index = rng,\r\n",
    "                  columns = ['a','b','c'])\r\n",
    "print(ts)\r\n",
    "\r\n",
    "print(ts.resample('15T').asfreq())\r\n",
    "print(ts.resample('15T').ffill())\r\n",
    "print(ts.resample('15T').bfill())\r\n",
    "# 低频转高频，主要是如何插值\r\n",
    "# .asfreq()：不做填充，返回Nan\r\n",
    "# .ffill()：向上填充\r\n",
    "# .bfill()：向下填充"
   ],
   "outputs": [
    {
     "output_type": "stream",
     "name": "stdout",
     "text": [
      "                      a   b   c\n",
      "2017-01-01 00:00:00   0   1   2\n",
      "2017-01-01 01:00:00   3   4   5\n",
      "2017-01-01 02:00:00   6   7   8\n",
      "2017-01-01 03:00:00   9  10  11\n",
      "2017-01-01 04:00:00  12  13  14\n",
      "                        a     b     c\n",
      "2017-01-01 00:00:00   0.0   1.0   2.0\n",
      "2017-01-01 00:15:00   NaN   NaN   NaN\n",
      "2017-01-01 00:30:00   NaN   NaN   NaN\n",
      "2017-01-01 00:45:00   NaN   NaN   NaN\n",
      "2017-01-01 01:00:00   3.0   4.0   5.0\n",
      "2017-01-01 01:15:00   NaN   NaN   NaN\n",
      "2017-01-01 01:30:00   NaN   NaN   NaN\n",
      "2017-01-01 01:45:00   NaN   NaN   NaN\n",
      "2017-01-01 02:00:00   6.0   7.0   8.0\n",
      "2017-01-01 02:15:00   NaN   NaN   NaN\n",
      "2017-01-01 02:30:00   NaN   NaN   NaN\n",
      "2017-01-01 02:45:00   NaN   NaN   NaN\n",
      "2017-01-01 03:00:00   9.0  10.0  11.0\n",
      "2017-01-01 03:15:00   NaN   NaN   NaN\n",
      "2017-01-01 03:30:00   NaN   NaN   NaN\n",
      "2017-01-01 03:45:00   NaN   NaN   NaN\n",
      "2017-01-01 04:00:00  12.0  13.0  14.0\n",
      "                      a   b   c\n",
      "2017-01-01 00:00:00   0   1   2\n",
      "2017-01-01 00:15:00   0   1   2\n",
      "2017-01-01 00:30:00   0   1   2\n",
      "2017-01-01 00:45:00   0   1   2\n",
      "2017-01-01 01:00:00   3   4   5\n",
      "2017-01-01 01:15:00   3   4   5\n",
      "2017-01-01 01:30:00   3   4   5\n",
      "2017-01-01 01:45:00   3   4   5\n",
      "2017-01-01 02:00:00   6   7   8\n",
      "2017-01-01 02:15:00   6   7   8\n",
      "2017-01-01 02:30:00   6   7   8\n",
      "2017-01-01 02:45:00   6   7   8\n",
      "2017-01-01 03:00:00   9  10  11\n",
      "2017-01-01 03:15:00   9  10  11\n",
      "2017-01-01 03:30:00   9  10  11\n",
      "2017-01-01 03:45:00   9  10  11\n",
      "2017-01-01 04:00:00  12  13  14\n",
      "                      a   b   c\n",
      "2017-01-01 00:00:00   0   1   2\n",
      "2017-01-01 00:15:00   3   4   5\n",
      "2017-01-01 00:30:00   3   4   5\n",
      "2017-01-01 00:45:00   3   4   5\n",
      "2017-01-01 01:00:00   3   4   5\n",
      "2017-01-01 01:15:00   6   7   8\n",
      "2017-01-01 01:30:00   6   7   8\n",
      "2017-01-01 01:45:00   6   7   8\n",
      "2017-01-01 02:00:00   6   7   8\n",
      "2017-01-01 02:15:00   9  10  11\n",
      "2017-01-01 02:30:00   9  10  11\n",
      "2017-01-01 02:45:00   9  10  11\n",
      "2017-01-01 03:00:00   9  10  11\n",
      "2017-01-01 03:15:00  12  13  14\n",
      "2017-01-01 03:30:00  12  13  14\n",
      "2017-01-01 03:45:00  12  13  14\n",
      "2017-01-01 04:00:00  12  13  14\n"
     ]
    }
   ],
   "metadata": {}
  },
  {
   "cell_type": "code",
   "execution_count": 68,
   "source": [
    "# 时期重采样 - Period\r\n",
    "\r\n",
    "prng = pd.period_range('2016','2017',freq = 'M')\r\n",
    "ts = pd.Series(np.arange(len(prng)), index = prng)\r\n",
    "print(ts,type(ts.index))\r\n",
    "ts.index = prng.astype('datetime64[ns]')\r\n",
    "print(ts,type(ts.index))\r\n",
    "print(ts.resample('3M').sum())  # 降采样\r\n",
    "print(ts.resample('15D').ffill())  # 升采样"
   ],
   "outputs": [
    {
     "output_type": "stream",
     "name": "stdout",
     "text": [
      "2016-01     0\n",
      "2016-02     1\n",
      "2016-03     2\n",
      "2016-04     3\n",
      "2016-05     4\n",
      "2016-06     5\n",
      "2016-07     6\n",
      "2016-08     7\n",
      "2016-09     8\n",
      "2016-10     9\n",
      "2016-11    10\n",
      "2016-12    11\n",
      "2017-01    12\n",
      "Freq: M, dtype: int32 <class 'pandas.core.indexes.period.PeriodIndex'>\n",
      "2016-01-01     0\n",
      "2016-02-01     1\n",
      "2016-03-01     2\n",
      "2016-04-01     3\n",
      "2016-05-01     4\n",
      "2016-06-01     5\n",
      "2016-07-01     6\n",
      "2016-08-01     7\n",
      "2016-09-01     8\n",
      "2016-10-01     9\n",
      "2016-11-01    10\n",
      "2016-12-01    11\n",
      "2017-01-01    12\n",
      "Freq: MS, dtype: int32 <class 'pandas.core.indexes.datetimes.DatetimeIndex'>\n",
      "2016-01-31     0\n",
      "2016-04-30     6\n",
      "2016-07-31    15\n",
      "2016-10-31    24\n",
      "2017-01-31    33\n",
      "Freq: 3M, dtype: int32\n",
      "2016-01-01     0\n",
      "2016-01-16     0\n",
      "2016-01-31     0\n",
      "2016-02-15     1\n",
      "2016-03-01     2\n",
      "2016-03-16     2\n",
      "2016-03-31     2\n",
      "2016-04-15     3\n",
      "2016-04-30     3\n",
      "2016-05-15     4\n",
      "2016-05-30     4\n",
      "2016-06-14     5\n",
      "2016-06-29     5\n",
      "2016-07-14     6\n",
      "2016-07-29     6\n",
      "2016-08-13     7\n",
      "2016-08-28     7\n",
      "2016-09-12     8\n",
      "2016-09-27     8\n",
      "2016-10-12     9\n",
      "2016-10-27     9\n",
      "2016-11-11    10\n",
      "2016-11-26    10\n",
      "2016-12-11    11\n",
      "2016-12-26    11\n",
      "Freq: 15D, dtype: int32\n"
     ]
    }
   ],
   "metadata": {}
  },
  {
   "cell_type": "code",
   "execution_count": 6,
   "source": [
    "# zuoye\r\n",
    "ts = pd.Series(np.random.rand(10),index=pd.date_range('20170101',periods=10))\r\n",
    "print(ts)\r\n",
    "ts1 =ts.resample(\"3D\").mean()\r\n",
    "print(ts1)\r\n",
    "ts2 =ts.resample(\"12H\").ffill()\r\n",
    "print(ts2)"
   ],
   "outputs": [
    {
     "output_type": "stream",
     "name": "stdout",
     "text": [
      "2017-01-01    0.082482\n",
      "2017-01-02    0.392314\n",
      "2017-01-03    0.297335\n",
      "2017-01-04    0.020459\n",
      "2017-01-05    0.375904\n",
      "2017-01-06    0.100553\n",
      "2017-01-07    0.284246\n",
      "2017-01-08    0.877640\n",
      "2017-01-09    0.523692\n",
      "2017-01-10    0.218646\n",
      "Freq: D, dtype: float64\n",
      "2017-01-01    0.257377\n",
      "2017-01-04    0.165639\n",
      "2017-01-07    0.561859\n",
      "2017-01-10    0.218646\n",
      "Freq: 3D, dtype: float64\n",
      "2017-01-01 00:00:00    0.082482\n",
      "2017-01-01 12:00:00    0.082482\n",
      "2017-01-02 00:00:00    0.392314\n",
      "2017-01-02 12:00:00    0.392314\n",
      "2017-01-03 00:00:00    0.297335\n",
      "2017-01-03 12:00:00    0.297335\n",
      "2017-01-04 00:00:00    0.020459\n",
      "2017-01-04 12:00:00    0.020459\n",
      "2017-01-05 00:00:00    0.375904\n",
      "2017-01-05 12:00:00    0.375904\n",
      "2017-01-06 00:00:00    0.100553\n",
      "2017-01-06 12:00:00    0.100553\n",
      "2017-01-07 00:00:00    0.284246\n",
      "2017-01-07 12:00:00    0.284246\n",
      "2017-01-08 00:00:00    0.877640\n",
      "2017-01-08 12:00:00    0.877640\n",
      "2017-01-09 00:00:00    0.523692\n",
      "2017-01-09 12:00:00    0.523692\n",
      "2017-01-10 00:00:00    0.218646\n",
      "Freq: 12H, dtype: float64\n"
     ]
    }
   ],
   "metadata": {}
  },
  {
   "cell_type": "code",
   "execution_count": null,
   "source": [],
   "outputs": [],
   "metadata": {}
  }
 ],
 "metadata": {
  "orig_nbformat": 4,
  "language_info": {
   "name": "python",
   "version": "3.7.3",
   "mimetype": "text/x-python",
   "codemirror_mode": {
    "name": "ipython",
    "version": 3
   },
   "pygments_lexer": "ipython3",
   "nbconvert_exporter": "python",
   "file_extension": ".py"
  },
  "kernelspec": {
   "name": "python3",
   "display_name": "Python 3.7.3 64-bit ('base': conda)"
  },
  "interpreter": {
   "hash": "44a0b5136230a04540a6d2bd3ef3a3c24910c5bb0f570f8de4cbe8de6740ef8c"
  }
 },
 "nbformat": 4,
 "nbformat_minor": 2
}