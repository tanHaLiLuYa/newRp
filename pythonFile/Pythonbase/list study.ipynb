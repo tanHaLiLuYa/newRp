{
 "metadata": {
  "language_info": {
   "codemirror_mode": {
    "name": "ipython",
    "version": 3
   },
   "file_extension": ".py",
   "mimetype": "text/x-python",
   "name": "python",
   "nbconvert_exporter": "python",
   "pygments_lexer": "ipython3",
   "version": "3.7.4-final"
  },
  "orig_nbformat": 2,
  "kernelspec": {
   "name": "python37464bit1e310bc16b6c41719bf310e6bf0cbf7d",
   "display_name": "Python 3.7.4 64-bit"
  }
 },
 "nbformat": 4,
 "nbformat_minor": 2,
 "cells": [
  {
   "cell_type": "code",
   "execution_count": 2,
   "metadata": {
    "tags": []
   },
   "outputs": [
    {
     "output_type": "stream",
     "name": "stdout",
     "text": "[1, 100, 3, 4]\n"
    }
   ],
   "source": [
    "#copy 和 =\n",
    "\n",
    "somelist = [1,2,3,4]\n",
    "b = somelist \n",
    "b[1]=100\n",
    "print(somelist)\n"
   ]
  },
  {
   "cell_type": "code",
   "execution_count": 3,
   "metadata": {
    "tags": []
   },
   "outputs": [
    {
     "output_type": "stream",
     "name": "stdout",
     "text": "[1, 2, 3, 4]\n"
    }
   ],
   "source": [
    "#copy 和 = ; copy is a new list ; \"=\" is just a name tag to the old one \n",
    "\n",
    "somelist = [1,2,3,4]\n",
    "b = somelist.copy() # equal \" b = somelist[:]\"\n",
    "b[1]=100\n",
    "print(somelist)"
   ]
  },
  {
   "cell_type": "code",
   "execution_count": 3,
   "metadata": {
    "tags": []
   },
   "outputs": [
    {
     "output_type": "stream",
     "name": "stdout",
     "text": "[1, 2, 3, 4]\n"
    }
   ],
   "source": [
    "somelist = [1,2,3,4]\n",
    "b = somelist[:] # equal \" b = somelist[:]\" or \" b = list(a)\"\n",
    "b[1]=100\n",
    "print(somelist)"
   ]
  },
  {
   "cell_type": "code",
   "execution_count": null,
   "metadata": {},
   "outputs": [],
   "source": [
    "#LIFO stack\n",
    "class stack1:\n",
    "    def __init__(self):\n",
    "        self.list = []\n",
    "    def pushin(self,num):\n",
    "        self.list.append(num)\n",
    "    def popout(self):\n",
    "        if self.list!=[]:\n",
    "            self.list.pop()\n",
    "\n",
    "tst =stack1()\n",
    "tst.pushin(1)\n",
    "tst.pushin(2)\n",
    "tst.pushin(3)\n",
    "tst.popout()\n",
    "tst.list"
   ]
  },
  {
   "cell_type": "code",
   "execution_count": null,
   "metadata": {},
   "outputs": [],
   "source": []
  }
 ]
}